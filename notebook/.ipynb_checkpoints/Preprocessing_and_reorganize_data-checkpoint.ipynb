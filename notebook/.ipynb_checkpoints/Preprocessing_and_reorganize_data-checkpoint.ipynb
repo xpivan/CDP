{
 "cells": [
  {
   "cell_type": "markdown",
   "metadata": {
    "papermill": {
     "duration": 0.045143,
     "end_time": "2020-10-14T18:48:42.982345",
     "exception": false,
     "start_time": "2020-10-14T18:48:42.937202",
     "status": "completed"
    },
    "tags": []
   },
   "source": [
    "# CDP Competition \n"
   ]
  },
  {
   "cell_type": "markdown",
   "metadata": {
    "papermill": {
     "duration": 0.042106,
     "end_time": "2020-10-14T18:48:43.067574",
     "exception": false,
     "start_time": "2020-10-14T18:48:43.025468",
     "status": "completed"
    },
    "tags": []
   },
   "source": [
    "## Imports"
   ]
  },
  {
   "cell_type": "code",
   "execution_count": 1,
   "metadata": {
    "execution": {
     "iopub.execute_input": "2020-10-14T18:48:43.164074Z",
     "iopub.status.busy": "2020-10-14T18:48:43.163266Z",
     "iopub.status.idle": "2020-10-14T18:48:46.904523Z",
     "shell.execute_reply": "2020-10-14T18:48:46.905171Z"
    },
    "papermill": {
     "duration": 3.795294,
     "end_time": "2020-10-14T18:48:46.905392",
     "exception": false,
     "start_time": "2020-10-14T18:48:43.110098",
     "status": "completed"
    },
    "tags": []
   },
   "outputs": [
    {
     "data": {
      "text/html": [
       "        <script type=\"text/javascript\">\n",
       "        window.PlotlyConfig = {MathJaxConfig: 'local'};\n",
       "        if (window.MathJax) {MathJax.Hub.Config({SVG: {font: \"STIX-Web\"}});}\n",
       "        if (typeof require !== 'undefined') {\n",
       "        require.undef(\"plotly\");\n",
       "        requirejs.config({\n",
       "            paths: {\n",
       "                'plotly': ['https://cdn.plot.ly/plotly-latest.min']\n",
       "            }\n",
       "        });\n",
       "        require(['plotly'], function(Plotly) {\n",
       "            window._Plotly = Plotly;\n",
       "        });\n",
       "        }\n",
       "        </script>\n",
       "        "
      ]
     },
     "metadata": {},
     "output_type": "display_data"
    },
    {
     "name": "stdout",
     "output_type": "stream",
     "text": [
      "/Users/xavier/Projets/Kaggle/CDP/CDP/notebook\n"
     ]
    }
   ],
   "source": [
    "# standard libs\n",
    "import os\n",
    "import pandas as pd\n",
    "import numpy as np\n",
    "import matplotlib.pyplot as plt\n",
    "import re\n",
    "import json\n",
    "from IPython.core.debugger import set_trace\n",
    "\n",
    "# plotting libs\n",
    "import seaborn as sns\n",
    "\n",
    "# geospatial libs\n",
    "# from mpl_toolkits.basemap import Basemap\n",
    "from shapely.geometry import Polygon\n",
    "import geopandas as gpd\n",
    "import folium\n",
    "import plotly.graph_objects as go\n",
    "import plotly_express as px\n",
    "\n",
    "# set in line plotly \n",
    "from plotly.offline import init_notebook_mode;\n",
    "init_notebook_mode(connected=True)\n",
    "\n",
    "print(os.getcwd())\n",
    "\n",
    "from sklearn.base import BaseEstimator, TransformerMixin\n",
    "from sklearn.feature_extraction.text import CountVectorizer\n",
    "from sklearn.feature_extraction.text import TfidfVectorizer\n",
    "from sklearn.model_selection import GridSearchCV\n",
    "from sklearn.model_selection import train_test_split\n",
    "from sklearn.pipeline import Pipeline, FeatureUnion\n",
    "from sklearn.metrics import classification_report\n",
    "from sklearn.naive_bayes import MultinomialNB\n",
    "from sklearn.linear_model import LogisticRegression"
   ]
  },
  {
   "cell_type": "markdown",
   "metadata": {
    "papermill": {
     "duration": 0.043698,
     "end_time": "2020-10-14T18:48:46.993685",
     "exception": false,
     "start_time": "2020-10-14T18:48:46.949987",
     "status": "completed"
    },
    "tags": []
   },
   "source": [
    "## Data\n",
    "\n",
    "### Import Data"
   ]
  },
  {
   "cell_type": "code",
   "execution_count": 2,
   "metadata": {
    "execution": {
     "iopub.execute_input": "2020-10-14T18:48:47.109083Z",
     "iopub.status.busy": "2020-10-14T18:48:47.108149Z",
     "iopub.status.idle": "2020-10-14T18:49:03.250764Z",
     "shell.execute_reply": "2020-10-14T18:49:03.249797Z"
    },
    "papermill": {
     "duration": 16.211145,
     "end_time": "2020-10-14T18:49:03.250917",
     "exception": false,
     "start_time": "2020-10-14T18:48:47.039772",
     "status": "completed"
    },
    "tags": []
   },
   "outputs": [
    {
     "name": "stderr",
     "output_type": "stream",
     "text": [
      "/Users/xavier/Projets/Kaggle/CDP/CDPenv/lib/python3.9/site-packages/IPython/core/interactiveshell.py:3146: DtypeWarning:\n",
      "\n",
      "Columns (19) have mixed types.Specify dtype option on import or set low_memory=False.\n",
      "\n"
     ]
    }
   ],
   "source": [
    "# import corporate response data\n",
    "cc_df = pd.read_csv('../../input/cdp-unlocking-climate-solutions/Corporations/Corporations Responses/Climate Change/2019_Full_Climate_Change_Dataset.csv')\n",
    "ws_df = pd.read_csv('../../input/cdp-unlocking-climate-solutions/Corporations/Corporations Responses/Water Security/2019_Full_Water_Security_Dataset.csv')"
   ]
  },
  {
   "cell_type": "code",
   "execution_count": 3,
   "metadata": {
    "execution": {
     "iopub.execute_input": "2020-10-14T18:49:03.361197Z",
     "iopub.status.busy": "2020-10-14T18:49:03.360365Z",
     "iopub.status.idle": "2020-10-14T18:49:13.493160Z",
     "shell.execute_reply": "2020-10-14T18:49:13.492234Z"
    },
    "papermill": {
     "duration": 10.19765,
     "end_time": "2020-10-14T18:49:13.493315",
     "exception": false,
     "start_time": "2020-10-14T18:49:03.295665",
     "status": "completed"
    },
    "tags": []
   },
   "outputs": [],
   "source": [
    "# import cities response df\n",
    "cities_df = pd.read_csv(\"../../input/cdp-unlocking-climate-solutions/Cities/Cities Responses/2020_Full_Cities_Dataset.csv\")"
   ]
  },
  {
   "cell_type": "code",
   "execution_count": 4,
   "metadata": {
    "execution": {
     "iopub.execute_input": "2020-10-14T18:49:13.604134Z",
     "iopub.status.busy": "2020-10-14T18:49:13.603272Z",
     "iopub.status.idle": "2020-10-14T18:49:15.575544Z",
     "shell.execute_reply": "2020-10-14T18:49:15.574734Z"
    },
    "papermill": {
     "duration": 2.038259,
     "end_time": "2020-10-14T18:49:15.575672",
     "exception": false,
     "start_time": "2020-10-14T18:49:13.537413",
     "status": "completed"
    },
    "tags": []
   },
   "outputs": [],
   "source": [
    "# external data - import CDC social vulnerability index data - census tract level\n",
    "svi_df = pd.read_csv(\"../../input/cdp-unlocking-climate-solutions/Supplementary Data/CDC Social Vulnerability Index 2018/SVI2018_US.csv\")"
   ]
  },
  {
   "cell_type": "code",
   "execution_count": 5,
   "metadata": {
    "execution": {
     "iopub.execute_input": "2020-10-14T18:49:15.686494Z",
     "iopub.status.busy": "2020-10-14T18:49:15.685654Z",
     "iopub.status.idle": "2020-10-14T18:49:15.917505Z",
     "shell.execute_reply": "2020-10-14T18:49:15.916540Z"
    },
    "papermill": {
     "duration": 0.297761,
     "end_time": "2020-10-14T18:49:15.917669",
     "exception": false,
     "start_time": "2020-10-14T18:49:15.619908",
     "status": "completed"
    },
    "tags": []
   },
   "outputs": [],
   "source": [
    "# cities metadata - lat,lon locations for US cities\n",
    "cities_meta_df = pd.read_csv(\"../../input/cdp-unlocking-climate-solutions/Supplementary Data/Simple Maps US Cities Data/uscities.csv\")\n",
    "\n",
    "# cities metadata - CDP metadata on organisation HQ cities\n",
    "cities_cdpmeta_df = pd.read_csv(\"../../input/cdp-unlocking-climate-solutions/Supplementary Data/Locations of Corporations/NA_HQ_public_data.csv\")"
   ]
  },
  {
   "cell_type": "markdown",
   "metadata": {
    "papermill": {
     "duration": 0.044613,
     "end_time": "2020-10-14T18:49:16.198254",
     "exception": false,
     "start_time": "2020-10-14T18:49:16.153641",
     "status": "completed"
    },
    "tags": []
   },
   "source": [
    "### Set up and Parameters\n",
    "\n",
    "#### Check the structure"
   ]
  },
  {
   "cell_type": "code",
   "execution_count": 6,
   "metadata": {},
   "outputs": [
    {
     "data": {
      "text/plain": [
       "['Questionnaire',\n",
       " 'Year Reported to CDP',\n",
       " 'Account Number',\n",
       " 'Organization',\n",
       " 'Country',\n",
       " 'CDP Region',\n",
       " 'Parent Section',\n",
       " 'Section',\n",
       " 'Question Number',\n",
       " 'Question Name',\n",
       " 'Column Number',\n",
       " 'Column Name',\n",
       " 'Row Number',\n",
       " 'Row Name',\n",
       " 'Response Answer',\n",
       " 'Comments',\n",
       " 'File Name',\n",
       " 'Last update']"
      ]
     },
     "execution_count": 6,
     "metadata": {},
     "output_type": "execute_result"
    }
   ],
   "source": [
    "#len(cities_df['Question Number'].unique())\n",
    "keys = [*cities_df]\n",
    "keys"
   ]
  },
  {
   "cell_type": "code",
   "execution_count": 7,
   "metadata": {},
   "outputs": [
    {
     "data": {
      "text/plain": [
       "14"
      ]
     },
     "execution_count": 7,
     "metadata": {},
     "output_type": "execute_result"
    }
   ],
   "source": [
    "index_RA = keys.index('Response Answer')\n",
    "index_RA"
   ]
  },
  {
   "cell_type": "code",
   "execution_count": 8,
   "metadata": {},
   "outputs": [
    {
     "data": {
      "text/plain": [
       "array(['Cities 2020'], dtype=object)"
      ]
     },
     "execution_count": 8,
     "metadata": {},
     "output_type": "execute_result"
    }
   ],
   "source": [
    "cities_df['Questionnaire'].unique()"
   ]
  },
  {
   "cell_type": "markdown",
   "metadata": {},
   "source": [
    "#### Remove all \"unique\" data"
   ]
  },
  {
   "cell_type": "code",
   "execution_count": 9,
   "metadata": {},
   "outputs": [
    {
     "name": "stdout",
     "output_type": "stream",
     "text": [
      "key deleted: Questionnaire\n",
      "key deleted: Year Reported to CDP\n",
      "key deleted: Last update\n"
     ]
    }
   ],
   "source": [
    "for key in keys:\n",
    "    if len(cities_df[key].unique())==1:\n",
    "        del cities_df[key]\n",
    "        print('key deleted: {}'.format(key))"
   ]
  },
  {
   "cell_type": "code",
   "execution_count": 10,
   "metadata": {},
   "outputs": [
    {
     "data": {
      "text/plain": [
       "0         Question not applicable\n",
       "1                             NaN\n",
       "2                             NaN\n",
       "3         Question not applicable\n",
       "4         Question not applicable\n",
       "                   ...           \n",
       "869308                        NaN\n",
       "869309                         No\n",
       "869310                        NaN\n",
       "869311                      12599\n",
       "869312                        NaN\n",
       "Name: Response Answer, Length: 869313, dtype: object"
      ]
     },
     "execution_count": 10,
     "metadata": {},
     "output_type": "execute_result"
    }
   ],
   "source": [
    "cities_df['Response Answer']"
   ]
  },
  {
   "cell_type": "markdown",
   "metadata": {},
   "source": [
    "#### Describing the 'Response Answer' category:"
   ]
  },
  {
   "cell_type": "code",
   "execution_count": 11,
   "metadata": {},
   "outputs": [
    {
     "data": {
      "text/plain": [
       "869313"
      ]
     },
     "execution_count": 11,
     "metadata": {},
     "output_type": "execute_result"
    }
   ],
   "source": [
    "len(cities_df['Response Answer'].unique())\n",
    "len(cities_df['Question Number'])"
   ]
  },
  {
   "cell_type": "code",
   "execution_count": 12,
   "metadata": {},
   "outputs": [],
   "source": [
    "question_number = cities_df['Question Number'].unique()\n",
    "question_number.sort()\n"
   ]
  },
  {
   "cell_type": "markdown",
   "metadata": {},
   "source": [
    "# Preprocessing\n",
    "\n",
    "## Select numerical and yes/no question type\n",
    "\n",
    "### Numerical"
   ]
  },
  {
   "cell_type": "code",
   "execution_count": 13,
   "metadata": {},
   "outputs": [],
   "source": [
    "def RepresentsFloat(s):\n",
    "    try: \n",
    "        float(s)\n",
    "        return True\n",
    "    except ValueError:\n",
    "        return False"
   ]
  },
  {
   "cell_type": "code",
   "execution_count": 14,
   "metadata": {},
   "outputs": [
    {
     "name": "stdout",
     "output_type": "stream",
     "text": [
      "0.1\n",
      "False\n",
      "0.2\n",
      "False\n",
      "0.3\n",
      "False\n",
      "0.4\n",
      "False\n",
      "0.5\n",
      "2015.0\n",
      "0.5\n",
      "Please provide details of your city’s current population. Report the population in the year of your reported inventory, if possible.\n",
      "1045\n",
      "<class 'str'>\n",
      "\n",
      " \n",
      " \n",
      "\n",
      "True\n",
      "0.6\n",
      "1219.67\n",
      "0.6\n",
      "Please provide further details about the geography of your city.\n",
      "541\n",
      "<class 'str'>\n",
      "\n",
      " \n",
      " \n",
      "\n",
      "True\n",
      "1.0\n",
      "False\n",
      "1.0a\n",
      "False\n",
      "1.1\n",
      "False\n",
      "1.2\n",
      "False\n",
      "1.3\n",
      "False\n",
      "1.4\n",
      "False\n",
      "1.5\n",
      "False\n",
      "1.6\n",
      "False\n",
      "1.7\n",
      "False\n",
      "10.0\n",
      "False\n",
      "10.1\n",
      "False\n",
      "10.11\n",
      "False\n",
      "10.12\n",
      "False\n",
      "10.13\n",
      "False\n",
      "10.14\n",
      "21.0\n",
      "10.14\n",
      "Please provide city-wide average air pollution metrics from the monitoring sites within your city for the most recent three years.\n",
      "794\n",
      "<class 'str'>\n",
      "\n",
      " \n",
      " \n",
      "\n",
      "True\n",
      "10.15\n",
      "False\n",
      "10.2\n",
      "False\n",
      "10.3\n",
      "False\n",
      "10.4\n",
      "nan\n",
      "10.4\n",
      "Please provide the total fleet size and number of vehicle types for the following modes of transport.\n",
      "1495\n",
      "<class 'float'>\n",
      "\n",
      " \n",
      " \n",
      "\n",
      "True\n",
      "10.5\n",
      "False\n",
      "10.6\n",
      "False\n",
      "10.7\n",
      "False\n",
      "10.7a\n",
      "False\n",
      "10.8\n",
      "False\n",
      "10.9\n",
      "False\n",
      "11.0\n",
      "False\n",
      "11.1\n",
      "False\n",
      "12.0\n",
      "False\n",
      "12.0a\n",
      "False\n",
      "12.1\n",
      "2019.0\n",
      "12.1\n",
      "What is the per capita meat and dairy consumption (kg/yr) in your city?\n",
      "320\n",
      "<class 'str'>\n",
      "\n",
      " \n",
      " \n",
      "\n",
      "True\n",
      "12.2\n",
      "False\n",
      "12.3\n",
      "False\n",
      "12.4\n",
      "False\n",
      "12.5\n",
      "False\n",
      "12.6\n",
      "False\n",
      "13.0\n",
      "False\n",
      "13.1\n",
      "False\n",
      "13.2\n",
      "False\n",
      "13.3\n",
      "False\n",
      "13.4\n",
      "False\n",
      "13.5\n",
      "False\n",
      "13.6\n",
      "False\n",
      "14.0\n",
      "False\n",
      "14.1\n",
      "100.0\n",
      "14.1\n",
      "What percentage of your city's population has access to potable water supply service?\n",
      "72\n",
      "<class 'str'>\n",
      "\n",
      " \n",
      " \n",
      "\n",
      "True\n",
      "14.2\n",
      "False\n",
      "14.2a\n",
      "False\n",
      "14.2b\n",
      "False\n",
      "14.3\n",
      "False\n",
      "14.4\n",
      "False\n",
      "14.4a\n",
      "False\n",
      "14.4b\n",
      "False\n",
      "2.0\n",
      "False\n",
      "2.0a\n",
      "False\n",
      "2.0b\n",
      "False\n",
      "2.0c\n",
      "False\n",
      "2.0d\n",
      "False\n",
      "2.1\n",
      "False\n",
      "2.1a\n",
      "False\n",
      "2.1b\n",
      "False\n",
      "2.1c\n",
      "False\n",
      "2.2\n",
      "False\n",
      "2.3\n",
      "False\n",
      "2.3a\n",
      "False\n",
      "3.0\n",
      "False\n",
      "3.1\n",
      "False\n",
      "3.2\n",
      "False\n",
      "3.2a\n",
      "False\n",
      "3.2b\n",
      "False\n",
      "3.3\n",
      "False\n",
      "3.4\n",
      "False\n",
      "3.5\n",
      "False\n",
      "3.6\n",
      "False\n",
      "4.0\n",
      "False\n",
      "4.1\n",
      "False\n",
      "4.11\n",
      "False\n",
      "4.12\n",
      "False\n",
      "4.12a\n",
      "False\n",
      "4.12b\n",
      "False\n",
      "4.13\n",
      "False\n",
      "4.14\n",
      "False\n",
      "4.14a\n",
      "False\n",
      "4.15\n",
      "False\n",
      "4.2\n",
      "False\n",
      "4.3\n",
      "False\n",
      "4.3a\n",
      "False\n",
      "4.4\n",
      "False\n",
      "4.5\n",
      "False\n",
      "4.6a\n",
      "False\n",
      "4.6b\n",
      "False\n",
      "4.6c\n",
      "False\n",
      "4.6d\n",
      "False\n",
      "4.6e\n",
      "False\n",
      "4.6f\n",
      "False\n",
      "4.7\n",
      "False\n",
      "4.8\n",
      "False\n",
      "4.9\n",
      "False\n",
      "5.0\n",
      "False\n",
      "5.0a\n",
      "False\n",
      "5.0b\n",
      "False\n",
      "5.0c\n",
      "False\n",
      "5.0d\n",
      "False\n",
      "5.0e\n",
      "False\n",
      "5.1\n",
      "False\n",
      "5.2\n",
      "False\n",
      "5.2a\n",
      "False\n",
      "5.3\n",
      "False\n",
      "5.3a\n",
      "False\n",
      "5.4\n",
      "False\n",
      "5.5\n",
      "False\n",
      "5.5a\n",
      "False\n",
      "5.5b\n",
      "False\n",
      "6.0\n",
      "False\n",
      "6.1\n",
      "False\n",
      "6.11\n",
      "False\n",
      "6.12\n",
      "False\n",
      "6.13\n",
      "False\n",
      "6.14\n",
      "False\n",
      "6.15\n",
      "False\n",
      "6.16\n",
      "False\n",
      "6.2\n",
      "False\n",
      "6.2a\n",
      "False\n",
      "6.3\n",
      "False\n",
      "6.4\n",
      "False\n",
      "6.5\n",
      "False\n",
      "6.6\n",
      "False\n",
      "6.7\n",
      "False\n",
      "6.8\n",
      "False\n",
      "6.9\n",
      "False\n",
      "7.0\n",
      "False\n",
      "7.1\n",
      "False\n",
      "7.2\n",
      "False\n",
      "7.3\n",
      "False\n",
      "7.4\n",
      "False\n",
      "7.5\n",
      "False\n",
      "7.6\n",
      "False\n",
      "7.7\n",
      "False\n",
      "7.7a\n",
      "False\n",
      "7.7b\n",
      "False\n",
      "7.8\n",
      "False\n",
      "7.9\n",
      "False\n",
      "7.9a\n",
      "False\n",
      "7.9b\n",
      "False\n",
      "8.0\n",
      "False\n",
      "8.0a\n",
      "False\n",
      "8.0b\n",
      "False\n",
      "8.1\n",
      "59.0\n",
      "8.1\n",
      "Please indicate the source mix of electricity consumed in your city.\n",
      "719\n",
      "<class 'str'>\n",
      "\n",
      " \n",
      " \n",
      "\n",
      "True\n",
      "8.2\n",
      "False\n",
      "8.3\n",
      "False\n",
      "8.4\n",
      "False\n",
      "8.5\n",
      "False\n",
      "8.5a\n",
      "False\n",
      "8.5b\n",
      "False\n",
      "9.0\n",
      "False\n",
      "9.1\n",
      "False\n",
      "9.2\n",
      "False\n",
      "9.3\n",
      "False\n",
      "9.4\n",
      "False\n",
      "9.5\n",
      "False\n",
      "Amendments_question\n",
      "False\n",
      "Response Language\n",
      "False\n"
     ]
    }
   ],
   "source": [
    "numerical_question = []\n",
    "\n",
    "for number in question_number:\n",
    "    print(number)\n",
    "    i=0\n",
    "    check = False\n",
    "    while check==False:\n",
    "        s = str(cities_df[cities_df['Question Number'] == number]['Response Answer'].iloc[i])\n",
    "        \n",
    "        if s!='nan':\n",
    "            check = RepresentsFloat(s)\n",
    "            break\n",
    "        i+=1\n",
    "        \n",
    "    if check:\n",
    "        print(float(cities_df[cities_df['Question Number'] == number]['Response Answer'].iloc[0]))\n",
    "        print(number)\n",
    "        print(cities_df[cities_df['Question Number'] == number]['Question Name'].iloc[0])\n",
    "        print(len(cities_df[cities_df['Question Number'] == number]['Response Answer'].unique()))\n",
    "        print(type(cities_df[cities_df['Question Number'] == number]['Response Answer'].iloc[0]))\n",
    "        print('\\n \\n \\n')\n",
    "        numerical_question.append(number)\n",
    "    print(check)"
   ]
  },
  {
   "cell_type": "code",
   "execution_count": 15,
   "metadata": {},
   "outputs": [
    {
     "data": {
      "text/plain": [
       "['0.5', '0.6', '10.14', '10.4', '12.1', '14.1', '8.1']"
      ]
     },
     "execution_count": 15,
     "metadata": {},
     "output_type": "execute_result"
    }
   ],
   "source": [
    "numerical_question"
   ]
  },
  {
   "cell_type": "code",
   "execution_count": 16,
   "metadata": {},
   "outputs": [
    {
     "data": {
      "text/plain": [
       "['0.5', '0.6', '10.14', '10.4', '12.1', '14.1', '8.1']"
      ]
     },
     "execution_count": 16,
     "metadata": {},
     "output_type": "execute_result"
    }
   ],
   "source": [
    "numerical_question"
   ]
  },
  {
   "cell_type": "markdown",
   "metadata": {},
   "source": [
    "## Data validation\n",
    "\n",
    "First let's have an example for the first question and set up the visualization"
   ]
  },
  {
   "cell_type": "markdown",
   "metadata": {},
   "source": [
    "### City Population"
   ]
  },
  {
   "cell_type": "code",
   "execution_count": 17,
   "metadata": {},
   "outputs": [],
   "source": [
    "cdf = cities_df[cities_df['Question Number'] == numerical_question[0]]\n",
    "resp = np.asarray(cdf['Response Answer'].astype(np.float))"
   ]
  },
  {
   "cell_type": "code",
   "execution_count": 18,
   "metadata": {},
   "outputs": [
    {
     "data": {
      "text/plain": [
       "1383432134.0"
      ]
     },
     "execution_count": 18,
     "metadata": {},
     "output_type": "execute_result"
    }
   ],
   "source": [
    "np.nanmax(resp)"
   ]
  },
  {
   "cell_type": "code",
   "execution_count": 19,
   "metadata": {},
   "outputs": [],
   "source": [
    "perc_max = np.nanpercentile(resp,99)\n",
    "resp = resp[resp>2100]\n",
    "range_hist = [np.min(resp), perc_max]"
   ]
  },
  {
   "cell_type": "code",
   "execution_count": 20,
   "metadata": {},
   "outputs": [
    {
     "data": {
      "text/plain": [
       "Text(0.5, 0, 'City Population')"
      ]
     },
     "execution_count": 20,
     "metadata": {},
     "output_type": "execute_result"
    },
    {
     "data": {
      "image/png": "[encoded data removed]",
      "text/plain": [
       "<Figure size 432x288 with 1 Axes>"
      ]
     },
     "metadata": {
      "needs_background": "light"
     },
     "output_type": "display_data"
    }
   ],
   "source": [
    "plt.hist(resp, range=range_hist)\n",
    "plt.xlabel('City Population')"
   ]
  },
  {
   "cell_type": "markdown",
   "metadata": {},
   "source": [
    "### City-wide average air pollution metrics\n",
    "Please provide city-wide average air pollution metrics from the monitoring sites within your city for the most recent three years."
   ]
  },
  {
   "cell_type": "code",
   "execution_count": 21,
   "metadata": {},
   "outputs": [
    {
     "name": "stdout",
     "output_type": "stream",
     "text": [
      "Please provide city-wide average air pollution metrics from the monitoring sites within your city for the most recent three years.\n"
     ]
    },
    {
     "data": {
      "text/plain": [
       "10                                                     21\n",
       "220                                                  Etat\n",
       "445                                                    33\n",
       "966                                                    No\n",
       "1038                                                 2019\n",
       "1065                                                   18\n",
       "1231                                                 7.87\n",
       "1524                                                  Yes\n",
       "1792                                                   20\n",
       "1975    https://www.city.yokohama.lg.jp/kurashi/machiz...\n",
       "Name: Response Answer, dtype: object"
      ]
     },
     "execution_count": 21,
     "metadata": {},
     "output_type": "execute_result"
    }
   ],
   "source": [
    "num = numerical_question[2]\n",
    "cdf = cities_df[cities_df['Question Number'] == num]\n",
    "question_name = cdf['Question Name'].iloc[0]\n",
    "print(question_name)\n",
    "cdf['Response Answer'].where(cdf['Response Answer']!='Question not applicable').dropna().iloc[0:10]"
   ]
  },
  {
   "cell_type": "code",
   "execution_count": 22,
   "metadata": {},
   "outputs": [
    {
     "data": {
      "text/plain": [
       "'10.14'"
      ]
     },
     "execution_count": 22,
     "metadata": {},
     "output_type": "execute_result"
    }
   ],
   "source": [
    "num"
   ]
  },
  {
   "cell_type": "code",
   "execution_count": 23,
   "metadata": {},
   "outputs": [],
   "source": [
    "list_resp = []\n",
    "for i in cdf['Response Answer']:\n",
    "    if RepresentsFloat(i):\n",
    "        list_resp.append(np.float(i))\n",
    "resp = np.asarray(list_resp)"
   ]
  },
  {
   "cell_type": "code",
   "execution_count": 24,
   "metadata": {},
   "outputs": [
    {
     "name": "stdout",
     "output_type": "stream",
     "text": [
      "0.0\n",
      "46313.0\n",
      "2020.0\n"
     ]
    }
   ],
   "source": [
    "print(np.nanmin(resp))\n",
    "print(np.nanmax(resp))\n",
    "print(np.nanpercentile(resp, 99))"
   ]
  },
  {
   "cell_type": "code",
   "execution_count": 25,
   "metadata": {},
   "outputs": [],
   "source": [
    "resp = resp[resp<2000]"
   ]
  },
  {
   "cell_type": "code",
   "execution_count": 26,
   "metadata": {},
   "outputs": [
    {
     "data": {
      "text/plain": [
       "Text(0.5, 1.0, 'Please provide city-wide average air pollution metrics from the monitoring sites within your city for the most recent three years.')"
      ]
     },
     "execution_count": 26,
     "metadata": {},
     "output_type": "execute_result"
    },
    {
     "data": {
      "image/png": "[encoded data removed]",
      "text/plain": [
       "<Figure size 432x288 with 1 Axes>"
      ]
     },
     "metadata": {
      "needs_background": "light"
     },
     "output_type": "display_data"
    }
   ],
   "source": [
    "plt.figure()\n",
    "plt.hist(resp, bins=100)\n",
    "plt.title(question_name)\n",
    "#plt.close()"
   ]
  },
  {
   "cell_type": "markdown",
   "metadata": {},
   "source": [
    "### All other numerical questions from the selection are the city-wide average pollution"
   ]
  },
  {
   "cell_type": "code",
   "execution_count": 27,
   "metadata": {},
   "outputs": [
    {
     "name": "stdout",
     "output_type": "stream",
     "text": [
      "Please provide city-wide average air pollution metrics from the monitoring sites within your city for the most recent three years.\n"
     ]
    },
    {
     "data": {
      "text/plain": [
       "10                                                     21\n",
       "220                                                  Etat\n",
       "445                                                    33\n",
       "966                                                    No\n",
       "1038                                                 2019\n",
       "1065                                                   18\n",
       "1231                                                 7.87\n",
       "1524                                                  Yes\n",
       "1792                                                   20\n",
       "1975    https://www.city.yokohama.lg.jp/kurashi/machiz...\n",
       "Name: Response Answer, dtype: object"
      ]
     },
     "execution_count": 27,
     "metadata": {},
     "output_type": "execute_result"
    }
   ],
   "source": [
    "num = numerical_question[6]\n",
    "question_name = cdf['Question Name'].iloc[0]\n",
    "print(question_name)\n",
    "cdf['Response Answer'].where(cdf['Response Answer']!='Question not applicable').dropna().iloc[0:10]"
   ]
  },
  {
   "cell_type": "markdown",
   "metadata": {},
   "source": [
    "## Investigation of yes/no questions"
   ]
  },
  {
   "cell_type": "code",
   "execution_count": 28,
   "metadata": {},
   "outputs": [
    {
     "name": "stdout",
     "output_type": "stream",
     "text": [
      "['Question not applicable' 'Yes' nan 'No']\n",
      "['Yes' 'Question not applicable' nan 'Do not know' 'No']\n",
      "['No' 'Yes' nan 'Do not know']\n",
      "['Question not applicable' nan 'Yes' 'Não aplicável' 'Do not know' 'No'\n",
      " 'Se ha gestionado y nunca se ha permitido, por tener calles nacionales en el territorio'\n",
      " 'Existen instrumentos regulatorios (leyes y reglamentos) a nivel subnacional (Estado de Jalisco) y nacional que restringen el acceso de vehículos según su peso y altura.'\n",
      " 'It will be provided in Klaipeda city municipality strategy development plan of 2021-2030'\n",
      " 'En el Mercado Unicachi llegan camiones de gran capacidad conteniendo producos de primera necesidad, cuya área se encuentra restringida.'\n",
      " 'There is no loading/unloading restricted zone for logistics in Kaohsiung, but there are regulations for prohibiting the driving of tractor trailers and heavy trucks (divided into 35 tons, 30 tons, 25 tons, 21 tons, 20 tons, 15 tons, 11 tons, 8.8 tons, 5.5 tons and 3.5 tons), as well as Class A and Class B buses.'\n",
      " 'Only relevant restrictions for weight and vehicle types.'\n",
      " 'Espacio de la calzada delimitado por un cuadrante, ubicado junto al cordón destinado a la operación de carga y descarga. Particulares no pueden estacionar en dicho espacio.Carga/descarga: máximo 30 minutos. Prohibido estacionar las 24 hs del díaLímite de 8 metros como tamaño máximo de los vehículos.'\n",
      " 'VEDERE PUMS'\n",
      " 'Instrumento Subnacional: \"Ley de Movilidad y Transporte del Estado de Jalisco\"Instrumento Nacional: \"Reglamento sobre el peso, dimensiones y capacidad de los vehículos de autotransporte que transitan en los caminos y puentes de jurisdicción Federal\"'\n",
      " 'Vehiculos de carga pesada de entrada a a zona de desembarque del puerto'\n",
      " 'Commercial and industry area'\n",
      " 'A circulação de veículos de carga na Área Central e corredores de ônibus está limitada a veículos com comprimento inferiores a 6,5me capacidade de carga inferior a 7 toneladas.Foi introduzida o estacionamento rotativo para veículos de carga pelo celular com o tempo de permanência máximo de uma hora,nas cerca de 900 áreas destinadas a carga de descarga.'\n",
      " 'Av. Gambetta carriles centrales'\n",
      " 'Hay restricción en el horario de ingreso de los transportes de carga, además el transporte intermunicipal tiene vías restringidas'\n",
      " 'City has many designed places for loading and loading of freight cargo with different sizes, the places are well accessed by the loading and unloading vehicles'\n",
      " 'REGLAMENTO DE POLICÍA Y VIALIDAD PARA EL MUNICIPIO DE LEÓN, GUANAJUATOObligaciones en la circulación del transporte de cargaArtículo 112.- Los conductores de vehículos de transporte de carga deben:I. Circular por el carril de la extrema derecha y usar el izquierdo sólo para rebasar o dar vuelta a la izquierda cuando así este permitido;II. Sujetarse a los horarios y a las vialidades establecidas por la Dirección General de Tránsito para descargar;III. Estacionar el vehículo o contenedor en el lugar de encierro correspondiente;IV. Circular con placas de circulación o con permiso provisional vigente;V. Conducir con licencia vigente;VI. Circular sin tirar objetos o derramar sustancias que obstruyan el tránsito o pongan en riesgo la integridad física de las personas o sus bienes; yVII. Realizar maniobras de carga y descarga de acuerdo a las siguientes disposiciones:a)\\tPara la zona centro de la ciudad, así como bulevares y avenidas de alta concentración vehicular se autorizará de las 15:00 a las 17:00 horas para vehículos hasta de dos toneladas y en general para todos los vehículos de las 22:00 a las 7:00 horas, siempre y cuando no se afecte la circulación y en los espacios autorizados por la dirección o indicados para tal fin y a falta de señalamiento se realizará la maniobra preferentemente en el lado derecho de la vía;b)\\tSe permitirá que los vehículos cuya capacidad no exceda de los 750 kg., se introduzcan en las zonas peatonales, respetando los horarios y lugares previamente establecidos en el señalamiento que se coloque para tal efecto; yc)\\tQueda prohibida la circulación de vehículos con capacidad de carga de más de dos toneladas dentro de la zona centro, salvo para realizar maniobras de carga o descarga previa autorización de la Dirección General de Tránsito.'\n",
      " 'Não possui dados observados' 'PUMS'\n",
      " 'Zone not restricted but planned for the future to allow all vehicles for loading and unloading in a peripheral areas where by the cargo will be transported to the City center by train'\n",
      " 'During development approval, all the plan submission must follow the guideline']\n",
      "['Yes' nan 'No' 'Do not know']\n",
      "['Do not know' nan 'No' 'Yes']\n",
      "['No' 'Question not applicable' 'Yes' 'Do not know' nan]\n",
      "['Yes' 'No' 'Question not applicable' 'Do not know' nan]\n",
      "['Do not know' 'No' 'Question not applicable' nan 'Yes']\n",
      "['Energy' 'Spatial Planning' '2012' ...\n",
      " \"Mayor's Climate Emergency Action Plan\"\n",
      " '2019 “Pingtung County’s promotion plans of environmental protection and international affairs in response to climate change”'\n",
      " 'https://www.oaklandca.gov/resources/curb-analysis']\n",
      "['Question not applicable' 'Yes' 'Do not know' nan 'Not applicable'\n",
      " \"As part of the City's upcoming carbon neutrality plan (CAP), our consultant will research and provide recommendations for developing green businesses in the City and helping grow a green economy.\"\n",
      " \"They work together with every other city department in the development of the city's Climate Action Plan and Sustainable Development Plan, to be launched in the end of 2020.\"\n",
      " 'No'\n",
      " 'The Enterprise and Investment Department leads the City’s green economy work and is the custodian of the City’s Invest Cape Town campaign. The City’s respective climate change related teams each has a relationship with this Department. The cc mitigation team partnered with the Director of E&I department during the stakeholder engagement process of the City’s Energy 2040 Goal in 2015, with main aim of emphasizing the economic storyline of Energy2040. Subsequently, the Green Economy unit of the E&I department has expanded and now has a dedicated permanent position filled. Both the  cc mitigation and adaptation teams regularly engage with this representative, specifically towards alignment between cc related strategies such as the Carbon Neutral 2050 Goal, Green Procurement plan, and Green Economy Strategy, currently all in developed by the respective teams from climate change and E&I.'\n",
      " 'Since many years, a close co-operation between the city Executive Office and the Environment and Health Department is established on both strategic and operative levels.'\n",
      " 'Desde la Agencia de Protección Ambiental se lleva a cabo el programa Ecosellos, destinado a promover la sustentabilidad en instituciones y empresas de la ciudad. No se obtuvo información información de posibles iniciativas relacionados del departamento de desarrollo económico de la ciudad.'\n",
      " 'A través de los comités temáticos interinstitucionales del Sistema de Gestión Ambiental  Municipal, especialmente los comités de producción y consumo sostenible, y gestión integral de residuos.'\n",
      " 'A number of the initiatives in Roadmap 2021-2025 are implemented by other departments than the Technical and Environmental Administrations. A number of departments have therefore been involved in plan development and they work together on implementation and reporting as well.'\n",
      " 'The HKSAR Government attaches great importance to the work on combating climate change, and actions are being taken on various fronts to reduce greenhouse gas emissions. Recognising the need to step up climate actions and to draw up long-term policies, the Chief Executive announced in the 2016 Policy Address the establishment of an inter-departmental committee under the chairmanship of the Chief Secretary for Administration to steer and coordinate the climate actions of various bureaux and departments.Members of the Steering Committee include core policy bureaux and three departments. Other departments may attend future meetings on an ad hoc basis.'\n",
      " 'Through a governance framework within the Durban Climate Change Strategy - committees of line functions meeting with each other'\n",
      " 'No study or recommendation about economic development under Bangkok Climate Change Plan'\n",
      " 'Con la realización del nuevo Programa de Acción Climática, se realizan talleres y seminarios en las que participan entes de la academia, industria, y sociedad civil con el objetivo de llegar a metas en conjunto, en beneficio del medio ambiente.'\n",
      " 'All departments of the Moscow government interact on climate planning, incl. Department of Natural Resources and Environmental Protection, Department of Housing and Utilities, Department of Investments and Industrial Policy of the City, Department of Transport and Development of Road and Transport Infrastructure of the City of Moscow, Department of Healthcare, etc. All programs are financed and controlled by the Department of Economic Policy.For example, the Department of Housing and Utilities is responsible for the implementation of the energy efficiency and energy saving subprogram, and the result - the reduction of GHG emissions and the achievement of the established goals is determined jointly with other departments, incl. Department of Natural Resources and Environmental Protection.'\n",
      " 'Participación ciudadana.Conformación de Comité de Cambio Climático y mesas técnicas de trabajo.'\n",
      " \"The City of Melbourne has an integrated planning framework to ensure our strategies and plans fit together to achieve our vision of growing Melbourne as a bold, inspirational and sustainable city. Future Melbourne is our 10-year plan to grow Melbourne as a global city and as one of the top ten most liveable and sustainable cities in the world.  Departments work together on 'four-year plan's, 'Annual Plans' and on our long-term 'Transformative strategies'\"\n",
      " '0'\n",
      " 'The Green Economy unit located in the City’s Enterprise and Investment Department is newly established. Capacity constraints has therefore made collaboration on specific research projects and joint engagements with private sector challenging. The Climate Change and Green Economy teams have since 2019 started engaging more regularly through meetings and workshops and have established a collaboration to input on each other’s strategies and plans (i.e. the Carbon Neutral 2050 goal and Climate Action Plan and Green Economy Strategy).'\n",
      " 'Cross-corporate coordination and development of a \"climate lens\" for financial decision support is in progress and intended to mainstream climate considerations into City governance. The climate lens is being applied to the City\\'s 2021 budget process, so Divisions will need to answer climate-related questions when preparing and submitting their annual budgets. This will allow the City to gather climate related spending data and enable informed decision making. The Climate lens is also being applied internally to projects that may receive intergovernmental funding'\n",
      " 'One example is that DOEE works with the Deputy Mayor for Economic Development to ensure projects take advantage of opportunities to exceed the District’s green building requirements.'\n",
      " \"They may have meetings to review plan and accomplishment quarterly but  they don't have strategical relation where the fiance bureau can have a knowledge of what is the benefit of climate action in terms of mobilizing  national and international public-private finance.\"\n",
      " 'Through the Environment Policy Management Council and its respective Technical Working Groups.City Development Council']\n",
      "['Question not applicable' nan 'No' 'Yes' 'Do not know'\n",
      " \"Emission reduction activities which the City of Melbourne undertake are captured under the activity data reported under the federal governmnent's National Greenhouse and Energy Reporting (NGER) scheme which make up the national accounts. The City of Melbourne is also a carbon neutral organisation under the federal governmnets climate active program and through this we purchase a mix of offsets, international offsets (which comprise most of our offsets by volume) do not contribute to NDCs, whilst  Australian Carbon Credit Units do. Our activity data/emissions should be captured within the national accounts, and we report them via NGER.\"\n",
      " \"ClimateThe goal of the environment protection authorities is that the concentration of greenhouse gases shall be stabilized at a level that will prevent dangerous, man-made impacts on the climate system.Renewable energyHydroelectric power, wind power, and bioenergy are important sources of renewable energy in Norway. We produce electricity from hydroelectric and wind power, while bioenergy is primarily used for thermal energy.The Norwegian Environment Agency serves as both technical advisor and relevant authority in regard to developing and operating hydroelectric facilities, wind power facilities, and power lines, as well developing and implementing sustainable energy standards for biofuel.Norwegian greenhouse gas emissions have risen 4.2 per cent from 1990. We expect a long-term trend of a rise in total emissions towards 2020, unless new measures are implemented.It is a goal that Norway will be a low-emission society by 2050. This goal is enshrined in the Climate Act.The purpose of the legislation is to facilitate a long-term change in a climate-friendly direction in Norway.The Climate Act describes low-emission societies as a society where greenhouse gas emissions, based on the best scientific basis, global emissions and national circumstances, are reduced to counteract the harmful effects of global warming as described in the Paris Agreement.The goal shall be for greenhouse gas emissions to be reduced by around 80–95 per cent from the emission level in the reference year 1990. When assessing target achievement, the effect of Norwegian participation in the European climate quota system for enterprises shall be taken into account.The goal of a low-emission society is anchored in the climate agreement from 2012, cf. 390 S (2011–2012) and in Meld. St. 13 (2014–2015) New emission obligation for 2030 - a common solution with the EU.In the climate agreement, the majority of the Storting also pointed out that an ambitious policy nationally must be sensible in a global context, where the overall goal is to reduce the total global emissions of greenhouse gases.This means that the consequences of the quota system, the risk of carbon leakage and the industry's competitiveness are taken into account when formulating the policy. This provides guidelines for the use of instruments to reduce national emissions towards both 2030 and 2050.\"\n",
      " '0' 'Does not apply'\n",
      " 'La monitorización se realiza conforme a lo establecido en el Pacto de las Alcaldías.'\n",
      " 'MRV system is in place however the county still is establishing its M& E department and staff capacity is low on MRV'\n",
      " 'The City of Adelaide completes the measurement, reporting of organisational emissions on an annual basis and has completed verification process of the Climate Active certification administered by the Australian Government, for FY 2018/19. While not yet awarded, the certification will be achieved once offsets have been purchased and retired to reach a state of achieving net zero emissions, otherwise known as carbon neutrality.'\n",
      " 'Como una forma de control y manejo del avance de estas acciones, existe el Sistema de Seguimiento del Programa de Acción Climática el cual es un sistema informático en linea, dentro del cual diferentes dependencias del gobierno de la Ciudad de México realizan los reportes correspondientes mensuales al avance de sus acciones.'\n",
      " 'ICLEI Clearpath'\n",
      " 'Este reporte iniciara cuando entre en ejecución el plan de acción climática.'\n",
      " 'se implementará un sistema de MRV de las acciones del plan integral de adaptación y  mitigación al cambio climático.'\n",
      " 'No âmbito do programa FEE/ABAE anualmente (e de forma facultativa) Águeda tem aderido às solicitações apresentadas, com um reporte exaustivo do desempenho ambiental e de sustentabilidade, de acordo com os 21 indicadores analizados, os quais se subdividem em mais de 100 subindicadores.  A nível nacional o INE recolhe informação relacionada com os diversos indicadores estatísticos, que incluem os consumos e a produção de energia, entre muitas outras rubricas contempladas. Esta recolha e disponibilização de dados é também efetuada no município, bem como nas unidades territoriais de nomenclatura superior.'\n",
      " 'No system in place.']\n"
     ]
    }
   ],
   "source": [
    "bool_question = []\n",
    "\n",
    "for number in question_number:\n",
    "    i=0\n",
    "    cdf = cities_df[cities_df['Question Number'] == number]['Response Answer']\n",
    "    check = cdf.unique()\n",
    "    \n",
    "    if 'yes' in check or 'Yes' in check and len(check)<30:\n",
    "        if 'No' in check or 'No' in check:\n",
    "            bool_question.append(number)\n",
    "            print(check)"
   ]
  },
  {
   "cell_type": "code",
   "execution_count": 29,
   "metadata": {},
   "outputs": [
    {
     "data": {
      "text/plain": [
       "['1.5',\n",
       " '10.11',\n",
       " '10.7',\n",
       " '10.8',\n",
       " '14.2',\n",
       " '2.3',\n",
       " '4.14',\n",
       " '5.2',\n",
       " '5.3',\n",
       " '5.5a',\n",
       " '6.14',\n",
       " '6.16']"
      ]
     },
     "execution_count": 29,
     "metadata": {},
     "output_type": "execute_result"
    }
   ],
   "source": [
    "bool_question"
   ]
  },
  {
   "cell_type": "markdown",
   "metadata": {},
   "source": [
    "### Describe to what extent the planning process is transparent and open"
   ]
  },
  {
   "cell_type": "code",
   "execution_count": 30,
   "metadata": {},
   "outputs": [],
   "source": [
    "def first_view(cities_df, num):\n",
    "    print(num)\n",
    "    cdf = cities_df[cities_df['Question Number'] == num]\n",
    "    question_name = cdf['Question Name'].iloc[0]\n",
    "    print(question_name)\n",
    "    value = cdf['Response Answer'].where(cdf['Response Answer']!='Question not applicable').dropna()#.iloc[0:10]\n",
    "    print(value.iloc[0:10])\n",
    "    print(len(value))\n",
    "    return cdf"
   ]
  },
  {
   "cell_type": "code",
   "execution_count": 31,
   "metadata": {},
   "outputs": [
    {
     "name": "stdout",
     "output_type": "stream",
     "text": [
      "1.5\n",
      "Please describe to what extent the planning process is transparent and open.\n",
      "858      Yes\n",
      "1606     Yes\n",
      "1754     Yes\n",
      "2874     Yes\n",
      "13775    Yes\n",
      "14832    Yes\n",
      "20278    Yes\n",
      "20840     No\n",
      "22666    Yes\n",
      "25954    Yes\n",
      "Name: Response Answer, dtype: object\n",
      "197\n",
      "\n",
      " \n",
      "\n",
      "10.11\n",
      "Does your city collect air quality data?\n",
      "533              Yes\n",
      "8911             Yes\n",
      "9445             Yes\n",
      "18326            Yes\n",
      "24712            Yes\n",
      "32180            Yes\n",
      "35288    Do not know\n",
      "36675             No\n",
      "53900    Do not know\n",
      "55007            Yes\n",
      "Name: Response Answer, dtype: object\n",
      "111\n",
      "\n",
      " \n",
      "\n",
      "10.7\n",
      "Do you have a low or zero-emission zone in your city? (i.e. an area that disincentivises fossil fuel vehicles through a charge, a ban or access restriction)\n",
      "945       No\n",
      "2080      No\n",
      "2590      No\n",
      "5194      No\n",
      "6420      No\n",
      "7447      No\n",
      "8267      No\n",
      "10335    Yes\n",
      "11044     No\n",
      "12002     No\n",
      "Name: Response Answer, dtype: object\n",
      "498\n",
      "\n",
      " \n",
      "\n",
      "10.8\n",
      "Do you have a loading / unloading Restricted Zone for Logistics? If yes, please provide more detail about the Restricted zone.\n",
      "35076                                                   Yes\n",
      "35741                                         Não aplicável\n",
      "63316                                           Do not know\n",
      "72544                                                    No\n",
      "99415                                                    No\n",
      "103969    Se ha gestionado y nunca se ha permitido, por ...\n",
      "110750                                          Do not know\n",
      "120877                                                   No\n",
      "122556                                                  Yes\n",
      "134412                                                  Yes\n",
      "Name: Response Answer, dtype: object\n",
      "76\n",
      "\n",
      " \n",
      "\n",
      "14.2\n",
      "Are you aware of any substantive current or future risks to your city’s water security?\n",
      "3238             Yes\n",
      "5070             Yes\n",
      "8375             Yes\n",
      "8504             Yes\n",
      "12944             No\n",
      "14189            Yes\n",
      "14890            Yes\n",
      "15736            Yes\n",
      "16024            Yes\n",
      "16804    Do not know\n",
      "Name: Response Answer, dtype: object\n",
      "533\n",
      "\n",
      " \n",
      "\n",
      "2.3\n",
      "Is your city facing risks to public health or health systems associated with climate change?\n",
      "136      Do not know\n",
      "1974              No\n",
      "3775     Do not know\n",
      "8514             Yes\n",
      "12968    Do not know\n",
      "13002    Do not know\n",
      "13599            Yes\n",
      "13861            Yes\n",
      "20231            Yes\n",
      "21720            Yes\n",
      "Name: Response Answer, dtype: object\n",
      "438\n",
      "\n",
      " \n",
      "\n",
      "4.14\n",
      "Since your last submission, have you needed to recalculate any past city-wide GHG emission inventories previously reported to CDP?\n",
      "2058              No\n",
      "2697              No\n",
      "6805              No\n",
      "9493             Yes\n",
      "12255    Do not know\n",
      "12937             No\n",
      "17485            Yes\n",
      "19272             No\n",
      "20548             No\n",
      "21217             No\n",
      "Name: Response Answer, dtype: object\n",
      "373\n",
      "\n",
      " \n",
      "\n",
      "5.2\n",
      "Is your city-wide emissions reduction target(s) conditional on the success of an externality or component of policy outside of your control?\n",
      "2701             Yes\n",
      "7003              No\n",
      "11034            Yes\n",
      "11315             No\n",
      "23936            Yes\n",
      "24591    Do not know\n",
      "24867            Yes\n",
      "27357            Yes\n",
      "27481            Yes\n",
      "27626             No\n",
      "Name: Response Answer, dtype: object\n",
      "296\n",
      "\n",
      " \n",
      "\n",
      "5.3\n",
      "Does your city-wide emissions reduction target(s) account for the use of transferable emissions units?\n",
      "1890     Do not know\n",
      "2916     Do not know\n",
      "3322              No\n",
      "9999     Do not know\n",
      "10165             No\n",
      "10840    Do not know\n",
      "11573             No\n",
      "21220             No\n",
      "32150             No\n",
      "35888    Do not know\n",
      "Name: Response Answer, dtype: object\n",
      "294\n",
      "\n",
      " \n",
      "\n",
      "5.5a\n",
      "Please attach your city’s climate change mitigation plan below. If your city has both mitigation and energy access plans, please make sure to attach all relevant documents below.\n",
      "24                                                Energy\n",
      "143                                     Spatial Planning\n",
      "277                                                 2012\n",
      "435                                               Energy\n",
      "510     Climate change mitigation and energy access plan\n",
      "633           Same – covers entire city and nothing else\n",
      "783                   Declaration of a Climate Emergency\n",
      "994       ICT (Information and Communication Technology)\n",
      "1004                                Transport (Mobility)\n",
      "1137                                               Waste\n",
      "Name: Response Answer, dtype: object\n",
      "6389\n",
      "\n",
      " \n",
      "\n",
      "6.14\n",
      "How do the city's environment/sustainability and economic development departments work together, for instance, in planning climate actions?\n",
      "1686                                                   Yes\n",
      "2285                                           Do not know\n",
      "3411                                                   Yes\n",
      "6936                                                   Yes\n",
      "7230                                        Not applicable\n",
      "14593                                                  Yes\n",
      "15173                                                  Yes\n",
      "21669    As part of the City's upcoming carbon neutrali...\n",
      "22792                                                  Yes\n",
      "23370                                                  Yes\n",
      "Name: Response Answer, dtype: object\n",
      "329\n",
      "\n",
      " \n",
      "\n",
      "6.16\n",
      "Does your city report to the national Measurement, Reporting and Verification (MRV) system (if in place)?\n",
      "22403                                                    No\n",
      "29428                                                    No\n",
      "36800                                                    No\n",
      "39114                                                   Yes\n",
      "41675                                           Do not know\n",
      "55849                                                    No\n",
      "56035                                                    No\n",
      "56986     Emission reduction activities which the City o...\n",
      "67825                                                   Yes\n",
      "101949                                                   No\n",
      "Name: Response Answer, dtype: object\n",
      "87\n",
      "\n",
      " \n",
      "\n"
     ]
    }
   ],
   "source": [
    "num = bool_question[0]\n",
    "for num in bool_question:\n",
    "    cdf = first_view(cities_df, num)\n",
    "    print('\\n \\n')"
   ]
  },
  {
   "cell_type": "code",
   "execution_count": 34,
   "metadata": {},
   "outputs": [
    {
     "data": {
      "text/plain": [
       "array(['Question not applicable', nan, 'No', 'Yes', 'Do not know',\n",
       "       \"Emission reduction activities which the City of Melbourne undertake are captured under the activity data reported under the federal governmnent's National Greenhouse and Energy Reporting (NGER) scheme which make up the national accounts. The City of Melbourne is also a carbon neutral organisation under the federal governmnets climate active program and through this we purchase a mix of offsets, international offsets (which comprise most of our offsets by volume) do not contribute to NDCs, whilst  Australian Carbon Credit Units do. Our activity data/emissions should be captured within the national accounts, and we report them via NGER.\",\n",
       "       \"ClimateThe goal of the environment protection authorities is that the concentration of greenhouse gases shall be stabilized at a level that will prevent dangerous, man-made impacts on the climate system.Renewable energyHydroelectric power, wind power, and bioenergy are important sources of renewable energy in Norway. We produce electricity from hydroelectric and wind power, while bioenergy is primarily used for thermal energy.The Norwegian Environment Agency serves as both technical advisor and relevant authority in regard to developing and operating hydroelectric facilities, wind power facilities, and power lines, as well developing and implementing sustainable energy standards for biofuel.Norwegian greenhouse gas emissions have risen 4.2 per cent from 1990. We expect a long-term trend of a rise in total emissions towards 2020, unless new measures are implemented.It is a goal that Norway will be a low-emission society by 2050. This goal is enshrined in the Climate Act.The purpose of the legislation is to facilitate a long-term change in a climate-friendly direction in Norway.The Climate Act describes low-emission societies as a society where greenhouse gas emissions, based on the best scientific basis, global emissions and national circumstances, are reduced to counteract the harmful effects of global warming as described in the Paris Agreement.The goal shall be for greenhouse gas emissions to be reduced by around 80–95 per cent from the emission level in the reference year 1990. When assessing target achievement, the effect of Norwegian participation in the European climate quota system for enterprises shall be taken into account.The goal of a low-emission society is anchored in the climate agreement from 2012, cf. 390 S (2011–2012) and in Meld. St. 13 (2014–2015) New emission obligation for 2030 - a common solution with the EU.In the climate agreement, the majority of the Storting also pointed out that an ambitious policy nationally must be sensible in a global context, where the overall goal is to reduce the total global emissions of greenhouse gases.This means that the consequences of the quota system, the risk of carbon leakage and the industry's competitiveness are taken into account when formulating the policy. This provides guidelines for the use of instruments to reduce national emissions towards both 2030 and 2050.\",\n",
       "       '0', 'Does not apply',\n",
       "       'La monitorización se realiza conforme a lo establecido en el Pacto de las Alcaldías.',\n",
       "       'MRV system is in place however the county still is establishing its M& E department and staff capacity is low on MRV',\n",
       "       'The City of Adelaide completes the measurement, reporting of organisational emissions on an annual basis and has completed verification process of the Climate Active certification administered by the Australian Government, for FY 2018/19. While not yet awarded, the certification will be achieved once offsets have been purchased and retired to reach a state of achieving net zero emissions, otherwise known as carbon neutrality.',\n",
       "       'Como una forma de control y manejo del avance de estas acciones, existe el Sistema de Seguimiento del Programa de Acción Climática el cual es un sistema informático en linea, dentro del cual diferentes dependencias del gobierno de la Ciudad de México realizan los reportes correspondientes mensuales al avance de sus acciones.',\n",
       "       'ICLEI Clearpath',\n",
       "       'Este reporte iniciara cuando entre en ejecución el plan de acción climática.',\n",
       "       'se implementará un sistema de MRV de las acciones del plan integral de adaptación y  mitigación al cambio climático.',\n",
       "       'No âmbito do programa FEE/ABAE anualmente (e de forma facultativa) Águeda tem aderido às solicitações apresentadas, com um reporte exaustivo do desempenho ambiental e de sustentabilidade, de acordo com os 21 indicadores analizados, os quais se subdividem em mais de 100 subindicadores.  A nível nacional o INE recolhe informação relacionada com os diversos indicadores estatísticos, que incluem os consumos e a produção de energia, entre muitas outras rubricas contempladas. Esta recolha e disponibilização de dados é também efetuada no município, bem como nas unidades territoriais de nomenclatura superior.',\n",
       "       'No system in place.'], dtype=object)"
      ]
     },
     "execution_count": 34,
     "metadata": {},
     "output_type": "execute_result"
    }
   ],
   "source": [
    "cdf['Response Answer'].unique()"
   ]
  },
  {
   "cell_type": "code",
   "execution_count": 35,
   "metadata": {},
   "outputs": [
    {
     "data": {
      "text/plain": [
       "87"
      ]
     },
     "execution_count": 35,
     "metadata": {},
     "output_type": "execute_result"
    }
   ],
   "source": [
    "len(cdf['Response Answer'].where(cdf['Response Answer']!='Question not applicable').dropna())"
   ]
  },
  {
   "cell_type": "markdown",
   "metadata": {},
   "source": [
    "## New approach - Parent Section\n",
    "\n",
    "Focusing on Parent Section"
   ]
  },
  {
   "cell_type": "code",
   "execution_count": 48,
   "metadata": {},
   "outputs": [],
   "source": [
    "def get_top_n_bigram(corpus, n=None, ngram_range_dim=2):\n",
    "    vec = TfidfVectorizer(ngram_range=(ngram_range_dim,ngram_range_dim), stop_words='english').fit(corpus)\n",
    "    bag_of_words = vec.transform(corpus)\n",
    "    sum_words = bag_of_words.sum(axis=0) \n",
    "    words_freq = [(word, sum_words[0, idx]) for word, idx in vec.vocabulary_.items()]\n",
    "    words_freq =sorted(words_freq, key = lambda x: x[1], reverse=True)\n",
    "    return words_freq[:n]\n",
    "\n",
    "def get_top_n_words(corpus, n=None):\n",
    "    vec = TfidfVectorizer(stop_words = 'english').fit(corpus)\n",
    "    bag_of_words = vec.transform(corpus)\n",
    "    sum_words = bag_of_words.sum(axis=0) \n",
    "    words_freq = [(word, sum_words[0, idx]) for word, idx in vec.vocabulary_.items()]\n",
    "    words_freq =sorted(words_freq, key = lambda x: x[1], reverse=True)\n",
    "    return words_freq[:n]"
   ]
  },
  {
   "cell_type": "code",
   "execution_count": 36,
   "metadata": {},
   "outputs": [
    {
     "data": {
      "text/plain": [
       "['Account Number',\n",
       " 'Organization',\n",
       " 'Country',\n",
       " 'CDP Region',\n",
       " 'Parent Section',\n",
       " 'Section',\n",
       " 'Question Number',\n",
       " 'Question Name',\n",
       " 'Column Number',\n",
       " 'Column Name',\n",
       " 'Row Number',\n",
       " 'Row Name',\n",
       " 'Response Answer',\n",
       " 'Comments',\n",
       " 'File Name']"
      ]
     },
     "execution_count": 36,
     "metadata": {},
     "output_type": "execute_result"
    }
   ],
   "source": [
    "[*cities_df]"
   ]
  },
  {
   "cell_type": "code",
   "execution_count": 37,
   "metadata": {},
   "outputs": [
    {
     "data": {
      "text/plain": [
       "array([nan, 'City-wide Emissions', 'Opportunities',\n",
       "       'Governance and Data Management', 'Water Security',\n",
       "       'Local Government Emissions', 'Introduction', 'Adaptation',\n",
       "       'Climate Hazards and Vulnerability', 'Emissions Reduction'],\n",
       "      dtype=object)"
      ]
     },
     "execution_count": 37,
     "metadata": {},
     "output_type": "execute_result"
    }
   ],
   "source": [
    "cities_df['Parent Section'].unique()"
   ]
  },
  {
   "cell_type": "markdown",
   "metadata": {},
   "source": [
    "### City-wide Emissions"
   ]
  },
  {
   "cell_type": "code",
   "execution_count": 38,
   "metadata": {},
   "outputs": [],
   "source": [
    "def select_question(cwe, quest):\n",
    "    return cwe[cwe['Question Name']==quest]"
   ]
  },
  {
   "cell_type": "code",
   "execution_count": 39,
   "metadata": {},
   "outputs": [],
   "source": [
    "cwe = cities_df[cities_df['Parent Section'] == 'City-wide Emissions']"
   ]
  },
  {
   "cell_type": "code",
   "execution_count": 40,
   "metadata": {},
   "outputs": [
    {
     "data": {
      "text/plain": [
       "array(['The Global Covenant of Mayors requires committed cities to report their inventories in the format of the new Common Reporting Framework, to encourage standard reporting of emissions data. Please provide a breakdown of your city-wide emissions by sector and sub-sector in the table below. Where emissions data is not available, please use the relevant notation keys to explain the reason why.',\n",
       "       'Please provide a summary of emissions factors and activity data used in your inventory.',\n",
       "       'Does your city have a strategy, or other policy document, in place for how to measure and reduce consumption-based GHG emissions in your city?',\n",
       "       'Which gases are included in your city-wide emissions inventory?',\n",
       "       'Please provide details on any historical and base year city-wide emissions inventories your city has, in order to allow assessment of targets in the table below.',\n",
       "       'Please provide a summary of emissions by sector and scope as defined in the Global Protocol for Community Greenhouse Gas Emissions Inventories (GPC) in the table below.',\n",
       "       'Please indicate if your city-wide emissions have increased, decreased, or stayed the same since your last emissions inventory, and describe why.',\n",
       "       'Where it will facilitate a greater understanding of your city-wide emissions, please provide a breakdown of these emissions by IPCC sector in the table below.',\n",
       "       'Please attach your city-wide inventory in Excel or other spreadsheet format and provide additional details on the inventory calculation methods in the table below.',\n",
       "       'Does your city have a consumption-based inventory to measure emissions from consumption of goods and services by your residents?',\n",
       "       'Please indicate the category that best describes the boundary of your city-wide GHG emissions inventory.',\n",
       "       'If the submitted GHG inventory is baseline inventory for target setting, please provide the Baseline Synthesis Report and stakeholder consultation process and results to this inventory.',\n",
       "       'Please provide your city’s recalculated total city-wide emissions figures for any previous inventories along with Scope 1, 2 and 3 breakdowns where applicable.',\n",
       "       'Please provide a breakdown of your GHG emissions by scope. Where values are not available, please use the comment field to indicate the reason why.',\n",
       "       'Has the city-wide GHG emissions data you are currently reporting been externally verified or audited in part or in whole?',\n",
       "       'Please give the name of the primary protocol, standard, or methodology you have used to calculate your city’s city-wide GHG emissions.',\n",
       "       'Please provide the following information about the city-wide emissions verification.',\n",
       "       'Please state the dates of the accounting year or 12-month period for which you are reporting your latest city-wide GHG emissions inventory.',\n",
       "       'Where it will facilitate a greater understanding of your\\u202fcity-wide\\u202femissions, please provide a breakdown of these emissions by end user (buildings, water, waste, transport), economic sector (residential, commercial, industrial, institutional), or any other classification system used in your city.',\n",
       "       'Where it will facilitate a greater understanding of your city-wide emissions, please provide a breakdown of these emissions by the US Community Protocol sources.',\n",
       "       'Please explain why your city-wide emissions inventory is not verified and describe any plans to verify your city-wide emissions in the future.',\n",
       "       'Since your last submission, have you needed to recalculate any past city-wide GHG emission inventories previously reported to CDP?',\n",
       "       'Does your city have a city-wide emissions inventory to report?',\n",
       "       'The Global Covenant of Mayors requires committed cities to report their inventories in the format of the new Common Reporting Framework (CRF). Would you like to report your inventory in the CRF format or continue to report in the GPC format? This question triggers the display of the corresponding emissions table.'],\n",
       "      dtype=object)"
      ]
     },
     "execution_count": 40,
     "metadata": {},
     "output_type": "execute_result"
    }
   ],
   "source": [
    "cwe['Question Name'].unique()"
   ]
  },
  {
   "cell_type": "markdown",
   "metadata": {},
   "source": [
    "### Which gases are included in your city-wide emissions inventory?"
   ]
  },
  {
   "cell_type": "code",
   "execution_count": 41,
   "metadata": {},
   "outputs": [
    {
     "data": {
      "text/plain": [
       "array(['HFCs', 'CO2', 'N20', 'PFCs', 'Question not applicable', 'CH4',\n",
       "       'NF3', nan, 'SF6'], dtype=object)"
      ]
     },
     "execution_count": 41,
     "metadata": {},
     "output_type": "execute_result"
    }
   ],
   "source": [
    "quest = 'Which gases are included in your city-wide emissions inventory?'\n",
    "which_gas = select_question(cwe, quest)\n",
    "which_gas['Response Answer'].unique()"
   ]
  },
  {
   "cell_type": "markdown",
   "metadata": {},
   "source": [
    "### Does your city have a city-wide emissions inventory to report?"
   ]
  },
  {
   "cell_type": "code",
   "execution_count": 42,
   "metadata": {},
   "outputs": [
    {
     "data": {
      "text/plain": [
       "array(['Yes', 'In progress', nan,\n",
       "       'Intending to undertake in the next 2 years',\n",
       "       'Not intending to undertake'], dtype=object)"
      ]
     },
     "execution_count": 42,
     "metadata": {},
     "output_type": "execute_result"
    }
   ],
   "source": [
    "quest ='Does your city have a city-wide emissions inventory to report?'\n",
    "select_question(cwe, quest)['Response Answer'].unique()"
   ]
  },
  {
   "cell_type": "markdown",
   "metadata": {},
   "source": [
    "### Where it will facilitate a greater understanding of your\\u202fcity-wide\\u202femissions, please provide a breakdown of these emissions by end user (buildings, water, waste, transport), economic sector (residential, commercial, industrial, institutional), or any other classification system used in your city."
   ]
  },
  {
   "cell_type": "code",
   "execution_count": 58,
   "metadata": {},
   "outputs": [
    {
     "data": {
      "text/plain": [
       "array(['Question not applicable', 'Heating Oil', 'No Response',\n",
       "       '24618.38', 'Stationary energy (buildings)', '425941',\n",
       "       'Transportation', '21580',\n",
       "       'Other, please specify: Waste and Wastwater', 'Total figure',\n",
       "       'Gasoline and diesel', '521570',\n",
       "       \"Industry, oil and gas. This sector includes greenhouse gas emissions from oil and gas extraction, industry and mining. The sector includes many companies subject to quotas. Emissions from oil and gas extraction account for more than 50 per cent of the sector's emissions and are mainly found on the continental shelf. Activities on the continental shelf fall outside the municipal distribution emissions, and is not included in the greenhouse gas accounts for municipalities. However, there are also some onshore facilities in this industry, and emissions from these are distributed to the municipalities where the facilities are located. This applies to emissions from combustion, processes and evaporation from facilities for receiving and processing crude oil and natural gas. CO2 emissions from the combustion of biomass are considered net zero emissions and are not included in the statistics.Emissions of greenhouse gases in municipalities. Published by the Norwegian Environment Agency. link: https://www.miljodirektoratet.no/tjenester/klimagassutslipp-kommuner/area=430&sector=-2\",\n",
       "       'fossil fuels for all non-electric residential end uses', '433878',\n",
       "       '283.84', 'Other, please specify: Animal husbandry',\n",
       "       'Other, please specify: agriculture', '70182',\n",
       "       'fossil fuel for all industrial non-electric end uses',\n",
       "       'Other, please specify: Pubblic Buildings; Residential Buildings; Commercial Buildings;  Industry (escluding ETS); Pubblic lighting',\n",
       "       'Commercial/Industrial Energy Delivery Facility',\n",
       "       'Commercial buildings', '1846.93',\n",
       "       'fossil fuel use for water/wastewater', 'Scope 1', '1078961.16',\n",
       "       'RUS',\n",
       "       'Agriculture. The greenhouse gas accounts for municipalities for agriculture show three sources of emissions: digestive processes in livestock, manure handling and agricultural areas, and are calculated in their entirety by Statistics Norway. The emissions are related to biological processes in the livestock, manure and arable land that lead to the formation of methane and nitrous oxide. Emissions from energy use in agriculture are not included here, but are placed on the use of tools and heating. In order to obtain emission figures from agriculture, many different calculations must be made, since there are a number of sources (processes) that cause emissions in agriculture. The starting point for the emission figures on municipal level are calculations at national level. They are then broken down into counties and municipalities by various distribution keys such as the number of livestock, calculated amount of nitrogen in livestock manure, fully cultivated agricultural area, calculated area organic soil, etc.Emissions of greenhouse gases in municipalities. Published by the Norwegian Environment Agency. link: https://www.miljodirektoratet.no/tjenester/klimagassutslipp-kommuner/area=430&sector=-2',\n",
       "       'Rice Fields', '156136.9', 'Residential buildings',\n",
       "       'Public buildings', '192992.91',\n",
       "       'Self-examination Data (From private sector)',\n",
       "       'Other, please specify: AAgriculture; fishing; forestry',\n",
       "       'Residential Energy Facilities', '62300',\n",
       "       'Relatório Anual de energia e emissões (ano 2017)',\n",
       "       'Other, please specify: Energy', '670590', '267996.87', '15800',\n",
       "       '33.94', '23200', 'Other, please specify: heating', '1496291.25',\n",
       "       'F-gases', 'Agriculture, Forestry and Livestock', '7124.89',\n",
       "       'Residential and commercial use', '2000', '300', '105173.28',\n",
       "       '299924.82', 'Livestock breeding', '185133', '11021.9', '28660.41',\n",
       "       'Scope 2', 'Industrial buildings', '91293',\n",
       "       'Other mobile combustion consists of: 1.) Diesel-powered power tools This source of emissions includes emissions from the use of duty-free diesel in power tools in, among other things, agriculture, forestry, defense, construction and civil engineering. Emissions from tractors and construction machinery are the largest the emission sources. Diesel-powered power tools also include machinery used by private households. The sales statistics for petroleum products provide an overview of sales of duty-free diesel in Norway. Sales of petroleum products are divided into energy products, industry (NACE) and counties. It is believed that a significant part of the sale of this energy product is used in power tools (non-road mobile machines). For a large proportion of sales, there is information about the postcode where the item is delivered. This means that information on sales to individual municipalities is available. The distribution key for allocating national emissions from the use of duty-free diesel to municipalities is made on the basis of sales in the petroleum statistics: all sales of duty-free diesel registered in the sales statistics for petroleum products, except sales to industry and mining, and sales to electricity, gas, steam and hot water supply (NACE 35,300) is distributed by municipality where there is a delivery address. Sales to these industries have been taken out because energy consumption and emissions are included in the emission sources \"Industry and oil and gas extraction\" and \"Energy supply\". 2.) Snowmobile. This sector includes emissions from registered snowmobiles (tracked motorcycles) in Norwegian municipalities. The emissions are distributed by municipality on the basis of where the snowmobile is registered. To calculate emissions from snowmobiles distributed in Norwegian municipalities, stock data is used for registered tracked motorcycles per municipality from the Road Traffic Information Council (OFV).Emissions of greenhouse gases in municipalities. Published by the Norwegian Environment Agency. link: https://www.miljodirektoratet.no/tjenester/klimagassutslipp-kommuner/area=430&sector=-2',\n",
       "       'Other, please specify: product use', 'Wastewater',\n",
       "       'Water/Sea transportatio',\n",
       "       'Other, please specify: Other mobile combustion', 'Incineration',\n",
       "       '90.07', 'fossil fuel use in the agriculture sector', '298040',\n",
       "       'Shipping. The greenhouse gas accounts for municipalities include emissions from all shipping in the municipality, ie emissions from both domestic, foreign and transit traffic included. Cruise traffic is voyages that take place in Norwegian sea areas, but where the ship does not call at any Norwegian port. Emission statistics for shipping are calculated by the Norwegian Coastal Administration. The emission figures are calculated with the same methodology used in Havbase (havbase.no), and is further geographically distributed, with the territorial boundary as the outer boundary (12 nautical miles outside the baseline). Svalbard is not included in the data material. The calculations use information about ship movements obtained from Automatic Identification System (AIS) transponders. This information is linked to ship-specific information which are retrieved from maritime databases, mainly from IHS-Fairplay. The overall information is used then to estimate fuel consumption and emissions. Data resolution is 6 min. between each position indication. Emissions are calculated directly based on fuel consumption under observed speed / engine load. One description of the method is available from the Norwegian Coastal Administration (Kystverket, A). Information about AIS as a data source is described in a method note from the Norwegian Coastal Administration (Kystverket, B).',\n",
       "       '401956.14', 'Other, please specify: Shipping', '0', 'BEIS',\n",
       "       'Industry', 'Electriciy',\n",
       "       \"Transportation. Road traffic. NILU and Urbanet Analyze have, on behalf of the Norwegian Environment Agency, developed the NERVE model to calculate emissions from road traffic in Norway's municipalities. The method used is described in a separate method note, which can be downloaded here: https://nilu.brage.unit.no/niluxmlui/bitstream/handle/11250/2569414/NILU%2bNR%2b28-2018.pdfsequence= 2 & isAllowed = y. NERVE is a model that quantifies greenhouse gas emissions from road traffic for Norwegian municipalities. The model calculates emissions for all traffic-registered vehicles of the type LL 12345. To capture the effects of local conditions, high spatial resolution and detailed input data are required. NERVE is built on «bottom-up» - principles, ie that it is based on geographically high-resolution activity data - traffic work (TA) per road link, which is multiplied by emission factors (EC) differentiated across car fleets and driving situations to calculate emissions (E). NERVE calculates emissions for different vehicle categories where the emissions depend on both the vehicle's size, fuel (petrol, diesel, LPG, CNG, electric), type and Euro technology, but also which driving situation, ie speed, incline, type of road, traffic flow and surroundings in which the vehicle is located in.Emissions of greenhouse gases in municipalities. Published by the Norwegian Environment Agency. link: https://www.miljodirektoratet.no/tjenester/klimagassutslipp-kommuner/area=430&sector=-2\",\n",
       "       '22000', 'Electricity',\n",
       "       'Waste and sewage. This sector includes greenhouse gas emissions from the emission sources waste landfill gas, biological treatment of waste, as well as discharges from drains. In this sector, greenhouse gas emissions are calculated from the amount of organic waste. Therefore, only methane and nitrous oxide emissions are included in the calculations. Biological treatment of waste includes emissions from the subcategories of home composting, composting plants and biogas plants. Emissions from waste incineration are included in the energy sector since Incineration of waste (municipal, industrial and medical) in Norway is now largely done with energy recovery.Emissions of greenhouse gases in municipalities. Published by the Norwegian Environment Agency. link: https://www.miljodirektoratet.no/tjenester/klimagassutslipp-kommuner/area=430&sector=-2',\n",
       "       'Electricity (consumption)', '91117',\n",
       "       'Other, please specify: Industry', '114200', '2160790',\n",
       "       'Industrial wastewater', 'air freight', '971716', '9557.23',\n",
       "       'Natural Gas', 'Waste', 'Fishery', 'Waste treatment', '123673',\n",
       "       '289354', '59518.3', '5275.73', '55079.46', '741372',\n",
       "       'all fossil electric generation', '15200',\n",
       "       'fossil fuels for all non-electric commercial end uses',\n",
       "       'Other, please specify: energy supply',\n",
       "       'IBEIMErev08042019 of 2016', '36000', '8000',\n",
       "       'Other, please specify: Process & Fugitive Emissions',\n",
       "       'Heating of buildings (electric, oil, district, other heating)',\n",
       "       '428410', '8463.8',\n",
       "       'Heating. This sector includes emissions from heating commercial buildings and households by the emission sources fossil heating and wood burning. For wood burning, CO2 emissions are calculated as net zero emissions, but wood burning causes some emissions of methane and nitrous oxide. For electricity and district heating used emission factor 0 because the greenhouse gas accounts for municipalities only look at direct emissions (Scope 1). However, heating can have indirect emissions as a result of the production of electricity and district heating. These emissions are included in emission figures for the energy supply sector. link: Emissions of greenhouse gases in municipalities. Published by the Norwegian Environment Agency. link: https://www.miljodirektoratet.no/tjenester/klimagassutslipp-kommuner/area=430&sector=-2',\n",
       "       '21686.19', '1768.6', '2225', 'domestic sewage', '32736', '53035',\n",
       "       '4000', 'Rail transportation', '89626',\n",
       "       'Other, please specify: Farming', '223530', '799.65',\n",
       "       'road transportation', 'Electricity and natural gas',\n",
       "       'Other, please specify: AFOLU',\n",
       "       'Other, please specify: Industry, oil and gas',\n",
       "       'Other, please specify: working machines',\n",
       "       'Traffic (road, water, rail transportation)', 'Compost', '30700',\n",
       "       '942', '49200',\n",
       "       'Other, please specify:  Agriculture; fishing; forestry', '19000',\n",
       "       'Machinery', '3700', '146107', '429033', '1352972.76', '7400',\n",
       "       '399.92', '7726.5', '2682360',\n",
       "       'Other, please specify: Industry energy  and processes',\n",
       "       'Industrial production', 'Non-road transportation', '84087',\n",
       "       '54238.9', '166502.52', 'Other, please specify: Agriculture',\n",
       "       '10500', 'Transportation Lighting', '162583.76', '9800', '7141.5',\n",
       "       '61508', '4478.77', 'Other, please specify: Domestic',\n",
       "       'all fossil transportation fuels', 'Landfill', '66092', '10471',\n",
       "       '149020', '53150', '700', '78000',\n",
       "       'Energy supply. This sector includes greenhouse gas emissions from the emission sources waste incineration, district heating excluded waste incineration, and electricity production and other energy supply. The emissions are caused in mainly of waste incineration, various petroleum products such as heating oil, kerosene, natural gas, refinery gas and effluent m.m. CO2 emissions from biomass combustion are calculated as net zero emissions and are not included in the greenhouse gas accounts for municipalities. CO2 is therefore only calculated for the fossil share of incinerated waste. However, methane and nitrous oxide emissions from biomass combustion are included in the statistics (read more about net zero emissions in Chapter 2). At the national level, emissions from waste incineration accounted for approx. 50 percent of the total emissions from the energy supply sector in 2018.Emissions of greenhouse gases in municipalities. Published by the Norwegian Environment Agency. link: https://www.miljodirektoratet.no/tjenester/klimagassutslipp-kommuner/area=430&sector=-2',\n",
       "       'Agriculture', '13000'], dtype=object)"
      ]
     },
     "execution_count": 58,
     "metadata": {},
     "output_type": "execute_result"
    }
   ],
   "source": [
    "quest = 'Where it will facilitate a greater understanding of your\\u202fcity-wide\\u202femissions, please provide a breakdown of these emissions by end user (buildings, water, waste, transport), economic sector (residential, commercial, industrial, institutional), or any other classification system used in your city.'\n",
    "select = select_question(cwe, quest)['Response Answer']\n",
    "select.unique()"
   ]
  },
  {
   "cell_type": "code",
   "execution_count": 59,
   "metadata": {},
   "outputs": [
    {
     "data": {
      "text/plain": [
       "2752"
      ]
     },
     "execution_count": 59,
     "metadata": {},
     "output_type": "execute_result"
    }
   ],
   "source": [
    "len(select)"
   ]
  },
  {
   "cell_type": "code",
   "execution_count": 54,
   "metadata": {},
   "outputs": [
    {
     "name": "stdout",
     "output_type": "stream",
     "text": [
      "applicable 81418.5944568713\n",
      "question 81405.38156608999\n",
      "response 52751.14039496174\n",
      "estimated 4704.389036133569\n",
      "occurring 3293.5326080875157\n",
      "emissions 2326.9258587120135\n",
      "direct 1855.4208205632194\n",
      "integrated 1551.7259974865044\n",
      "co2e 1172.4686498941296\n",
      "crf 1076.2736380741048\n",
      "yes 1048.3007949400494\n",
      "01 1012.1854106649139\n",
      "scope 978.5045363536253\n",
      "tonne 891.7199835938064\n",
      "ch4 828.1044057209817\n",
      "kg 759.8995363059985\n",
      "energy 736.353804169626\n",
      "ipcc 731.6472225986338\n",
      "gas 726.2425892183334\n",
      "kilogram 706.2749314133965\n",
      "n20 682.6511114006821\n",
      "indirect 632.1932637463282\n",
      "electricity 626.9601779140074\n",
      "12 606.1199117203964\n",
      "31 604.8512139298217\n",
      "buildings 572.7441402545817\n",
      "stationary 562.2733959768833\n",
      "city 562.1929344638475\n",
      "specify 545.270470471024\n",
      "co2 530.4361950382058\n",
      "c02 518.6074651131695\n",
      "use 505.32962932796664\n",
      "total 495.1684046628568\n",
      "transportation 492.37950955010507\n",
      "inventory 446.2133599792286\n",
      "gpc 435.11646664187003\n",
      "greenhouse 430.22107096380086\n",
      "community 372.1141192090614\n",
      "road 364.7494005617998\n",
      "undertake 355.130021601142\n",
      "intending 354.67583025847307\n",
      "oil 345.9252484564126\n",
      "2018 339.8835337439112\n",
      "facilities 328.10394724947423\n",
      "protocol 321.26950227760915\n",
      "inventories 315.4603601572945\n",
      "tj 304.0933459597203\n",
      "data 299.8006671564648\n",
      "2017 292.6453984151162\n",
      "industrial 292.20565768602745\n"
     ]
    },
    {
     "data": {
      "application/vnd.plotly.v1+json": {
       "config": {
        "plotlyServerURL": "https://plot.ly"
       },
       "data": [
        {
         "alignmentgroup": "True",
         "hovertemplate": "word=%{x}<br>count=%{y}<extra></extra>",
         "legendgroup": "",
         "marker": {
          "color": "#636efa"
         },
         "name": "",
         "offsetgroup": "",
         "orientation": "v",
         "showlegend": false,
         "textposition": "auto",
         "type": "bar",
         "x": [
          "applicable",
          "question",
          "response",
          "estimated",
          "occurring",
          "emissions",
          "direct",
          "integrated",
          "co2e",
          "crf",
          "yes",
          "01",
          "scope",
          "tonne",
          "ch4",
          "kg",
          "energy",
          "ipcc",
          "gas",
          "kilogram",
          "n20",
          "indirect",
          "electricity",
          "12",
          "31",
          "buildings",
          "stationary",
          "city",
          "specify",
          "co2",
          "c02",
          "use",
          "total",
          "transportation",
          "inventory",
          "gpc",
          "greenhouse",
          "community",
          "road",
          "undertake",
          "intending",
          "oil",
          "2018",
          "facilities",
          "protocol",
          "inventories",
          "tj",
          "data",
          "2017",
          "industrial"
         ],
         "xaxis": "x",
         "y": [
          81418.5944568713,
          81405.38156608999,
          52751.14039496174,
          4704.389036133569,
          3293.5326080875157,
          2326.9258587120135,
          1855.4208205632194,
          1551.7259974865044,
          1172.4686498941296,
          1076.2736380741048,
          1048.3007949400494,
          1012.1854106649139,
          978.5045363536253,
          891.7199835938064,
          828.1044057209817,
          759.8995363059985,
          736.353804169626,
          731.6472225986338,
          726.2425892183334,
          706.2749314133965,
          682.6511114006821,
          632.1932637463282,
          626.9601779140074,
          606.1199117203964,
          604.8512139298217,
          572.7441402545817,
          562.2733959768833,
          562.1929344638475,
          545.270470471024,
          530.4361950382058,
          518.6074651131695,
          505.32962932796664,
          495.1684046628568,
          492.37950955010507,
          446.2133599792286,
          435.11646664187003,
          430.22107096380086,
          372.1141192090614,
          364.7494005617998,
          355.130021601142,
          354.67583025847307,
          345.9252484564126,
          339.8835337439112,
          328.10394724947423,
          321.26950227760915,
          315.4603601572945,
          304.0933459597203,
          299.8006671564648,
          292.6453984151162,
          292.20565768602745
         ],
         "yaxis": "y"
        }
       ],
       "layout": {
        "barmode": "relative",
        "legend": {
         "tracegroupgap": 0
        },
        "margin": {
         "t": 60
        },
        "template": {
         "data": {
          "bar": [
           {
            "error_x": {
             "color": "#2a3f5f"
            },
            "error_y": {
             "color": "#2a3f5f"
            },
            "marker": {
             "line": {
              "color": "white",
              "width": 0.5
             }
            },
            "type": "bar"
           }
          ],
          "barpolar": [
           {
            "marker": {
             "line": {
              "color": "white",
              "width": 0.5
             }
            },
            "type": "barpolar"
           }
          ],
          "carpet": [
           {
            "aaxis": {
             "endlinecolor": "#2a3f5f",
             "gridcolor": "#C8D4E3",
             "linecolor": "#C8D4E3",
             "minorgridcolor": "#C8D4E3",
             "startlinecolor": "#2a3f5f"
            },
            "baxis": {
             "endlinecolor": "#2a3f5f",
             "gridcolor": "#C8D4E3",
             "linecolor": "#C8D4E3",
             "minorgridcolor": "#C8D4E3",
             "startlinecolor": "#2a3f5f"
            },
            "type": "carpet"
           }
          ],
          "choropleth": [
           {
            "colorbar": {
             "outlinewidth": 0,
             "ticks": ""
            },
            "type": "choropleth"
           }
          ],
          "contour": [
           {
            "colorbar": {
             "outlinewidth": 0,
             "ticks": ""
            },
            "colorscale": [
             [
              0,
              "#0d0887"
             ],
             [
              0.1111111111111111,
              "#46039f"
             ],
             [
              0.2222222222222222,
              "#7201a8"
             ],
             [
              0.3333333333333333,
              "#9c179e"
             ],
             [
              0.4444444444444444,
              "#bd3786"
             ],
             [
              0.5555555555555556,
              "#d8576b"
             ],
             [
              0.6666666666666666,
              "#ed7953"
             ],
             [
              0.7777777777777778,
              "#fb9f3a"
             ],
             [
              0.8888888888888888,
              "#fdca26"
             ],
             [
              1,
              "#f0f921"
             ]
            ],
            "type": "contour"
           }
          ],
          "contourcarpet": [
           {
            "colorbar": {
             "outlinewidth": 0,
             "ticks": ""
            },
            "type": "contourcarpet"
           }
          ],
          "heatmap": [
           {
            "colorbar": {
             "outlinewidth": 0,
             "ticks": ""
            },
            "colorscale": [
             [
              0,
              "#0d0887"
             ],
             [
              0.1111111111111111,
              "#46039f"
             ],
             [
              0.2222222222222222,
              "#7201a8"
             ],
             [
              0.3333333333333333,
              "#9c179e"
             ],
             [
              0.4444444444444444,
              "#bd3786"
             ],
             [
              0.5555555555555556,
              "#d8576b"
             ],
             [
              0.6666666666666666,
              "#ed7953"
             ],
             [
              0.7777777777777778,
              "#fb9f3a"
             ],
             [
              0.8888888888888888,
              "#fdca26"
             ],
             [
              1,
              "#f0f921"
             ]
            ],
            "type": "heatmap"
           }
          ],
          "heatmapgl": [
           {
            "colorbar": {
             "outlinewidth": 0,
             "ticks": ""
            },
            "colorscale": [
             [
              0,
              "#0d0887"
             ],
             [
              0.1111111111111111,
              "#46039f"
             ],
             [
              0.2222222222222222,
              "#7201a8"
             ],
             [
              0.3333333333333333,
              "#9c179e"
             ],
             [
              0.4444444444444444,
              "#bd3786"
             ],
             [
              0.5555555555555556,
              "#d8576b"
             ],
             [
              0.6666666666666666,
              "#ed7953"
             ],
             [
              0.7777777777777778,
              "#fb9f3a"
             ],
             [
              0.8888888888888888,
              "#fdca26"
             ],
             [
              1,
              "#f0f921"
             ]
            ],
            "type": "heatmapgl"
           }
          ],
          "histogram": [
           {
            "marker": {
             "colorbar": {
              "outlinewidth": 0,
              "ticks": ""
             }
            },
            "type": "histogram"
           }
          ],
          "histogram2d": [
           {
            "colorbar": {
             "outlinewidth": 0,
             "ticks": ""
            },
            "colorscale": [
             [
              0,
              "#0d0887"
             ],
             [
              0.1111111111111111,
              "#46039f"
             ],
             [
              0.2222222222222222,
              "#7201a8"
             ],
             [
              0.3333333333333333,
              "#9c179e"
             ],
             [
              0.4444444444444444,
              "#bd3786"
             ],
             [
              0.5555555555555556,
              "#d8576b"
             ],
             [
              0.6666666666666666,
              "#ed7953"
             ],
             [
              0.7777777777777778,
              "#fb9f3a"
             ],
             [
              0.8888888888888888,
              "#fdca26"
             ],
             [
              1,
              "#f0f921"
             ]
            ],
            "type": "histogram2d"
           }
          ],
          "histogram2dcontour": [
           {
            "colorbar": {
             "outlinewidth": 0,
             "ticks": ""
            },
            "colorscale": [
             [
              0,
              "#0d0887"
             ],
             [
              0.1111111111111111,
              "#46039f"
             ],
             [
              0.2222222222222222,
              "#7201a8"
             ],
             [
              0.3333333333333333,
              "#9c179e"
             ],
             [
              0.4444444444444444,
              "#bd3786"
             ],
             [
              0.5555555555555556,
              "#d8576b"
             ],
             [
              0.6666666666666666,
              "#ed7953"
             ],
             [
              0.7777777777777778,
              "#fb9f3a"
             ],
             [
              0.8888888888888888,
              "#fdca26"
             ],
             [
              1,
              "#f0f921"
             ]
            ],
            "type": "histogram2dcontour"
           }
          ],
          "mesh3d": [
           {
            "colorbar": {
             "outlinewidth": 0,
             "ticks": ""
            },
            "type": "mesh3d"
           }
          ],
          "parcoords": [
           {
            "line": {
             "colorbar": {
              "outlinewidth": 0,
              "ticks": ""
             }
            },
            "type": "parcoords"
           }
          ],
          "pie": [
           {
            "automargin": true,
            "type": "pie"
           }
          ],
          "scatter": [
           {
            "marker": {
             "colorbar": {
              "outlinewidth": 0,
              "ticks": ""
             }
            },
            "type": "scatter"
           }
          ],
          "scatter3d": [
           {
            "line": {
             "colorbar": {
              "outlinewidth": 0,
              "ticks": ""
             }
            },
            "marker": {
             "colorbar": {
              "outlinewidth": 0,
              "ticks": ""
             }
            },
            "type": "scatter3d"
           }
          ],
          "scattercarpet": [
           {
            "marker": {
             "colorbar": {
              "outlinewidth": 0,
              "ticks": ""
             }
            },
            "type": "scattercarpet"
           }
          ],
          "scattergeo": [
           {
            "marker": {
             "colorbar": {
              "outlinewidth": 0,
              "ticks": ""
             }
            },
            "type": "scattergeo"
           }
          ],
          "scattergl": [
           {
            "marker": {
             "colorbar": {
              "outlinewidth": 0,
              "ticks": ""
             }
            },
            "type": "scattergl"
           }
          ],
          "scattermapbox": [
           {
            "marker": {
             "colorbar": {
              "outlinewidth": 0,
              "ticks": ""
             }
            },
            "type": "scattermapbox"
           }
          ],
          "scatterpolar": [
           {
            "marker": {
             "colorbar": {
              "outlinewidth": 0,
              "ticks": ""
             }
            },
            "type": "scatterpolar"
           }
          ],
          "scatterpolargl": [
           {
            "marker": {
             "colorbar": {
              "outlinewidth": 0,
              "ticks": ""
             }
            },
            "type": "scatterpolargl"
           }
          ],
          "scatterternary": [
           {
            "marker": {
             "colorbar": {
              "outlinewidth": 0,
              "ticks": ""
             }
            },
            "type": "scatterternary"
           }
          ],
          "surface": [
           {
            "colorbar": {
             "outlinewidth": 0,
             "ticks": ""
            },
            "colorscale": [
             [
              0,
              "#0d0887"
             ],
             [
              0.1111111111111111,
              "#46039f"
             ],
             [
              0.2222222222222222,
              "#7201a8"
             ],
             [
              0.3333333333333333,
              "#9c179e"
             ],
             [
              0.4444444444444444,
              "#bd3786"
             ],
             [
              0.5555555555555556,
              "#d8576b"
             ],
             [
              0.6666666666666666,
              "#ed7953"
             ],
             [
              0.7777777777777778,
              "#fb9f3a"
             ],
             [
              0.8888888888888888,
              "#fdca26"
             ],
             [
              1,
              "#f0f921"
             ]
            ],
            "type": "surface"
           }
          ],
          "table": [
           {
            "cells": {
             "fill": {
              "color": "#EBF0F8"
             },
             "line": {
              "color": "white"
             }
            },
            "header": {
             "fill": {
              "color": "#C8D4E3"
             },
             "line": {
              "color": "white"
             }
            },
            "type": "table"
           }
          ]
         },
         "layout": {
          "annotationdefaults": {
           "arrowcolor": "#2a3f5f",
           "arrowhead": 0,
           "arrowwidth": 1
          },
          "coloraxis": {
           "colorbar": {
            "outlinewidth": 0,
            "ticks": ""
           }
          },
          "colorscale": {
           "diverging": [
            [
             0,
             "#8e0152"
            ],
            [
             0.1,
             "#c51b7d"
            ],
            [
             0.2,
             "#de77ae"
            ],
            [
             0.3,
             "#f1b6da"
            ],
            [
             0.4,
             "#fde0ef"
            ],
            [
             0.5,
             "#f7f7f7"
            ],
            [
             0.6,
             "#e6f5d0"
            ],
            [
             0.7,
             "#b8e186"
            ],
            [
             0.8,
             "#7fbc41"
            ],
            [
             0.9,
             "#4d9221"
            ],
            [
             1,
             "#276419"
            ]
           ],
           "sequential": [
            [
             0,
             "#0d0887"
            ],
            [
             0.1111111111111111,
             "#46039f"
            ],
            [
             0.2222222222222222,
             "#7201a8"
            ],
            [
             0.3333333333333333,
             "#9c179e"
            ],
            [
             0.4444444444444444,
             "#bd3786"
            ],
            [
             0.5555555555555556,
             "#d8576b"
            ],
            [
             0.6666666666666666,
             "#ed7953"
            ],
            [
             0.7777777777777778,
             "#fb9f3a"
            ],
            [
             0.8888888888888888,
             "#fdca26"
            ],
            [
             1,
             "#f0f921"
            ]
           ],
           "sequentialminus": [
            [
             0,
             "#0d0887"
            ],
            [
             0.1111111111111111,
             "#46039f"
            ],
            [
             0.2222222222222222,
             "#7201a8"
            ],
            [
             0.3333333333333333,
             "#9c179e"
            ],
            [
             0.4444444444444444,
             "#bd3786"
            ],
            [
             0.5555555555555556,
             "#d8576b"
            ],
            [
             0.6666666666666666,
             "#ed7953"
            ],
            [
             0.7777777777777778,
             "#fb9f3a"
            ],
            [
             0.8888888888888888,
             "#fdca26"
            ],
            [
             1,
             "#f0f921"
            ]
           ]
          },
          "colorway": [
           "#636efa",
           "#EF553B",
           "#00cc96",
           "#ab63fa",
           "#FFA15A",
           "#19d3f3",
           "#FF6692",
           "#B6E880",
           "#FF97FF",
           "#FECB52"
          ],
          "font": {
           "color": "#2a3f5f"
          },
          "geo": {
           "bgcolor": "white",
           "lakecolor": "white",
           "landcolor": "white",
           "showlakes": true,
           "showland": true,
           "subunitcolor": "#C8D4E3"
          },
          "hoverlabel": {
           "align": "left"
          },
          "hovermode": "closest",
          "mapbox": {
           "style": "light"
          },
          "paper_bgcolor": "white",
          "plot_bgcolor": "white",
          "polar": {
           "angularaxis": {
            "gridcolor": "#EBF0F8",
            "linecolor": "#EBF0F8",
            "ticks": ""
           },
           "bgcolor": "white",
           "radialaxis": {
            "gridcolor": "#EBF0F8",
            "linecolor": "#EBF0F8",
            "ticks": ""
           }
          },
          "scene": {
           "xaxis": {
            "backgroundcolor": "white",
            "gridcolor": "#DFE8F3",
            "gridwidth": 2,
            "linecolor": "#EBF0F8",
            "showbackground": true,
            "ticks": "",
            "zerolinecolor": "#EBF0F8"
           },
           "yaxis": {
            "backgroundcolor": "white",
            "gridcolor": "#DFE8F3",
            "gridwidth": 2,
            "linecolor": "#EBF0F8",
            "showbackground": true,
            "ticks": "",
            "zerolinecolor": "#EBF0F8"
           },
           "zaxis": {
            "backgroundcolor": "white",
            "gridcolor": "#DFE8F3",
            "gridwidth": 2,
            "linecolor": "#EBF0F8",
            "showbackground": true,
            "ticks": "",
            "zerolinecolor": "#EBF0F8"
           }
          },
          "shapedefaults": {
           "line": {
            "color": "#2a3f5f"
           }
          },
          "ternary": {
           "aaxis": {
            "gridcolor": "#DFE8F3",
            "linecolor": "#A2B1C6",
            "ticks": ""
           },
           "baxis": {
            "gridcolor": "#DFE8F3",
            "linecolor": "#A2B1C6",
            "ticks": ""
           },
           "bgcolor": "white",
           "caxis": {
            "gridcolor": "#DFE8F3",
            "linecolor": "#A2B1C6",
            "ticks": ""
           }
          },
          "title": {
           "x": 0.05
          },
          "xaxis": {
           "automargin": true,
           "gridcolor": "#EBF0F8",
           "linecolor": "#EBF0F8",
           "ticks": "",
           "title": {
            "standoff": 15
           },
           "zerolinecolor": "#EBF0F8",
           "zerolinewidth": 2
          },
          "yaxis": {
           "automargin": true,
           "gridcolor": "#EBF0F8",
           "linecolor": "#EBF0F8",
           "ticks": "",
           "title": {
            "standoff": 15
           },
           "zerolinecolor": "#EBF0F8",
           "zerolinewidth": 2
          }
         }
        },
        "title": {
         "text": "Response_Answer word count top 20"
        },
        "xaxis": {
         "anchor": "y",
         "domain": [
          0,
          1
         ],
         "title": {
          "text": "word"
         }
        },
        "yaxis": {
         "anchor": "x",
         "domain": [
          0,
          1
         ],
         "title": {
          "text": "count"
         }
        }
       }
      },
      "text/html": [
       "<div>                            <div id=\"5be4f932-408e-4ccd-8e2a-2de511af40a4\" class=\"plotly-graph-div\" style=\"height:525px; width:100%;\"></div>            <script type=\"text/javascript\">                require([\"plotly\"], function(Plotly) {                    window.PLOTLYENV=window.PLOTLYENV || {};                                    if (document.getElementById(\"5be4f932-408e-4ccd-8e2a-2de511af40a4\")) {                    Plotly.newPlot(                        \"5be4f932-408e-4ccd-8e2a-2de511af40a4\",                        [{\"alignmentgroup\": \"True\", \"hovertemplate\": \"word=%{x}<br>count=%{y}<extra></extra>\", \"legendgroup\": \"\", \"marker\": {\"color\": \"#636efa\"}, \"name\": \"\", \"offsetgroup\": \"\", \"orientation\": \"v\", \"showlegend\": false, \"textposition\": \"auto\", \"type\": \"bar\", \"x\": [\"applicable\", \"question\", \"response\", \"estimated\", \"occurring\", \"emissions\", \"direct\", \"integrated\", \"co2e\", \"crf\", \"yes\", \"01\", \"scope\", \"tonne\", \"ch4\", \"kg\", \"energy\", \"ipcc\", \"gas\", \"kilogram\", \"n20\", \"indirect\", \"electricity\", \"12\", \"31\", \"buildings\", \"stationary\", \"city\", \"specify\", \"co2\", \"c02\", \"use\", \"total\", \"transportation\", \"inventory\", \"gpc\", \"greenhouse\", \"community\", \"road\", \"undertake\", \"intending\", \"oil\", \"2018\", \"facilities\", \"protocol\", \"inventories\", \"tj\", \"data\", \"2017\", \"industrial\"], \"xaxis\": \"x\", \"y\": [81418.5944568713, 81405.38156608999, 52751.14039496174, 4704.389036133569, 3293.5326080875157, 2326.9258587120135, 1855.4208205632194, 1551.7259974865044, 1172.4686498941296, 1076.2736380741048, 1048.3007949400494, 1012.1854106649139, 978.5045363536253, 891.7199835938064, 828.1044057209817, 759.8995363059985, 736.353804169626, 731.6472225986338, 726.2425892183334, 706.2749314133965, 682.6511114006821, 632.1932637463282, 626.9601779140074, 606.1199117203964, 604.8512139298217, 572.7441402545817, 562.2733959768833, 562.1929344638475, 545.270470471024, 530.4361950382058, 518.6074651131695, 505.32962932796664, 495.1684046628568, 492.37950955010507, 446.2133599792286, 435.11646664187003, 430.22107096380086, 372.1141192090614, 364.7494005617998, 355.130021601142, 354.67583025847307, 345.9252484564126, 339.8835337439112, 328.10394724947423, 321.26950227760915, 315.4603601572945, 304.0933459597203, 299.8006671564648, 292.6453984151162, 292.20565768602745], \"yaxis\": \"y\"}],                        {\"barmode\": \"relative\", \"legend\": {\"tracegroupgap\": 0}, \"margin\": {\"t\": 60}, \"template\": {\"data\": {\"bar\": [{\"error_x\": {\"color\": \"#2a3f5f\"}, \"error_y\": {\"color\": \"#2a3f5f\"}, \"marker\": {\"line\": {\"color\": \"white\", \"width\": 0.5}}, \"type\": \"bar\"}], \"barpolar\": [{\"marker\": {\"line\": {\"color\": \"white\", \"width\": 0.5}}, \"type\": \"barpolar\"}], \"carpet\": [{\"aaxis\": {\"endlinecolor\": \"#2a3f5f\", \"gridcolor\": \"#C8D4E3\", \"linecolor\": \"#C8D4E3\", \"minorgridcolor\": \"#C8D4E3\", \"startlinecolor\": \"#2a3f5f\"}, \"baxis\": {\"endlinecolor\": \"#2a3f5f\", \"gridcolor\": \"#C8D4E3\", \"linecolor\": \"#C8D4E3\", \"minorgridcolor\": \"#C8D4E3\", \"startlinecolor\": \"#2a3f5f\"}, \"type\": \"carpet\"}], \"choropleth\": [{\"colorbar\": {\"outlinewidth\": 0, \"ticks\": \"\"}, \"type\": \"choropleth\"}], \"contour\": [{\"colorbar\": {\"outlinewidth\": 0, \"ticks\": \"\"}, \"colorscale\": [[0.0, \"#0d0887\"], [0.1111111111111111, \"#46039f\"], [0.2222222222222222, \"#7201a8\"], [0.3333333333333333, \"#9c179e\"], [0.4444444444444444, \"#bd3786\"], [0.5555555555555556, \"#d8576b\"], [0.6666666666666666, \"#ed7953\"], [0.7777777777777778, \"#fb9f3a\"], [0.8888888888888888, \"#fdca26\"], [1.0, \"#f0f921\"]], \"type\": \"contour\"}], \"contourcarpet\": [{\"colorbar\": {\"outlinewidth\": 0, \"ticks\": \"\"}, \"type\": \"contourcarpet\"}], \"heatmap\": [{\"colorbar\": {\"outlinewidth\": 0, \"ticks\": \"\"}, \"colorscale\": [[0.0, \"#0d0887\"], [0.1111111111111111, \"#46039f\"], [0.2222222222222222, \"#7201a8\"], [0.3333333333333333, \"#9c179e\"], [0.4444444444444444, \"#bd3786\"], [0.5555555555555556, \"#d8576b\"], [0.6666666666666666, \"#ed7953\"], [0.7777777777777778, \"#fb9f3a\"], [0.8888888888888888, \"#fdca26\"], [1.0, \"#f0f921\"]], \"type\": \"heatmap\"}], \"heatmapgl\": [{\"colorbar\": {\"outlinewidth\": 0, \"ticks\": \"\"}, \"colorscale\": [[0.0, \"#0d0887\"], [0.1111111111111111, \"#46039f\"], [0.2222222222222222, \"#7201a8\"], [0.3333333333333333, \"#9c179e\"], [0.4444444444444444, \"#bd3786\"], [0.5555555555555556, \"#d8576b\"], [0.6666666666666666, \"#ed7953\"], [0.7777777777777778, \"#fb9f3a\"], [0.8888888888888888, \"#fdca26\"], [1.0, \"#f0f921\"]], \"type\": \"heatmapgl\"}], \"histogram\": [{\"marker\": {\"colorbar\": {\"outlinewidth\": 0, \"ticks\": \"\"}}, \"type\": \"histogram\"}], \"histogram2d\": [{\"colorbar\": {\"outlinewidth\": 0, \"ticks\": \"\"}, \"colorscale\": [[0.0, \"#0d0887\"], [0.1111111111111111, \"#46039f\"], [0.2222222222222222, \"#7201a8\"], [0.3333333333333333, \"#9c179e\"], [0.4444444444444444, \"#bd3786\"], [0.5555555555555556, \"#d8576b\"], [0.6666666666666666, \"#ed7953\"], [0.7777777777777778, \"#fb9f3a\"], [0.8888888888888888, \"#fdca26\"], [1.0, \"#f0f921\"]], \"type\": \"histogram2d\"}], \"histogram2dcontour\": [{\"colorbar\": {\"outlinewidth\": 0, \"ticks\": \"\"}, \"colorscale\": [[0.0, \"#0d0887\"], [0.1111111111111111, \"#46039f\"], [0.2222222222222222, \"#7201a8\"], [0.3333333333333333, \"#9c179e\"], [0.4444444444444444, \"#bd3786\"], [0.5555555555555556, \"#d8576b\"], [0.6666666666666666, \"#ed7953\"], [0.7777777777777778, \"#fb9f3a\"], [0.8888888888888888, \"#fdca26\"], [1.0, \"#f0f921\"]], \"type\": \"histogram2dcontour\"}], \"mesh3d\": [{\"colorbar\": {\"outlinewidth\": 0, \"ticks\": \"\"}, \"type\": \"mesh3d\"}], \"parcoords\": [{\"line\": {\"colorbar\": {\"outlinewidth\": 0, \"ticks\": \"\"}}, \"type\": \"parcoords\"}], \"pie\": [{\"automargin\": true, \"type\": \"pie\"}], \"scatter\": [{\"marker\": {\"colorbar\": {\"outlinewidth\": 0, \"ticks\": \"\"}}, \"type\": \"scatter\"}], \"scatter3d\": [{\"line\": {\"colorbar\": {\"outlinewidth\": 0, \"ticks\": \"\"}}, \"marker\": {\"colorbar\": {\"outlinewidth\": 0, \"ticks\": \"\"}}, \"type\": \"scatter3d\"}], \"scattercarpet\": [{\"marker\": {\"colorbar\": {\"outlinewidth\": 0, \"ticks\": \"\"}}, \"type\": \"scattercarpet\"}], \"scattergeo\": [{\"marker\": {\"colorbar\": {\"outlinewidth\": 0, \"ticks\": \"\"}}, \"type\": \"scattergeo\"}], \"scattergl\": [{\"marker\": {\"colorbar\": {\"outlinewidth\": 0, \"ticks\": \"\"}}, \"type\": \"scattergl\"}], \"scattermapbox\": [{\"marker\": {\"colorbar\": {\"outlinewidth\": 0, \"ticks\": \"\"}}, \"type\": \"scattermapbox\"}], \"scatterpolar\": [{\"marker\": {\"colorbar\": {\"outlinewidth\": 0, \"ticks\": \"\"}}, \"type\": \"scatterpolar\"}], \"scatterpolargl\": [{\"marker\": {\"colorbar\": {\"outlinewidth\": 0, \"ticks\": \"\"}}, \"type\": \"scatterpolargl\"}], \"scatterternary\": [{\"marker\": {\"colorbar\": {\"outlinewidth\": 0, \"ticks\": \"\"}}, \"type\": \"scatterternary\"}], \"surface\": [{\"colorbar\": {\"outlinewidth\": 0, \"ticks\": \"\"}, \"colorscale\": [[0.0, \"#0d0887\"], [0.1111111111111111, \"#46039f\"], [0.2222222222222222, \"#7201a8\"], [0.3333333333333333, \"#9c179e\"], [0.4444444444444444, \"#bd3786\"], [0.5555555555555556, \"#d8576b\"], [0.6666666666666666, \"#ed7953\"], [0.7777777777777778, \"#fb9f3a\"], [0.8888888888888888, \"#fdca26\"], [1.0, \"#f0f921\"]], \"type\": \"surface\"}], \"table\": [{\"cells\": {\"fill\": {\"color\": \"#EBF0F8\"}, \"line\": {\"color\": \"white\"}}, \"header\": {\"fill\": {\"color\": \"#C8D4E3\"}, \"line\": {\"color\": \"white\"}}, \"type\": \"table\"}]}, \"layout\": {\"annotationdefaults\": {\"arrowcolor\": \"#2a3f5f\", \"arrowhead\": 0, \"arrowwidth\": 1}, \"coloraxis\": {\"colorbar\": {\"outlinewidth\": 0, \"ticks\": \"\"}}, \"colorscale\": {\"diverging\": [[0, \"#8e0152\"], [0.1, \"#c51b7d\"], [0.2, \"#de77ae\"], [0.3, \"#f1b6da\"], [0.4, \"#fde0ef\"], [0.5, \"#f7f7f7\"], [0.6, \"#e6f5d0\"], [0.7, \"#b8e186\"], [0.8, \"#7fbc41\"], [0.9, \"#4d9221\"], [1, \"#276419\"]], \"sequential\": [[0.0, \"#0d0887\"], [0.1111111111111111, \"#46039f\"], [0.2222222222222222, \"#7201a8\"], [0.3333333333333333, \"#9c179e\"], [0.4444444444444444, \"#bd3786\"], [0.5555555555555556, \"#d8576b\"], [0.6666666666666666, \"#ed7953\"], [0.7777777777777778, \"#fb9f3a\"], [0.8888888888888888, \"#fdca26\"], [1.0, \"#f0f921\"]], \"sequentialminus\": [[0.0, \"#0d0887\"], [0.1111111111111111, \"#46039f\"], [0.2222222222222222, \"#7201a8\"], [0.3333333333333333, \"#9c179e\"], [0.4444444444444444, \"#bd3786\"], [0.5555555555555556, \"#d8576b\"], [0.6666666666666666, \"#ed7953\"], [0.7777777777777778, \"#fb9f3a\"], [0.8888888888888888, \"#fdca26\"], [1.0, \"#f0f921\"]]}, \"colorway\": [\"#636efa\", \"#EF553B\", \"#00cc96\", \"#ab63fa\", \"#FFA15A\", \"#19d3f3\", \"#FF6692\", \"#B6E880\", \"#FF97FF\", \"#FECB52\"], \"font\": {\"color\": \"#2a3f5f\"}, \"geo\": {\"bgcolor\": \"white\", \"lakecolor\": \"white\", \"landcolor\": \"white\", \"showlakes\": true, \"showland\": true, \"subunitcolor\": \"#C8D4E3\"}, \"hoverlabel\": {\"align\": \"left\"}, \"hovermode\": \"closest\", \"mapbox\": {\"style\": \"light\"}, \"paper_bgcolor\": \"white\", \"plot_bgcolor\": \"white\", \"polar\": {\"angularaxis\": {\"gridcolor\": \"#EBF0F8\", \"linecolor\": \"#EBF0F8\", \"ticks\": \"\"}, \"bgcolor\": \"white\", \"radialaxis\": {\"gridcolor\": \"#EBF0F8\", \"linecolor\": \"#EBF0F8\", \"ticks\": \"\"}}, \"scene\": {\"xaxis\": {\"backgroundcolor\": \"white\", \"gridcolor\": \"#DFE8F3\", \"gridwidth\": 2, \"linecolor\": \"#EBF0F8\", \"showbackground\": true, \"ticks\": \"\", \"zerolinecolor\": \"#EBF0F8\"}, \"yaxis\": {\"backgroundcolor\": \"white\", \"gridcolor\": \"#DFE8F3\", \"gridwidth\": 2, \"linecolor\": \"#EBF0F8\", \"showbackground\": true, \"ticks\": \"\", \"zerolinecolor\": \"#EBF0F8\"}, \"zaxis\": {\"backgroundcolor\": \"white\", \"gridcolor\": \"#DFE8F3\", \"gridwidth\": 2, \"linecolor\": \"#EBF0F8\", \"showbackground\": true, \"ticks\": \"\", \"zerolinecolor\": \"#EBF0F8\"}}, \"shapedefaults\": {\"line\": {\"color\": \"#2a3f5f\"}}, \"ternary\": {\"aaxis\": {\"gridcolor\": \"#DFE8F3\", \"linecolor\": \"#A2B1C6\", \"ticks\": \"\"}, \"baxis\": {\"gridcolor\": \"#DFE8F3\", \"linecolor\": \"#A2B1C6\", \"ticks\": \"\"}, \"bgcolor\": \"white\", \"caxis\": {\"gridcolor\": \"#DFE8F3\", \"linecolor\": \"#A2B1C6\", \"ticks\": \"\"}}, \"title\": {\"x\": 0.05}, \"xaxis\": {\"automargin\": true, \"gridcolor\": \"#EBF0F8\", \"linecolor\": \"#EBF0F8\", \"ticks\": \"\", \"title\": {\"standoff\": 15}, \"zerolinecolor\": \"#EBF0F8\", \"zerolinewidth\": 2}, \"yaxis\": {\"automargin\": true, \"gridcolor\": \"#EBF0F8\", \"linecolor\": \"#EBF0F8\", \"ticks\": \"\", \"title\": {\"standoff\": 15}, \"zerolinecolor\": \"#EBF0F8\", \"zerolinewidth\": 2}}}, \"title\": {\"text\": \"Response_Answer word count top 20\"}, \"xaxis\": {\"anchor\": \"y\", \"domain\": [0.0, 1.0], \"title\": {\"text\": \"word\"}}, \"yaxis\": {\"anchor\": \"x\", \"domain\": [0.0, 1.0], \"title\": {\"text\": \"count\"}}},                        {\"responsive\": true}                    ).then(function(){\n",
       "                            \n",
       "var gd = document.getElementById('5be4f932-408e-4ccd-8e2a-2de511af40a4');\n",
       "var x = new MutationObserver(function (mutations, observer) {{\n",
       "        var display = window.getComputedStyle(gd).display;\n",
       "        if (!display || display === 'none') {{\n",
       "            console.log([gd, 'removed!']);\n",
       "            Plotly.purge(gd);\n",
       "            observer.disconnect();\n",
       "        }}\n",
       "}});\n",
       "\n",
       "// Listen for the removal of the full notebook cells\n",
       "var notebookContainer = gd.closest('#notebook-container');\n",
       "if (notebookContainer) {{\n",
       "    x.observe(notebookContainer, {childList: true});\n",
       "}}\n",
       "\n",
       "// Listen for the clearing of the current output cell\n",
       "var outputEl = gd.closest('.output');\n",
       "if (outputEl) {{\n",
       "    x.observe(outputEl, {childList: true});\n",
       "}}\n",
       "\n",
       "                        })                };                });            </script>        </div>"
      ]
     },
     "metadata": {},
     "output_type": "display_data"
    }
   ],
   "source": [
    "common_words = get_top_n_words(cwe['Response Answer'], 50)\n",
    "for word, freq in common_words:\n",
    "    print(word, freq)\n",
    "df1 = pd.DataFrame(common_words, columns = ['word' , 'count'])\n",
    "\n",
    "fig = px.bar(df1, x='word', y='count')\n",
    "fig.update_layout(title_text='Response_Answer word count top 20', template=\"plotly_white\")\n",
    "fig.show()"
   ]
  },
  {
   "cell_type": "code",
   "execution_count": 55,
   "metadata": {},
   "outputs": [
    {
     "name": "stderr",
     "output_type": "stream",
     "text": [
      "<ipython-input-55-cc8f2b9856dc>:1: SettingWithCopyWarning:\n",
      "\n",
      "\n",
      "A value is trying to be set on a copy of a slice from a DataFrame.\n",
      "Try using .loc[row_indexer,col_indexer] = value instead\n",
      "\n",
      "See the caveats in the documentation: https://pandas.pydata.org/pandas-docs/stable/user_guide/indexing.html#returning-a-view-versus-a-copy\n",
      "\n"
     ]
    },
    {
     "name": "stdout",
     "output_type": "stream",
     "text": [
      "applicable 81418.5944568713\n",
      "question 81405.38156608999\n",
      "response 52751.14039496174\n",
      "estimated 4704.389036133569\n",
      "occurring 3293.5326080875157\n",
      "emissions 2326.9258587120135\n",
      "direct 1855.4208205632194\n",
      "integrated 1551.7259974865044\n",
      "co2e 1172.4686498941296\n",
      "crf 1076.2736380741048\n",
      "yes 1048.3007949400494\n",
      "01 1012.1854106649139\n",
      "scope 978.5045363536253\n",
      "tonne 891.7199835938064\n",
      "ch4 828.1044057209817\n",
      "kg 759.8995363059985\n",
      "energy 736.353804169626\n",
      "ipcc 731.6472225986338\n",
      "gas 726.2425892183334\n",
      "kilogram 706.2749314133965\n",
      "n20 682.6511114006821\n",
      "indirect 632.1932637463282\n",
      "electricity 626.9601779140074\n",
      "12 606.1199117203964\n",
      "31 604.8512139298217\n",
      "buildings 572.7441402545817\n",
      "stationary 562.2733959768833\n",
      "city 562.1929344638475\n",
      "specify 545.270470471024\n",
      "co2 530.4361950382058\n"
     ]
    },
    {
     "data": {
      "application/vnd.plotly.v1+json": {
       "config": {
        "plotlyServerURL": "https://plot.ly"
       },
       "data": [
        {
         "alignmentgroup": "True",
         "hovertemplate": "word=%{x}<br>count=%{y}<extra></extra>",
         "legendgroup": "",
         "marker": {
          "color": "#636efa"
         },
         "name": "",
         "offsetgroup": "",
         "orientation": "v",
         "showlegend": false,
         "textposition": "auto",
         "type": "bar",
         "x": [
          "applicable",
          "question",
          "response",
          "estimated",
          "occurring",
          "emissions",
          "direct",
          "integrated",
          "co2e",
          "crf",
          "yes",
          "01",
          "scope",
          "tonne",
          "ch4",
          "kg",
          "energy",
          "ipcc",
          "gas",
          "kilogram",
          "n20",
          "indirect",
          "electricity",
          "12",
          "31",
          "buildings",
          "stationary",
          "city",
          "specify",
          "co2"
         ],
         "xaxis": "x",
         "y": [
          81418.5944568713,
          81405.38156608999,
          52751.14039496174,
          4704.389036133569,
          3293.5326080875157,
          2326.9258587120135,
          1855.4208205632194,
          1551.7259974865044,
          1172.4686498941296,
          1076.2736380741048,
          1048.3007949400494,
          1012.1854106649139,
          978.5045363536253,
          891.7199835938064,
          828.1044057209817,
          759.8995363059985,
          736.353804169626,
          731.6472225986338,
          726.2425892183334,
          706.2749314133965,
          682.6511114006821,
          632.1932637463282,
          626.9601779140074,
          606.1199117203964,
          604.8512139298217,
          572.7441402545817,
          562.2733959768833,
          562.1929344638475,
          545.270470471024,
          530.4361950382058
         ],
         "yaxis": "y"
        }
       ],
       "layout": {
        "barmode": "relative",
        "legend": {
         "tracegroupgap": 0
        },
        "margin": {
         "t": 60
        },
        "template": {
         "data": {
          "bar": [
           {
            "error_x": {
             "color": "#2a3f5f"
            },
            "error_y": {
             "color": "#2a3f5f"
            },
            "marker": {
             "line": {
              "color": "white",
              "width": 0.5
             }
            },
            "type": "bar"
           }
          ],
          "barpolar": [
           {
            "marker": {
             "line": {
              "color": "white",
              "width": 0.5
             }
            },
            "type": "barpolar"
           }
          ],
          "carpet": [
           {
            "aaxis": {
             "endlinecolor": "#2a3f5f",
             "gridcolor": "#C8D4E3",
             "linecolor": "#C8D4E3",
             "minorgridcolor": "#C8D4E3",
             "startlinecolor": "#2a3f5f"
            },
            "baxis": {
             "endlinecolor": "#2a3f5f",
             "gridcolor": "#C8D4E3",
             "linecolor": "#C8D4E3",
             "minorgridcolor": "#C8D4E3",
             "startlinecolor": "#2a3f5f"
            },
            "type": "carpet"
           }
          ],
          "choropleth": [
           {
            "colorbar": {
             "outlinewidth": 0,
             "ticks": ""
            },
            "type": "choropleth"
           }
          ],
          "contour": [
           {
            "colorbar": {
             "outlinewidth": 0,
             "ticks": ""
            },
            "colorscale": [
             [
              0,
              "#0d0887"
             ],
             [
              0.1111111111111111,
              "#46039f"
             ],
             [
              0.2222222222222222,
              "#7201a8"
             ],
             [
              0.3333333333333333,
              "#9c179e"
             ],
             [
              0.4444444444444444,
              "#bd3786"
             ],
             [
              0.5555555555555556,
              "#d8576b"
             ],
             [
              0.6666666666666666,
              "#ed7953"
             ],
             [
              0.7777777777777778,
              "#fb9f3a"
             ],
             [
              0.8888888888888888,
              "#fdca26"
             ],
             [
              1,
              "#f0f921"
             ]
            ],
            "type": "contour"
           }
          ],
          "contourcarpet": [
           {
            "colorbar": {
             "outlinewidth": 0,
             "ticks": ""
            },
            "type": "contourcarpet"
           }
          ],
          "heatmap": [
           {
            "colorbar": {
             "outlinewidth": 0,
             "ticks": ""
            },
            "colorscale": [
             [
              0,
              "#0d0887"
             ],
             [
              0.1111111111111111,
              "#46039f"
             ],
             [
              0.2222222222222222,
              "#7201a8"
             ],
             [
              0.3333333333333333,
              "#9c179e"
             ],
             [
              0.4444444444444444,
              "#bd3786"
             ],
             [
              0.5555555555555556,
              "#d8576b"
             ],
             [
              0.6666666666666666,
              "#ed7953"
             ],
             [
              0.7777777777777778,
              "#fb9f3a"
             ],
             [
              0.8888888888888888,
              "#fdca26"
             ],
             [
              1,
              "#f0f921"
             ]
            ],
            "type": "heatmap"
           }
          ],
          "heatmapgl": [
           {
            "colorbar": {
             "outlinewidth": 0,
             "ticks": ""
            },
            "colorscale": [
             [
              0,
              "#0d0887"
             ],
             [
              0.1111111111111111,
              "#46039f"
             ],
             [
              0.2222222222222222,
              "#7201a8"
             ],
             [
              0.3333333333333333,
              "#9c179e"
             ],
             [
              0.4444444444444444,
              "#bd3786"
             ],
             [
              0.5555555555555556,
              "#d8576b"
             ],
             [
              0.6666666666666666,
              "#ed7953"
             ],
             [
              0.7777777777777778,
              "#fb9f3a"
             ],
             [
              0.8888888888888888,
              "#fdca26"
             ],
             [
              1,
              "#f0f921"
             ]
            ],
            "type": "heatmapgl"
           }
          ],
          "histogram": [
           {
            "marker": {
             "colorbar": {
              "outlinewidth": 0,
              "ticks": ""
             }
            },
            "type": "histogram"
           }
          ],
          "histogram2d": [
           {
            "colorbar": {
             "outlinewidth": 0,
             "ticks": ""
            },
            "colorscale": [
             [
              0,
              "#0d0887"
             ],
             [
              0.1111111111111111,
              "#46039f"
             ],
             [
              0.2222222222222222,
              "#7201a8"
             ],
             [
              0.3333333333333333,
              "#9c179e"
             ],
             [
              0.4444444444444444,
              "#bd3786"
             ],
             [
              0.5555555555555556,
              "#d8576b"
             ],
             [
              0.6666666666666666,
              "#ed7953"
             ],
             [
              0.7777777777777778,
              "#fb9f3a"
             ],
             [
              0.8888888888888888,
              "#fdca26"
             ],
             [
              1,
              "#f0f921"
             ]
            ],
            "type": "histogram2d"
           }
          ],
          "histogram2dcontour": [
           {
            "colorbar": {
             "outlinewidth": 0,
             "ticks": ""
            },
            "colorscale": [
             [
              0,
              "#0d0887"
             ],
             [
              0.1111111111111111,
              "#46039f"
             ],
             [
              0.2222222222222222,
              "#7201a8"
             ],
             [
              0.3333333333333333,
              "#9c179e"
             ],
             [
              0.4444444444444444,
              "#bd3786"
             ],
             [
              0.5555555555555556,
              "#d8576b"
             ],
             [
              0.6666666666666666,
              "#ed7953"
             ],
             [
              0.7777777777777778,
              "#fb9f3a"
             ],
             [
              0.8888888888888888,
              "#fdca26"
             ],
             [
              1,
              "#f0f921"
             ]
            ],
            "type": "histogram2dcontour"
           }
          ],
          "mesh3d": [
           {
            "colorbar": {
             "outlinewidth": 0,
             "ticks": ""
            },
            "type": "mesh3d"
           }
          ],
          "parcoords": [
           {
            "line": {
             "colorbar": {
              "outlinewidth": 0,
              "ticks": ""
             }
            },
            "type": "parcoords"
           }
          ],
          "pie": [
           {
            "automargin": true,
            "type": "pie"
           }
          ],
          "scatter": [
           {
            "marker": {
             "colorbar": {
              "outlinewidth": 0,
              "ticks": ""
             }
            },
            "type": "scatter"
           }
          ],
          "scatter3d": [
           {
            "line": {
             "colorbar": {
              "outlinewidth": 0,
              "ticks": ""
             }
            },
            "marker": {
             "colorbar": {
              "outlinewidth": 0,
              "ticks": ""
             }
            },
            "type": "scatter3d"
           }
          ],
          "scattercarpet": [
           {
            "marker": {
             "colorbar": {
              "outlinewidth": 0,
              "ticks": ""
             }
            },
            "type": "scattercarpet"
           }
          ],
          "scattergeo": [
           {
            "marker": {
             "colorbar": {
              "outlinewidth": 0,
              "ticks": ""
             }
            },
            "type": "scattergeo"
           }
          ],
          "scattergl": [
           {
            "marker": {
             "colorbar": {
              "outlinewidth": 0,
              "ticks": ""
             }
            },
            "type": "scattergl"
           }
          ],
          "scattermapbox": [
           {
            "marker": {
             "colorbar": {
              "outlinewidth": 0,
              "ticks": ""
             }
            },
            "type": "scattermapbox"
           }
          ],
          "scatterpolar": [
           {
            "marker": {
             "colorbar": {
              "outlinewidth": 0,
              "ticks": ""
             }
            },
            "type": "scatterpolar"
           }
          ],
          "scatterpolargl": [
           {
            "marker": {
             "colorbar": {
              "outlinewidth": 0,
              "ticks": ""
             }
            },
            "type": "scatterpolargl"
           }
          ],
          "scatterternary": [
           {
            "marker": {
             "colorbar": {
              "outlinewidth": 0,
              "ticks": ""
             }
            },
            "type": "scatterternary"
           }
          ],
          "surface": [
           {
            "colorbar": {
             "outlinewidth": 0,
             "ticks": ""
            },
            "colorscale": [
             [
              0,
              "#0d0887"
             ],
             [
              0.1111111111111111,
              "#46039f"
             ],
             [
              0.2222222222222222,
              "#7201a8"
             ],
             [
              0.3333333333333333,
              "#9c179e"
             ],
             [
              0.4444444444444444,
              "#bd3786"
             ],
             [
              0.5555555555555556,
              "#d8576b"
             ],
             [
              0.6666666666666666,
              "#ed7953"
             ],
             [
              0.7777777777777778,
              "#fb9f3a"
             ],
             [
              0.8888888888888888,
              "#fdca26"
             ],
             [
              1,
              "#f0f921"
             ]
            ],
            "type": "surface"
           }
          ],
          "table": [
           {
            "cells": {
             "fill": {
              "color": "#EBF0F8"
             },
             "line": {
              "color": "white"
             }
            },
            "header": {
             "fill": {
              "color": "#C8D4E3"
             },
             "line": {
              "color": "white"
             }
            },
            "type": "table"
           }
          ]
         },
         "layout": {
          "annotationdefaults": {
           "arrowcolor": "#2a3f5f",
           "arrowhead": 0,
           "arrowwidth": 1
          },
          "coloraxis": {
           "colorbar": {
            "outlinewidth": 0,
            "ticks": ""
           }
          },
          "colorscale": {
           "diverging": [
            [
             0,
             "#8e0152"
            ],
            [
             0.1,
             "#c51b7d"
            ],
            [
             0.2,
             "#de77ae"
            ],
            [
             0.3,
             "#f1b6da"
            ],
            [
             0.4,
             "#fde0ef"
            ],
            [
             0.5,
             "#f7f7f7"
            ],
            [
             0.6,
             "#e6f5d0"
            ],
            [
             0.7,
             "#b8e186"
            ],
            [
             0.8,
             "#7fbc41"
            ],
            [
             0.9,
             "#4d9221"
            ],
            [
             1,
             "#276419"
            ]
           ],
           "sequential": [
            [
             0,
             "#0d0887"
            ],
            [
             0.1111111111111111,
             "#46039f"
            ],
            [
             0.2222222222222222,
             "#7201a8"
            ],
            [
             0.3333333333333333,
             "#9c179e"
            ],
            [
             0.4444444444444444,
             "#bd3786"
            ],
            [
             0.5555555555555556,
             "#d8576b"
            ],
            [
             0.6666666666666666,
             "#ed7953"
            ],
            [
             0.7777777777777778,
             "#fb9f3a"
            ],
            [
             0.8888888888888888,
             "#fdca26"
            ],
            [
             1,
             "#f0f921"
            ]
           ],
           "sequentialminus": [
            [
             0,
             "#0d0887"
            ],
            [
             0.1111111111111111,
             "#46039f"
            ],
            [
             0.2222222222222222,
             "#7201a8"
            ],
            [
             0.3333333333333333,
             "#9c179e"
            ],
            [
             0.4444444444444444,
             "#bd3786"
            ],
            [
             0.5555555555555556,
             "#d8576b"
            ],
            [
             0.6666666666666666,
             "#ed7953"
            ],
            [
             0.7777777777777778,
             "#fb9f3a"
            ],
            [
             0.8888888888888888,
             "#fdca26"
            ],
            [
             1,
             "#f0f921"
            ]
           ]
          },
          "colorway": [
           "#636efa",
           "#EF553B",
           "#00cc96",
           "#ab63fa",
           "#FFA15A",
           "#19d3f3",
           "#FF6692",
           "#B6E880",
           "#FF97FF",
           "#FECB52"
          ],
          "font": {
           "color": "#2a3f5f"
          },
          "geo": {
           "bgcolor": "white",
           "lakecolor": "white",
           "landcolor": "white",
           "showlakes": true,
           "showland": true,
           "subunitcolor": "#C8D4E3"
          },
          "hoverlabel": {
           "align": "left"
          },
          "hovermode": "closest",
          "mapbox": {
           "style": "light"
          },
          "paper_bgcolor": "white",
          "plot_bgcolor": "white",
          "polar": {
           "angularaxis": {
            "gridcolor": "#EBF0F8",
            "linecolor": "#EBF0F8",
            "ticks": ""
           },
           "bgcolor": "white",
           "radialaxis": {
            "gridcolor": "#EBF0F8",
            "linecolor": "#EBF0F8",
            "ticks": ""
           }
          },
          "scene": {
           "xaxis": {
            "backgroundcolor": "white",
            "gridcolor": "#DFE8F3",
            "gridwidth": 2,
            "linecolor": "#EBF0F8",
            "showbackground": true,
            "ticks": "",
            "zerolinecolor": "#EBF0F8"
           },
           "yaxis": {
            "backgroundcolor": "white",
            "gridcolor": "#DFE8F3",
            "gridwidth": 2,
            "linecolor": "#EBF0F8",
            "showbackground": true,
            "ticks": "",
            "zerolinecolor": "#EBF0F8"
           },
           "zaxis": {
            "backgroundcolor": "white",
            "gridcolor": "#DFE8F3",
            "gridwidth": 2,
            "linecolor": "#EBF0F8",
            "showbackground": true,
            "ticks": "",
            "zerolinecolor": "#EBF0F8"
           }
          },
          "shapedefaults": {
           "line": {
            "color": "#2a3f5f"
           }
          },
          "ternary": {
           "aaxis": {
            "gridcolor": "#DFE8F3",
            "linecolor": "#A2B1C6",
            "ticks": ""
           },
           "baxis": {
            "gridcolor": "#DFE8F3",
            "linecolor": "#A2B1C6",
            "ticks": ""
           },
           "bgcolor": "white",
           "caxis": {
            "gridcolor": "#DFE8F3",
            "linecolor": "#A2B1C6",
            "ticks": ""
           }
          },
          "title": {
           "x": 0.05
          },
          "xaxis": {
           "automargin": true,
           "gridcolor": "#EBF0F8",
           "linecolor": "#EBF0F8",
           "ticks": "",
           "title": {
            "standoff": 15
           },
           "zerolinecolor": "#EBF0F8",
           "zerolinewidth": 2
          },
          "yaxis": {
           "automargin": true,
           "gridcolor": "#EBF0F8",
           "linecolor": "#EBF0F8",
           "ticks": "",
           "title": {
            "standoff": 15
           },
           "zerolinecolor": "#EBF0F8",
           "zerolinewidth": 2
          }
         }
        },
        "title": {
         "text": "Answers bigram count top 20"
        },
        "xaxis": {
         "anchor": "y",
         "domain": [
          0,
          1
         ],
         "title": {
          "text": "word"
         }
        },
        "yaxis": {
         "anchor": "x",
         "domain": [
          0,
          1
         ],
         "title": {
          "text": "count"
         }
        }
       }
      },
      "text/html": [
       "<div>                            <div id=\"816727e2-be33-4c9c-a360-11a706d4a37e\" class=\"plotly-graph-div\" style=\"height:525px; width:100%;\"></div>            <script type=\"text/javascript\">                require([\"plotly\"], function(Plotly) {                    window.PLOTLYENV=window.PLOTLYENV || {};                                    if (document.getElementById(\"816727e2-be33-4c9c-a360-11a706d4a37e\")) {                    Plotly.newPlot(                        \"816727e2-be33-4c9c-a360-11a706d4a37e\",                        [{\"alignmentgroup\": \"True\", \"hovertemplate\": \"word=%{x}<br>count=%{y}<extra></extra>\", \"legendgroup\": \"\", \"marker\": {\"color\": \"#636efa\"}, \"name\": \"\", \"offsetgroup\": \"\", \"orientation\": \"v\", \"showlegend\": false, \"textposition\": \"auto\", \"type\": \"bar\", \"x\": [\"applicable\", \"question\", \"response\", \"estimated\", \"occurring\", \"emissions\", \"direct\", \"integrated\", \"co2e\", \"crf\", \"yes\", \"01\", \"scope\", \"tonne\", \"ch4\", \"kg\", \"energy\", \"ipcc\", \"gas\", \"kilogram\", \"n20\", \"indirect\", \"electricity\", \"12\", \"31\", \"buildings\", \"stationary\", \"city\", \"specify\", \"co2\"], \"xaxis\": \"x\", \"y\": [81418.5944568713, 81405.38156608999, 52751.14039496174, 4704.389036133569, 3293.5326080875157, 2326.9258587120135, 1855.4208205632194, 1551.7259974865044, 1172.4686498941296, 1076.2736380741048, 1048.3007949400494, 1012.1854106649139, 978.5045363536253, 891.7199835938064, 828.1044057209817, 759.8995363059985, 736.353804169626, 731.6472225986338, 726.2425892183334, 706.2749314133965, 682.6511114006821, 632.1932637463282, 626.9601779140074, 606.1199117203964, 604.8512139298217, 572.7441402545817, 562.2733959768833, 562.1929344638475, 545.270470471024, 530.4361950382058], \"yaxis\": \"y\"}],                        {\"barmode\": \"relative\", \"legend\": {\"tracegroupgap\": 0}, \"margin\": {\"t\": 60}, \"template\": {\"data\": {\"bar\": [{\"error_x\": {\"color\": \"#2a3f5f\"}, \"error_y\": {\"color\": \"#2a3f5f\"}, \"marker\": {\"line\": {\"color\": \"white\", \"width\": 0.5}}, \"type\": \"bar\"}], \"barpolar\": [{\"marker\": {\"line\": {\"color\": \"white\", \"width\": 0.5}}, \"type\": \"barpolar\"}], \"carpet\": [{\"aaxis\": {\"endlinecolor\": \"#2a3f5f\", \"gridcolor\": \"#C8D4E3\", \"linecolor\": \"#C8D4E3\", \"minorgridcolor\": \"#C8D4E3\", \"startlinecolor\": \"#2a3f5f\"}, \"baxis\": {\"endlinecolor\": \"#2a3f5f\", \"gridcolor\": \"#C8D4E3\", \"linecolor\": \"#C8D4E3\", \"minorgridcolor\": \"#C8D4E3\", \"startlinecolor\": \"#2a3f5f\"}, \"type\": \"carpet\"}], \"choropleth\": [{\"colorbar\": {\"outlinewidth\": 0, \"ticks\": \"\"}, \"type\": \"choropleth\"}], \"contour\": [{\"colorbar\": {\"outlinewidth\": 0, \"ticks\": \"\"}, \"colorscale\": [[0.0, \"#0d0887\"], [0.1111111111111111, \"#46039f\"], [0.2222222222222222, \"#7201a8\"], [0.3333333333333333, \"#9c179e\"], [0.4444444444444444, \"#bd3786\"], [0.5555555555555556, \"#d8576b\"], [0.6666666666666666, \"#ed7953\"], [0.7777777777777778, \"#fb9f3a\"], [0.8888888888888888, \"#fdca26\"], [1.0, \"#f0f921\"]], \"type\": \"contour\"}], \"contourcarpet\": [{\"colorbar\": {\"outlinewidth\": 0, \"ticks\": \"\"}, \"type\": \"contourcarpet\"}], \"heatmap\": [{\"colorbar\": {\"outlinewidth\": 0, \"ticks\": \"\"}, \"colorscale\": [[0.0, \"#0d0887\"], [0.1111111111111111, \"#46039f\"], [0.2222222222222222, \"#7201a8\"], [0.3333333333333333, \"#9c179e\"], [0.4444444444444444, \"#bd3786\"], [0.5555555555555556, \"#d8576b\"], [0.6666666666666666, \"#ed7953\"], [0.7777777777777778, \"#fb9f3a\"], [0.8888888888888888, \"#fdca26\"], [1.0, \"#f0f921\"]], \"type\": \"heatmap\"}], \"heatmapgl\": [{\"colorbar\": {\"outlinewidth\": 0, \"ticks\": \"\"}, \"colorscale\": [[0.0, \"#0d0887\"], [0.1111111111111111, \"#46039f\"], [0.2222222222222222, \"#7201a8\"], [0.3333333333333333, \"#9c179e\"], [0.4444444444444444, \"#bd3786\"], [0.5555555555555556, \"#d8576b\"], [0.6666666666666666, \"#ed7953\"], [0.7777777777777778, \"#fb9f3a\"], [0.8888888888888888, \"#fdca26\"], [1.0, \"#f0f921\"]], \"type\": \"heatmapgl\"}], \"histogram\": [{\"marker\": {\"colorbar\": {\"outlinewidth\": 0, \"ticks\": \"\"}}, \"type\": \"histogram\"}], \"histogram2d\": [{\"colorbar\": {\"outlinewidth\": 0, \"ticks\": \"\"}, \"colorscale\": [[0.0, \"#0d0887\"], [0.1111111111111111, \"#46039f\"], [0.2222222222222222, \"#7201a8\"], [0.3333333333333333, \"#9c179e\"], [0.4444444444444444, \"#bd3786\"], [0.5555555555555556, \"#d8576b\"], [0.6666666666666666, \"#ed7953\"], [0.7777777777777778, \"#fb9f3a\"], [0.8888888888888888, \"#fdca26\"], [1.0, \"#f0f921\"]], \"type\": \"histogram2d\"}], \"histogram2dcontour\": [{\"colorbar\": {\"outlinewidth\": 0, \"ticks\": \"\"}, \"colorscale\": [[0.0, \"#0d0887\"], [0.1111111111111111, \"#46039f\"], [0.2222222222222222, \"#7201a8\"], [0.3333333333333333, \"#9c179e\"], [0.4444444444444444, \"#bd3786\"], [0.5555555555555556, \"#d8576b\"], [0.6666666666666666, \"#ed7953\"], [0.7777777777777778, \"#fb9f3a\"], [0.8888888888888888, \"#fdca26\"], [1.0, \"#f0f921\"]], \"type\": \"histogram2dcontour\"}], \"mesh3d\": [{\"colorbar\": {\"outlinewidth\": 0, \"ticks\": \"\"}, \"type\": \"mesh3d\"}], \"parcoords\": [{\"line\": {\"colorbar\": {\"outlinewidth\": 0, \"ticks\": \"\"}}, \"type\": \"parcoords\"}], \"pie\": [{\"automargin\": true, \"type\": \"pie\"}], \"scatter\": [{\"marker\": {\"colorbar\": {\"outlinewidth\": 0, \"ticks\": \"\"}}, \"type\": \"scatter\"}], \"scatter3d\": [{\"line\": {\"colorbar\": {\"outlinewidth\": 0, \"ticks\": \"\"}}, \"marker\": {\"colorbar\": {\"outlinewidth\": 0, \"ticks\": \"\"}}, \"type\": \"scatter3d\"}], \"scattercarpet\": [{\"marker\": {\"colorbar\": {\"outlinewidth\": 0, \"ticks\": \"\"}}, \"type\": \"scattercarpet\"}], \"scattergeo\": [{\"marker\": {\"colorbar\": {\"outlinewidth\": 0, \"ticks\": \"\"}}, \"type\": \"scattergeo\"}], \"scattergl\": [{\"marker\": {\"colorbar\": {\"outlinewidth\": 0, \"ticks\": \"\"}}, \"type\": \"scattergl\"}], \"scattermapbox\": [{\"marker\": {\"colorbar\": {\"outlinewidth\": 0, \"ticks\": \"\"}}, \"type\": \"scattermapbox\"}], \"scatterpolar\": [{\"marker\": {\"colorbar\": {\"outlinewidth\": 0, \"ticks\": \"\"}}, \"type\": \"scatterpolar\"}], \"scatterpolargl\": [{\"marker\": {\"colorbar\": {\"outlinewidth\": 0, \"ticks\": \"\"}}, \"type\": \"scatterpolargl\"}], \"scatterternary\": [{\"marker\": {\"colorbar\": {\"outlinewidth\": 0, \"ticks\": \"\"}}, \"type\": \"scatterternary\"}], \"surface\": [{\"colorbar\": {\"outlinewidth\": 0, \"ticks\": \"\"}, \"colorscale\": [[0.0, \"#0d0887\"], [0.1111111111111111, \"#46039f\"], [0.2222222222222222, \"#7201a8\"], [0.3333333333333333, \"#9c179e\"], [0.4444444444444444, \"#bd3786\"], [0.5555555555555556, \"#d8576b\"], [0.6666666666666666, \"#ed7953\"], [0.7777777777777778, \"#fb9f3a\"], [0.8888888888888888, \"#fdca26\"], [1.0, \"#f0f921\"]], \"type\": \"surface\"}], \"table\": [{\"cells\": {\"fill\": {\"color\": \"#EBF0F8\"}, \"line\": {\"color\": \"white\"}}, \"header\": {\"fill\": {\"color\": \"#C8D4E3\"}, \"line\": {\"color\": \"white\"}}, \"type\": \"table\"}]}, \"layout\": {\"annotationdefaults\": {\"arrowcolor\": \"#2a3f5f\", \"arrowhead\": 0, \"arrowwidth\": 1}, \"coloraxis\": {\"colorbar\": {\"outlinewidth\": 0, \"ticks\": \"\"}}, \"colorscale\": {\"diverging\": [[0, \"#8e0152\"], [0.1, \"#c51b7d\"], [0.2, \"#de77ae\"], [0.3, \"#f1b6da\"], [0.4, \"#fde0ef\"], [0.5, \"#f7f7f7\"], [0.6, \"#e6f5d0\"], [0.7, \"#b8e186\"], [0.8, \"#7fbc41\"], [0.9, \"#4d9221\"], [1, \"#276419\"]], \"sequential\": [[0.0, \"#0d0887\"], [0.1111111111111111, \"#46039f\"], [0.2222222222222222, \"#7201a8\"], [0.3333333333333333, \"#9c179e\"], [0.4444444444444444, \"#bd3786\"], [0.5555555555555556, \"#d8576b\"], [0.6666666666666666, \"#ed7953\"], [0.7777777777777778, \"#fb9f3a\"], [0.8888888888888888, \"#fdca26\"], [1.0, \"#f0f921\"]], \"sequentialminus\": [[0.0, \"#0d0887\"], [0.1111111111111111, \"#46039f\"], [0.2222222222222222, \"#7201a8\"], [0.3333333333333333, \"#9c179e\"], [0.4444444444444444, \"#bd3786\"], [0.5555555555555556, \"#d8576b\"], [0.6666666666666666, \"#ed7953\"], [0.7777777777777778, \"#fb9f3a\"], [0.8888888888888888, \"#fdca26\"], [1.0, \"#f0f921\"]]}, \"colorway\": [\"#636efa\", \"#EF553B\", \"#00cc96\", \"#ab63fa\", \"#FFA15A\", \"#19d3f3\", \"#FF6692\", \"#B6E880\", \"#FF97FF\", \"#FECB52\"], \"font\": {\"color\": \"#2a3f5f\"}, \"geo\": {\"bgcolor\": \"white\", \"lakecolor\": \"white\", \"landcolor\": \"white\", \"showlakes\": true, \"showland\": true, \"subunitcolor\": \"#C8D4E3\"}, \"hoverlabel\": {\"align\": \"left\"}, \"hovermode\": \"closest\", \"mapbox\": {\"style\": \"light\"}, \"paper_bgcolor\": \"white\", \"plot_bgcolor\": \"white\", \"polar\": {\"angularaxis\": {\"gridcolor\": \"#EBF0F8\", \"linecolor\": \"#EBF0F8\", \"ticks\": \"\"}, \"bgcolor\": \"white\", \"radialaxis\": {\"gridcolor\": \"#EBF0F8\", \"linecolor\": \"#EBF0F8\", \"ticks\": \"\"}}, \"scene\": {\"xaxis\": {\"backgroundcolor\": \"white\", \"gridcolor\": \"#DFE8F3\", \"gridwidth\": 2, \"linecolor\": \"#EBF0F8\", \"showbackground\": true, \"ticks\": \"\", \"zerolinecolor\": \"#EBF0F8\"}, \"yaxis\": {\"backgroundcolor\": \"white\", \"gridcolor\": \"#DFE8F3\", \"gridwidth\": 2, \"linecolor\": \"#EBF0F8\", \"showbackground\": true, \"ticks\": \"\", \"zerolinecolor\": \"#EBF0F8\"}, \"zaxis\": {\"backgroundcolor\": \"white\", \"gridcolor\": \"#DFE8F3\", \"gridwidth\": 2, \"linecolor\": \"#EBF0F8\", \"showbackground\": true, \"ticks\": \"\", \"zerolinecolor\": \"#EBF0F8\"}}, \"shapedefaults\": {\"line\": {\"color\": \"#2a3f5f\"}}, \"ternary\": {\"aaxis\": {\"gridcolor\": \"#DFE8F3\", \"linecolor\": \"#A2B1C6\", \"ticks\": \"\"}, \"baxis\": {\"gridcolor\": \"#DFE8F3\", \"linecolor\": \"#A2B1C6\", \"ticks\": \"\"}, \"bgcolor\": \"white\", \"caxis\": {\"gridcolor\": \"#DFE8F3\", \"linecolor\": \"#A2B1C6\", \"ticks\": \"\"}}, \"title\": {\"x\": 0.05}, \"xaxis\": {\"automargin\": true, \"gridcolor\": \"#EBF0F8\", \"linecolor\": \"#EBF0F8\", \"ticks\": \"\", \"title\": {\"standoff\": 15}, \"zerolinecolor\": \"#EBF0F8\", \"zerolinewidth\": 2}, \"yaxis\": {\"automargin\": true, \"gridcolor\": \"#EBF0F8\", \"linecolor\": \"#EBF0F8\", \"ticks\": \"\", \"title\": {\"standoff\": 15}, \"zerolinecolor\": \"#EBF0F8\", \"zerolinewidth\": 2}}}, \"title\": {\"text\": \"Answers bigram count top 20\"}, \"xaxis\": {\"anchor\": \"y\", \"domain\": [0.0, 1.0], \"title\": {\"text\": \"word\"}}, \"yaxis\": {\"anchor\": \"x\", \"domain\": [0.0, 1.0], \"title\": {\"text\": \"count\"}}},                        {\"responsive\": true}                    ).then(function(){\n",
       "                            \n",
       "var gd = document.getElementById('816727e2-be33-4c9c-a360-11a706d4a37e');\n",
       "var x = new MutationObserver(function (mutations, observer) {{\n",
       "        var display = window.getComputedStyle(gd).display;\n",
       "        if (!display || display === 'none') {{\n",
       "            console.log([gd, 'removed!']);\n",
       "            Plotly.purge(gd);\n",
       "            observer.disconnect();\n",
       "        }}\n",
       "}});\n",
       "\n",
       "// Listen for the removal of the full notebook cells\n",
       "var notebookContainer = gd.closest('#notebook-container');\n",
       "if (notebookContainer) {{\n",
       "    x.observe(notebookContainer, {childList: true});\n",
       "}}\n",
       "\n",
       "// Listen for the clearing of the current output cell\n",
       "var outputEl = gd.closest('.output');\n",
       "if (outputEl) {{\n",
       "    x.observe(outputEl, {childList: true});\n",
       "}}\n",
       "\n",
       "                        })                };                });            </script>        </div>"
      ]
     },
     "metadata": {},
     "output_type": "display_data"
    },
    {
     "name": "stdout",
     "output_type": "stream",
     "text": [
      "question applicable 115124.0\n",
      "direct emissions 2016.0613628348156\n",
      "kilogram kg 969.0\n",
      "01 01 633.676661184596\n",
      "12 31 609.0801388755419\n",
      "scope indirect 588.9851256294455\n",
      "stationary energy 545.1156471975125\n",
      "total emissions 511.6879871468408\n",
      "crf stationary 495.7664540595289\n",
      "intending undertake 469.1261068122348\n",
      "crf transportation 465.61878518508956\n",
      "scope direct 461.58050751221765\n",
      "greenhouse gas 364.9413395222395\n",
      "transportation road 363.68094732413505\n",
      "diesel oil 334.3201087230201\n",
      "buildings facilities 312.1607085263728\n",
      "natural gas 299.9332124762626\n",
      "gas emissions 266.83015901247836\n",
      "residential buildings 260.42123402459225\n",
      "grid supplied 256.7517203485639\n",
      "covers entire 253.76677385788523\n",
      "entire city 252.76107699456372\n",
      "energy residential 234.2975953841722\n",
      "indirect emissions 216.10577512555162\n",
      "community greenhouse 211.0886177915942\n",
      "emissions inventories 209.6265430833855\n",
      "global protocol 209.0400996026754\n",
      "protocol community 208.9357591434458\n",
      "supplied electricity 208.68948738689932\n",
      "inventories gpc 208.27743357426687\n"
     ]
    },
    {
     "data": {
      "application/vnd.plotly.v1+json": {
       "config": {
        "plotlyServerURL": "https://plot.ly"
       },
       "data": [
        {
         "alignmentgroup": "True",
         "hovertemplate": "word=%{x}<br>count=%{y}<extra></extra>",
         "legendgroup": "",
         "marker": {
          "color": "#636efa"
         },
         "name": "",
         "offsetgroup": "",
         "orientation": "v",
         "showlegend": false,
         "textposition": "auto",
         "type": "bar",
         "x": [
          "question applicable",
          "direct emissions",
          "kilogram kg",
          "01 01",
          "12 31",
          "scope indirect",
          "stationary energy",
          "total emissions",
          "crf stationary",
          "intending undertake",
          "crf transportation",
          "scope direct",
          "greenhouse gas",
          "transportation road",
          "diesel oil",
          "buildings facilities",
          "natural gas",
          "gas emissions",
          "residential buildings",
          "grid supplied",
          "covers entire",
          "entire city",
          "energy residential",
          "indirect emissions",
          "community greenhouse",
          "emissions inventories",
          "global protocol",
          "protocol community",
          "supplied electricity",
          "inventories gpc"
         ],
         "xaxis": "x",
         "y": [
          115124,
          2016.0613628348156,
          969,
          633.676661184596,
          609.0801388755419,
          588.9851256294455,
          545.1156471975125,
          511.6879871468408,
          495.7664540595289,
          469.1261068122348,
          465.61878518508956,
          461.58050751221765,
          364.9413395222395,
          363.68094732413505,
          334.3201087230201,
          312.1607085263728,
          299.9332124762626,
          266.83015901247836,
          260.42123402459225,
          256.7517203485639,
          253.76677385788523,
          252.76107699456372,
          234.2975953841722,
          216.10577512555162,
          211.0886177915942,
          209.6265430833855,
          209.0400996026754,
          208.9357591434458,
          208.68948738689932,
          208.27743357426687
         ],
         "yaxis": "y"
        }
       ],
       "layout": {
        "barmode": "relative",
        "legend": {
         "tracegroupgap": 0
        },
        "margin": {
         "t": 60
        },
        "template": {
         "data": {
          "bar": [
           {
            "error_x": {
             "color": "#2a3f5f"
            },
            "error_y": {
             "color": "#2a3f5f"
            },
            "marker": {
             "line": {
              "color": "white",
              "width": 0.5
             }
            },
            "type": "bar"
           }
          ],
          "barpolar": [
           {
            "marker": {
             "line": {
              "color": "white",
              "width": 0.5
             }
            },
            "type": "barpolar"
           }
          ],
          "carpet": [
           {
            "aaxis": {
             "endlinecolor": "#2a3f5f",
             "gridcolor": "#C8D4E3",
             "linecolor": "#C8D4E3",
             "minorgridcolor": "#C8D4E3",
             "startlinecolor": "#2a3f5f"
            },
            "baxis": {
             "endlinecolor": "#2a3f5f",
             "gridcolor": "#C8D4E3",
             "linecolor": "#C8D4E3",
             "minorgridcolor": "#C8D4E3",
             "startlinecolor": "#2a3f5f"
            },
            "type": "carpet"
           }
          ],
          "choropleth": [
           {
            "colorbar": {
             "outlinewidth": 0,
             "ticks": ""
            },
            "type": "choropleth"
           }
          ],
          "contour": [
           {
            "colorbar": {
             "outlinewidth": 0,
             "ticks": ""
            },
            "colorscale": [
             [
              0,
              "#0d0887"
             ],
             [
              0.1111111111111111,
              "#46039f"
             ],
             [
              0.2222222222222222,
              "#7201a8"
             ],
             [
              0.3333333333333333,
              "#9c179e"
             ],
             [
              0.4444444444444444,
              "#bd3786"
             ],
             [
              0.5555555555555556,
              "#d8576b"
             ],
             [
              0.6666666666666666,
              "#ed7953"
             ],
             [
              0.7777777777777778,
              "#fb9f3a"
             ],
             [
              0.8888888888888888,
              "#fdca26"
             ],
             [
              1,
              "#f0f921"
             ]
            ],
            "type": "contour"
           }
          ],
          "contourcarpet": [
           {
            "colorbar": {
             "outlinewidth": 0,
             "ticks": ""
            },
            "type": "contourcarpet"
           }
          ],
          "heatmap": [
           {
            "colorbar": {
             "outlinewidth": 0,
             "ticks": ""
            },
            "colorscale": [
             [
              0,
              "#0d0887"
             ],
             [
              0.1111111111111111,
              "#46039f"
             ],
             [
              0.2222222222222222,
              "#7201a8"
             ],
             [
              0.3333333333333333,
              "#9c179e"
             ],
             [
              0.4444444444444444,
              "#bd3786"
             ],
             [
              0.5555555555555556,
              "#d8576b"
             ],
             [
              0.6666666666666666,
              "#ed7953"
             ],
             [
              0.7777777777777778,
              "#fb9f3a"
             ],
             [
              0.8888888888888888,
              "#fdca26"
             ],
             [
              1,
              "#f0f921"
             ]
            ],
            "type": "heatmap"
           }
          ],
          "heatmapgl": [
           {
            "colorbar": {
             "outlinewidth": 0,
             "ticks": ""
            },
            "colorscale": [
             [
              0,
              "#0d0887"
             ],
             [
              0.1111111111111111,
              "#46039f"
             ],
             [
              0.2222222222222222,
              "#7201a8"
             ],
             [
              0.3333333333333333,
              "#9c179e"
             ],
             [
              0.4444444444444444,
              "#bd3786"
             ],
             [
              0.5555555555555556,
              "#d8576b"
             ],
             [
              0.6666666666666666,
              "#ed7953"
             ],
             [
              0.7777777777777778,
              "#fb9f3a"
             ],
             [
              0.8888888888888888,
              "#fdca26"
             ],
             [
              1,
              "#f0f921"
             ]
            ],
            "type": "heatmapgl"
           }
          ],
          "histogram": [
           {
            "marker": {
             "colorbar": {
              "outlinewidth": 0,
              "ticks": ""
             }
            },
            "type": "histogram"
           }
          ],
          "histogram2d": [
           {
            "colorbar": {
             "outlinewidth": 0,
             "ticks": ""
            },
            "colorscale": [
             [
              0,
              "#0d0887"
             ],
             [
              0.1111111111111111,
              "#46039f"
             ],
             [
              0.2222222222222222,
              "#7201a8"
             ],
             [
              0.3333333333333333,
              "#9c179e"
             ],
             [
              0.4444444444444444,
              "#bd3786"
             ],
             [
              0.5555555555555556,
              "#d8576b"
             ],
             [
              0.6666666666666666,
              "#ed7953"
             ],
             [
              0.7777777777777778,
              "#fb9f3a"
             ],
             [
              0.8888888888888888,
              "#fdca26"
             ],
             [
              1,
              "#f0f921"
             ]
            ],
            "type": "histogram2d"
           }
          ],
          "histogram2dcontour": [
           {
            "colorbar": {
             "outlinewidth": 0,
             "ticks": ""
            },
            "colorscale": [
             [
              0,
              "#0d0887"
             ],
             [
              0.1111111111111111,
              "#46039f"
             ],
             [
              0.2222222222222222,
              "#7201a8"
             ],
             [
              0.3333333333333333,
              "#9c179e"
             ],
             [
              0.4444444444444444,
              "#bd3786"
             ],
             [
              0.5555555555555556,
              "#d8576b"
             ],
             [
              0.6666666666666666,
              "#ed7953"
             ],
             [
              0.7777777777777778,
              "#fb9f3a"
             ],
             [
              0.8888888888888888,
              "#fdca26"
             ],
             [
              1,
              "#f0f921"
             ]
            ],
            "type": "histogram2dcontour"
           }
          ],
          "mesh3d": [
           {
            "colorbar": {
             "outlinewidth": 0,
             "ticks": ""
            },
            "type": "mesh3d"
           }
          ],
          "parcoords": [
           {
            "line": {
             "colorbar": {
              "outlinewidth": 0,
              "ticks": ""
             }
            },
            "type": "parcoords"
           }
          ],
          "pie": [
           {
            "automargin": true,
            "type": "pie"
           }
          ],
          "scatter": [
           {
            "marker": {
             "colorbar": {
              "outlinewidth": 0,
              "ticks": ""
             }
            },
            "type": "scatter"
           }
          ],
          "scatter3d": [
           {
            "line": {
             "colorbar": {
              "outlinewidth": 0,
              "ticks": ""
             }
            },
            "marker": {
             "colorbar": {
              "outlinewidth": 0,
              "ticks": ""
             }
            },
            "type": "scatter3d"
           }
          ],
          "scattercarpet": [
           {
            "marker": {
             "colorbar": {
              "outlinewidth": 0,
              "ticks": ""
             }
            },
            "type": "scattercarpet"
           }
          ],
          "scattergeo": [
           {
            "marker": {
             "colorbar": {
              "outlinewidth": 0,
              "ticks": ""
             }
            },
            "type": "scattergeo"
           }
          ],
          "scattergl": [
           {
            "marker": {
             "colorbar": {
              "outlinewidth": 0,
              "ticks": ""
             }
            },
            "type": "scattergl"
           }
          ],
          "scattermapbox": [
           {
            "marker": {
             "colorbar": {
              "outlinewidth": 0,
              "ticks": ""
             }
            },
            "type": "scattermapbox"
           }
          ],
          "scatterpolar": [
           {
            "marker": {
             "colorbar": {
              "outlinewidth": 0,
              "ticks": ""
             }
            },
            "type": "scatterpolar"
           }
          ],
          "scatterpolargl": [
           {
            "marker": {
             "colorbar": {
              "outlinewidth": 0,
              "ticks": ""
             }
            },
            "type": "scatterpolargl"
           }
          ],
          "scatterternary": [
           {
            "marker": {
             "colorbar": {
              "outlinewidth": 0,
              "ticks": ""
             }
            },
            "type": "scatterternary"
           }
          ],
          "surface": [
           {
            "colorbar": {
             "outlinewidth": 0,
             "ticks": ""
            },
            "colorscale": [
             [
              0,
              "#0d0887"
             ],
             [
              0.1111111111111111,
              "#46039f"
             ],
             [
              0.2222222222222222,
              "#7201a8"
             ],
             [
              0.3333333333333333,
              "#9c179e"
             ],
             [
              0.4444444444444444,
              "#bd3786"
             ],
             [
              0.5555555555555556,
              "#d8576b"
             ],
             [
              0.6666666666666666,
              "#ed7953"
             ],
             [
              0.7777777777777778,
              "#fb9f3a"
             ],
             [
              0.8888888888888888,
              "#fdca26"
             ],
             [
              1,
              "#f0f921"
             ]
            ],
            "type": "surface"
           }
          ],
          "table": [
           {
            "cells": {
             "fill": {
              "color": "#EBF0F8"
             },
             "line": {
              "color": "white"
             }
            },
            "header": {
             "fill": {
              "color": "#C8D4E3"
             },
             "line": {
              "color": "white"
             }
            },
            "type": "table"
           }
          ]
         },
         "layout": {
          "annotationdefaults": {
           "arrowcolor": "#2a3f5f",
           "arrowhead": 0,
           "arrowwidth": 1
          },
          "coloraxis": {
           "colorbar": {
            "outlinewidth": 0,
            "ticks": ""
           }
          },
          "colorscale": {
           "diverging": [
            [
             0,
             "#8e0152"
            ],
            [
             0.1,
             "#c51b7d"
            ],
            [
             0.2,
             "#de77ae"
            ],
            [
             0.3,
             "#f1b6da"
            ],
            [
             0.4,
             "#fde0ef"
            ],
            [
             0.5,
             "#f7f7f7"
            ],
            [
             0.6,
             "#e6f5d0"
            ],
            [
             0.7,
             "#b8e186"
            ],
            [
             0.8,
             "#7fbc41"
            ],
            [
             0.9,
             "#4d9221"
            ],
            [
             1,
             "#276419"
            ]
           ],
           "sequential": [
            [
             0,
             "#0d0887"
            ],
            [
             0.1111111111111111,
             "#46039f"
            ],
            [
             0.2222222222222222,
             "#7201a8"
            ],
            [
             0.3333333333333333,
             "#9c179e"
            ],
            [
             0.4444444444444444,
             "#bd3786"
            ],
            [
             0.5555555555555556,
             "#d8576b"
            ],
            [
             0.6666666666666666,
             "#ed7953"
            ],
            [
             0.7777777777777778,
             "#fb9f3a"
            ],
            [
             0.8888888888888888,
             "#fdca26"
            ],
            [
             1,
             "#f0f921"
            ]
           ],
           "sequentialminus": [
            [
             0,
             "#0d0887"
            ],
            [
             0.1111111111111111,
             "#46039f"
            ],
            [
             0.2222222222222222,
             "#7201a8"
            ],
            [
             0.3333333333333333,
             "#9c179e"
            ],
            [
             0.4444444444444444,
             "#bd3786"
            ],
            [
             0.5555555555555556,
             "#d8576b"
            ],
            [
             0.6666666666666666,
             "#ed7953"
            ],
            [
             0.7777777777777778,
             "#fb9f3a"
            ],
            [
             0.8888888888888888,
             "#fdca26"
            ],
            [
             1,
             "#f0f921"
            ]
           ]
          },
          "colorway": [
           "#636efa",
           "#EF553B",
           "#00cc96",
           "#ab63fa",
           "#FFA15A",
           "#19d3f3",
           "#FF6692",
           "#B6E880",
           "#FF97FF",
           "#FECB52"
          ],
          "font": {
           "color": "#2a3f5f"
          },
          "geo": {
           "bgcolor": "white",
           "lakecolor": "white",
           "landcolor": "white",
           "showlakes": true,
           "showland": true,
           "subunitcolor": "#C8D4E3"
          },
          "hoverlabel": {
           "align": "left"
          },
          "hovermode": "closest",
          "mapbox": {
           "style": "light"
          },
          "paper_bgcolor": "white",
          "plot_bgcolor": "white",
          "polar": {
           "angularaxis": {
            "gridcolor": "#EBF0F8",
            "linecolor": "#EBF0F8",
            "ticks": ""
           },
           "bgcolor": "white",
           "radialaxis": {
            "gridcolor": "#EBF0F8",
            "linecolor": "#EBF0F8",
            "ticks": ""
           }
          },
          "scene": {
           "xaxis": {
            "backgroundcolor": "white",
            "gridcolor": "#DFE8F3",
            "gridwidth": 2,
            "linecolor": "#EBF0F8",
            "showbackground": true,
            "ticks": "",
            "zerolinecolor": "#EBF0F8"
           },
           "yaxis": {
            "backgroundcolor": "white",
            "gridcolor": "#DFE8F3",
            "gridwidth": 2,
            "linecolor": "#EBF0F8",
            "showbackground": true,
            "ticks": "",
            "zerolinecolor": "#EBF0F8"
           },
           "zaxis": {
            "backgroundcolor": "white",
            "gridcolor": "#DFE8F3",
            "gridwidth": 2,
            "linecolor": "#EBF0F8",
            "showbackground": true,
            "ticks": "",
            "zerolinecolor": "#EBF0F8"
           }
          },
          "shapedefaults": {
           "line": {
            "color": "#2a3f5f"
           }
          },
          "ternary": {
           "aaxis": {
            "gridcolor": "#DFE8F3",
            "linecolor": "#A2B1C6",
            "ticks": ""
           },
           "baxis": {
            "gridcolor": "#DFE8F3",
            "linecolor": "#A2B1C6",
            "ticks": ""
           },
           "bgcolor": "white",
           "caxis": {
            "gridcolor": "#DFE8F3",
            "linecolor": "#A2B1C6",
            "ticks": ""
           }
          },
          "title": {
           "x": 0.05
          },
          "xaxis": {
           "automargin": true,
           "gridcolor": "#EBF0F8",
           "linecolor": "#EBF0F8",
           "ticks": "",
           "title": {
            "standoff": 15
           },
           "zerolinecolor": "#EBF0F8",
           "zerolinewidth": 2
          },
          "yaxis": {
           "automargin": true,
           "gridcolor": "#EBF0F8",
           "linecolor": "#EBF0F8",
           "ticks": "",
           "title": {
            "standoff": 15
           },
           "zerolinecolor": "#EBF0F8",
           "zerolinewidth": 2
          }
         }
        },
        "title": {
         "text": "Answers bigram count top 20"
        },
        "xaxis": {
         "anchor": "y",
         "domain": [
          0,
          1
         ],
         "title": {
          "text": "word"
         }
        },
        "yaxis": {
         "anchor": "x",
         "domain": [
          0,
          1
         ],
         "title": {
          "text": "count"
         }
        }
       }
      },
      "text/html": [
       "<div>                            <div id=\"7e9abc78-9088-4d83-abcb-70fc7d556dc6\" class=\"plotly-graph-div\" style=\"height:525px; width:100%;\"></div>            <script type=\"text/javascript\">                require([\"plotly\"], function(Plotly) {                    window.PLOTLYENV=window.PLOTLYENV || {};                                    if (document.getElementById(\"7e9abc78-9088-4d83-abcb-70fc7d556dc6\")) {                    Plotly.newPlot(                        \"7e9abc78-9088-4d83-abcb-70fc7d556dc6\",                        [{\"alignmentgroup\": \"True\", \"hovertemplate\": \"word=%{x}<br>count=%{y}<extra></extra>\", \"legendgroup\": \"\", \"marker\": {\"color\": \"#636efa\"}, \"name\": \"\", \"offsetgroup\": \"\", \"orientation\": \"v\", \"showlegend\": false, \"textposition\": \"auto\", \"type\": \"bar\", \"x\": [\"question applicable\", \"direct emissions\", \"kilogram kg\", \"01 01\", \"12 31\", \"scope indirect\", \"stationary energy\", \"total emissions\", \"crf stationary\", \"intending undertake\", \"crf transportation\", \"scope direct\", \"greenhouse gas\", \"transportation road\", \"diesel oil\", \"buildings facilities\", \"natural gas\", \"gas emissions\", \"residential buildings\", \"grid supplied\", \"covers entire\", \"entire city\", \"energy residential\", \"indirect emissions\", \"community greenhouse\", \"emissions inventories\", \"global protocol\", \"protocol community\", \"supplied electricity\", \"inventories gpc\"], \"xaxis\": \"x\", \"y\": [115124.0, 2016.0613628348156, 969.0, 633.676661184596, 609.0801388755419, 588.9851256294455, 545.1156471975125, 511.6879871468408, 495.7664540595289, 469.1261068122348, 465.61878518508956, 461.58050751221765, 364.9413395222395, 363.68094732413505, 334.3201087230201, 312.1607085263728, 299.9332124762626, 266.83015901247836, 260.42123402459225, 256.7517203485639, 253.76677385788523, 252.76107699456372, 234.2975953841722, 216.10577512555162, 211.0886177915942, 209.6265430833855, 209.0400996026754, 208.9357591434458, 208.68948738689932, 208.27743357426687], \"yaxis\": \"y\"}],                        {\"barmode\": \"relative\", \"legend\": {\"tracegroupgap\": 0}, \"margin\": {\"t\": 60}, \"template\": {\"data\": {\"bar\": [{\"error_x\": {\"color\": \"#2a3f5f\"}, \"error_y\": {\"color\": \"#2a3f5f\"}, \"marker\": {\"line\": {\"color\": \"white\", \"width\": 0.5}}, \"type\": \"bar\"}], \"barpolar\": [{\"marker\": {\"line\": {\"color\": \"white\", \"width\": 0.5}}, \"type\": \"barpolar\"}], \"carpet\": [{\"aaxis\": {\"endlinecolor\": \"#2a3f5f\", \"gridcolor\": \"#C8D4E3\", \"linecolor\": \"#C8D4E3\", \"minorgridcolor\": \"#C8D4E3\", \"startlinecolor\": \"#2a3f5f\"}, \"baxis\": {\"endlinecolor\": \"#2a3f5f\", \"gridcolor\": \"#C8D4E3\", \"linecolor\": \"#C8D4E3\", \"minorgridcolor\": \"#C8D4E3\", \"startlinecolor\": \"#2a3f5f\"}, \"type\": \"carpet\"}], \"choropleth\": [{\"colorbar\": {\"outlinewidth\": 0, \"ticks\": \"\"}, \"type\": \"choropleth\"}], \"contour\": [{\"colorbar\": {\"outlinewidth\": 0, \"ticks\": \"\"}, \"colorscale\": [[0.0, \"#0d0887\"], [0.1111111111111111, \"#46039f\"], [0.2222222222222222, \"#7201a8\"], [0.3333333333333333, \"#9c179e\"], [0.4444444444444444, \"#bd3786\"], [0.5555555555555556, \"#d8576b\"], [0.6666666666666666, \"#ed7953\"], [0.7777777777777778, \"#fb9f3a\"], [0.8888888888888888, \"#fdca26\"], [1.0, \"#f0f921\"]], \"type\": \"contour\"}], \"contourcarpet\": [{\"colorbar\": {\"outlinewidth\": 0, \"ticks\": \"\"}, \"type\": \"contourcarpet\"}], \"heatmap\": [{\"colorbar\": {\"outlinewidth\": 0, \"ticks\": \"\"}, \"colorscale\": [[0.0, \"#0d0887\"], [0.1111111111111111, \"#46039f\"], [0.2222222222222222, \"#7201a8\"], [0.3333333333333333, \"#9c179e\"], [0.4444444444444444, \"#bd3786\"], [0.5555555555555556, \"#d8576b\"], [0.6666666666666666, \"#ed7953\"], [0.7777777777777778, \"#fb9f3a\"], [0.8888888888888888, \"#fdca26\"], [1.0, \"#f0f921\"]], \"type\": \"heatmap\"}], \"heatmapgl\": [{\"colorbar\": {\"outlinewidth\": 0, \"ticks\": \"\"}, \"colorscale\": [[0.0, \"#0d0887\"], [0.1111111111111111, \"#46039f\"], [0.2222222222222222, \"#7201a8\"], [0.3333333333333333, \"#9c179e\"], [0.4444444444444444, \"#bd3786\"], [0.5555555555555556, \"#d8576b\"], [0.6666666666666666, \"#ed7953\"], [0.7777777777777778, \"#fb9f3a\"], [0.8888888888888888, \"#fdca26\"], [1.0, \"#f0f921\"]], \"type\": \"heatmapgl\"}], \"histogram\": [{\"marker\": {\"colorbar\": {\"outlinewidth\": 0, \"ticks\": \"\"}}, \"type\": \"histogram\"}], \"histogram2d\": [{\"colorbar\": {\"outlinewidth\": 0, \"ticks\": \"\"}, \"colorscale\": [[0.0, \"#0d0887\"], [0.1111111111111111, \"#46039f\"], [0.2222222222222222, \"#7201a8\"], [0.3333333333333333, \"#9c179e\"], [0.4444444444444444, \"#bd3786\"], [0.5555555555555556, \"#d8576b\"], [0.6666666666666666, \"#ed7953\"], [0.7777777777777778, \"#fb9f3a\"], [0.8888888888888888, \"#fdca26\"], [1.0, \"#f0f921\"]], \"type\": \"histogram2d\"}], \"histogram2dcontour\": [{\"colorbar\": {\"outlinewidth\": 0, \"ticks\": \"\"}, \"colorscale\": [[0.0, \"#0d0887\"], [0.1111111111111111, \"#46039f\"], [0.2222222222222222, \"#7201a8\"], [0.3333333333333333, \"#9c179e\"], [0.4444444444444444, \"#bd3786\"], [0.5555555555555556, \"#d8576b\"], [0.6666666666666666, \"#ed7953\"], [0.7777777777777778, \"#fb9f3a\"], [0.8888888888888888, \"#fdca26\"], [1.0, \"#f0f921\"]], \"type\": \"histogram2dcontour\"}], \"mesh3d\": [{\"colorbar\": {\"outlinewidth\": 0, \"ticks\": \"\"}, \"type\": \"mesh3d\"}], \"parcoords\": [{\"line\": {\"colorbar\": {\"outlinewidth\": 0, \"ticks\": \"\"}}, \"type\": \"parcoords\"}], \"pie\": [{\"automargin\": true, \"type\": \"pie\"}], \"scatter\": [{\"marker\": {\"colorbar\": {\"outlinewidth\": 0, \"ticks\": \"\"}}, \"type\": \"scatter\"}], \"scatter3d\": [{\"line\": {\"colorbar\": {\"outlinewidth\": 0, \"ticks\": \"\"}}, \"marker\": {\"colorbar\": {\"outlinewidth\": 0, \"ticks\": \"\"}}, \"type\": \"scatter3d\"}], \"scattercarpet\": [{\"marker\": {\"colorbar\": {\"outlinewidth\": 0, \"ticks\": \"\"}}, \"type\": \"scattercarpet\"}], \"scattergeo\": [{\"marker\": {\"colorbar\": {\"outlinewidth\": 0, \"ticks\": \"\"}}, \"type\": \"scattergeo\"}], \"scattergl\": [{\"marker\": {\"colorbar\": {\"outlinewidth\": 0, \"ticks\": \"\"}}, \"type\": \"scattergl\"}], \"scattermapbox\": [{\"marker\": {\"colorbar\": {\"outlinewidth\": 0, \"ticks\": \"\"}}, \"type\": \"scattermapbox\"}], \"scatterpolar\": [{\"marker\": {\"colorbar\": {\"outlinewidth\": 0, \"ticks\": \"\"}}, \"type\": \"scatterpolar\"}], \"scatterpolargl\": [{\"marker\": {\"colorbar\": {\"outlinewidth\": 0, \"ticks\": \"\"}}, \"type\": \"scatterpolargl\"}], \"scatterternary\": [{\"marker\": {\"colorbar\": {\"outlinewidth\": 0, \"ticks\": \"\"}}, \"type\": \"scatterternary\"}], \"surface\": [{\"colorbar\": {\"outlinewidth\": 0, \"ticks\": \"\"}, \"colorscale\": [[0.0, \"#0d0887\"], [0.1111111111111111, \"#46039f\"], [0.2222222222222222, \"#7201a8\"], [0.3333333333333333, \"#9c179e\"], [0.4444444444444444, \"#bd3786\"], [0.5555555555555556, \"#d8576b\"], [0.6666666666666666, \"#ed7953\"], [0.7777777777777778, \"#fb9f3a\"], [0.8888888888888888, \"#fdca26\"], [1.0, \"#f0f921\"]], \"type\": \"surface\"}], \"table\": [{\"cells\": {\"fill\": {\"color\": \"#EBF0F8\"}, \"line\": {\"color\": \"white\"}}, \"header\": {\"fill\": {\"color\": \"#C8D4E3\"}, \"line\": {\"color\": \"white\"}}, \"type\": \"table\"}]}, \"layout\": {\"annotationdefaults\": {\"arrowcolor\": \"#2a3f5f\", \"arrowhead\": 0, \"arrowwidth\": 1}, \"coloraxis\": {\"colorbar\": {\"outlinewidth\": 0, \"ticks\": \"\"}}, \"colorscale\": {\"diverging\": [[0, \"#8e0152\"], [0.1, \"#c51b7d\"], [0.2, \"#de77ae\"], [0.3, \"#f1b6da\"], [0.4, \"#fde0ef\"], [0.5, \"#f7f7f7\"], [0.6, \"#e6f5d0\"], [0.7, \"#b8e186\"], [0.8, \"#7fbc41\"], [0.9, \"#4d9221\"], [1, \"#276419\"]], \"sequential\": [[0.0, \"#0d0887\"], [0.1111111111111111, \"#46039f\"], [0.2222222222222222, \"#7201a8\"], [0.3333333333333333, \"#9c179e\"], [0.4444444444444444, \"#bd3786\"], [0.5555555555555556, \"#d8576b\"], [0.6666666666666666, \"#ed7953\"], [0.7777777777777778, \"#fb9f3a\"], [0.8888888888888888, \"#fdca26\"], [1.0, \"#f0f921\"]], \"sequentialminus\": [[0.0, \"#0d0887\"], [0.1111111111111111, \"#46039f\"], [0.2222222222222222, \"#7201a8\"], [0.3333333333333333, \"#9c179e\"], [0.4444444444444444, \"#bd3786\"], [0.5555555555555556, \"#d8576b\"], [0.6666666666666666, \"#ed7953\"], [0.7777777777777778, \"#fb9f3a\"], [0.8888888888888888, \"#fdca26\"], [1.0, \"#f0f921\"]]}, \"colorway\": [\"#636efa\", \"#EF553B\", \"#00cc96\", \"#ab63fa\", \"#FFA15A\", \"#19d3f3\", \"#FF6692\", \"#B6E880\", \"#FF97FF\", \"#FECB52\"], \"font\": {\"color\": \"#2a3f5f\"}, \"geo\": {\"bgcolor\": \"white\", \"lakecolor\": \"white\", \"landcolor\": \"white\", \"showlakes\": true, \"showland\": true, \"subunitcolor\": \"#C8D4E3\"}, \"hoverlabel\": {\"align\": \"left\"}, \"hovermode\": \"closest\", \"mapbox\": {\"style\": \"light\"}, \"paper_bgcolor\": \"white\", \"plot_bgcolor\": \"white\", \"polar\": {\"angularaxis\": {\"gridcolor\": \"#EBF0F8\", \"linecolor\": \"#EBF0F8\", \"ticks\": \"\"}, \"bgcolor\": \"white\", \"radialaxis\": {\"gridcolor\": \"#EBF0F8\", \"linecolor\": \"#EBF0F8\", \"ticks\": \"\"}}, \"scene\": {\"xaxis\": {\"backgroundcolor\": \"white\", \"gridcolor\": \"#DFE8F3\", \"gridwidth\": 2, \"linecolor\": \"#EBF0F8\", \"showbackground\": true, \"ticks\": \"\", \"zerolinecolor\": \"#EBF0F8\"}, \"yaxis\": {\"backgroundcolor\": \"white\", \"gridcolor\": \"#DFE8F3\", \"gridwidth\": 2, \"linecolor\": \"#EBF0F8\", \"showbackground\": true, \"ticks\": \"\", \"zerolinecolor\": \"#EBF0F8\"}, \"zaxis\": {\"backgroundcolor\": \"white\", \"gridcolor\": \"#DFE8F3\", \"gridwidth\": 2, \"linecolor\": \"#EBF0F8\", \"showbackground\": true, \"ticks\": \"\", \"zerolinecolor\": \"#EBF0F8\"}}, \"shapedefaults\": {\"line\": {\"color\": \"#2a3f5f\"}}, \"ternary\": {\"aaxis\": {\"gridcolor\": \"#DFE8F3\", \"linecolor\": \"#A2B1C6\", \"ticks\": \"\"}, \"baxis\": {\"gridcolor\": \"#DFE8F3\", \"linecolor\": \"#A2B1C6\", \"ticks\": \"\"}, \"bgcolor\": \"white\", \"caxis\": {\"gridcolor\": \"#DFE8F3\", \"linecolor\": \"#A2B1C6\", \"ticks\": \"\"}}, \"title\": {\"x\": 0.05}, \"xaxis\": {\"automargin\": true, \"gridcolor\": \"#EBF0F8\", \"linecolor\": \"#EBF0F8\", \"ticks\": \"\", \"title\": {\"standoff\": 15}, \"zerolinecolor\": \"#EBF0F8\", \"zerolinewidth\": 2}, \"yaxis\": {\"automargin\": true, \"gridcolor\": \"#EBF0F8\", \"linecolor\": \"#EBF0F8\", \"ticks\": \"\", \"title\": {\"standoff\": 15}, \"zerolinecolor\": \"#EBF0F8\", \"zerolinewidth\": 2}}}, \"title\": {\"text\": \"Answers bigram count top 20\"}, \"xaxis\": {\"anchor\": \"y\", \"domain\": [0.0, 1.0], \"title\": {\"text\": \"word\"}}, \"yaxis\": {\"anchor\": \"x\", \"domain\": [0.0, 1.0], \"title\": {\"text\": \"count\"}}},                        {\"responsive\": true}                    ).then(function(){\n",
       "                            \n",
       "var gd = document.getElementById('7e9abc78-9088-4d83-abcb-70fc7d556dc6');\n",
       "var x = new MutationObserver(function (mutations, observer) {{\n",
       "        var display = window.getComputedStyle(gd).display;\n",
       "        if (!display || display === 'none') {{\n",
       "            console.log([gd, 'removed!']);\n",
       "            Plotly.purge(gd);\n",
       "            observer.disconnect();\n",
       "        }}\n",
       "}});\n",
       "\n",
       "// Listen for the removal of the full notebook cells\n",
       "var notebookContainer = gd.closest('#notebook-container');\n",
       "if (notebookContainer) {{\n",
       "    x.observe(notebookContainer, {childList: true});\n",
       "}}\n",
       "\n",
       "// Listen for the clearing of the current output cell\n",
       "var outputEl = gd.closest('.output');\n",
       "if (outputEl) {{\n",
       "    x.observe(outputEl, {childList: true});\n",
       "}}\n",
       "\n",
       "                        })                };                });            </script>        </div>"
      ]
     },
     "metadata": {},
     "output_type": "display_data"
    },
    {
     "name": "stdout",
     "output_type": "stream",
     "text": [
      "crf stationary energy 538.8638740410798\n",
      "crf transportation road 496.0548561318512\n",
      "covers entire city 356.79128585624966\n",
      "greenhouse gas emissions 278.5146344032874\n",
      "stationary energy residential 260.8449442860333\n",
      "energy residential buildings 260.6399612150048\n",
      "intending undertake years 229.0\n",
      "community greenhouse gas 223.20404312893314\n",
      "grid supplied electricity 221.34583714683296\n",
      "global protocol community 220.99397302283924\n",
      "indirect emissions use 220.09762152788278\n",
      "emissions use grid 219.97536575790673\n",
      "use grid supplied 219.96194593812533\n",
      "supplied electricity heat 219.96194593812533\n",
      "electricity heat steam 219.96194593812533\n",
      "heat steam cooling 219.96194593812533\n",
      "gas emissions inventories 219.55274903616504\n",
      "emissions inventories gpc 219.53565019561742\n",
      "protocol community greenhouse 219.46736140647002\n",
      "motor gasoline petrol 173.12420533181032\n",
      "commercial buildings facilities 163.77320949000074\n",
      "liquefied petroleum gas 163.36526035438982\n",
      "2018 12 31 162.0\n",
      "2017 12 31 160.0\n",
      "2018 01 01 158.0\n",
      "2017 01 01 156.0\n",
      "ipcc 5th ar 150.61374439273524\n",
      "5th ar 2013 150.61374439273524\n",
      "stationary energy commercial 144.96178868400284\n",
      "energy commercial buildings 144.96178868400284\n"
     ]
    },
    {
     "data": {
      "application/vnd.plotly.v1+json": {
       "config": {
        "plotlyServerURL": "https://plot.ly"
       },
       "data": [
        {
         "alignmentgroup": "True",
         "hovertemplate": "word=%{x}<br>count=%{y}<extra></extra>",
         "legendgroup": "",
         "marker": {
          "color": "#636efa"
         },
         "name": "",
         "offsetgroup": "",
         "orientation": "v",
         "showlegend": false,
         "textposition": "auto",
         "type": "bar",
         "x": [
          "crf stationary energy",
          "crf transportation road",
          "covers entire city",
          "greenhouse gas emissions",
          "stationary energy residential",
          "energy residential buildings",
          "intending undertake years",
          "community greenhouse gas",
          "grid supplied electricity",
          "global protocol community",
          "indirect emissions use",
          "emissions use grid",
          "use grid supplied",
          "supplied electricity heat",
          "electricity heat steam",
          "heat steam cooling",
          "gas emissions inventories",
          "emissions inventories gpc",
          "protocol community greenhouse",
          "motor gasoline petrol",
          "commercial buildings facilities",
          "liquefied petroleum gas",
          "2018 12 31",
          "2017 12 31",
          "2018 01 01",
          "2017 01 01",
          "ipcc 5th ar",
          "5th ar 2013",
          "stationary energy commercial",
          "energy commercial buildings"
         ],
         "xaxis": "x",
         "y": [
          538.8638740410798,
          496.0548561318512,
          356.79128585624966,
          278.5146344032874,
          260.8449442860333,
          260.6399612150048,
          229,
          223.20404312893314,
          221.34583714683296,
          220.99397302283924,
          220.09762152788278,
          219.97536575790673,
          219.96194593812533,
          219.96194593812533,
          219.96194593812533,
          219.96194593812533,
          219.55274903616504,
          219.53565019561742,
          219.46736140647002,
          173.12420533181032,
          163.77320949000074,
          163.36526035438982,
          162,
          160,
          158,
          156,
          150.61374439273524,
          150.61374439273524,
          144.96178868400284,
          144.96178868400284
         ],
         "yaxis": "y"
        }
       ],
       "layout": {
        "barmode": "relative",
        "legend": {
         "tracegroupgap": 0
        },
        "margin": {
         "t": 60
        },
        "template": {
         "data": {
          "bar": [
           {
            "error_x": {
             "color": "#2a3f5f"
            },
            "error_y": {
             "color": "#2a3f5f"
            },
            "marker": {
             "line": {
              "color": "white",
              "width": 0.5
             }
            },
            "type": "bar"
           }
          ],
          "barpolar": [
           {
            "marker": {
             "line": {
              "color": "white",
              "width": 0.5
             }
            },
            "type": "barpolar"
           }
          ],
          "carpet": [
           {
            "aaxis": {
             "endlinecolor": "#2a3f5f",
             "gridcolor": "#C8D4E3",
             "linecolor": "#C8D4E3",
             "minorgridcolor": "#C8D4E3",
             "startlinecolor": "#2a3f5f"
            },
            "baxis": {
             "endlinecolor": "#2a3f5f",
             "gridcolor": "#C8D4E3",
             "linecolor": "#C8D4E3",
             "minorgridcolor": "#C8D4E3",
             "startlinecolor": "#2a3f5f"
            },
            "type": "carpet"
           }
          ],
          "choropleth": [
           {
            "colorbar": {
             "outlinewidth": 0,
             "ticks": ""
            },
            "type": "choropleth"
           }
          ],
          "contour": [
           {
            "colorbar": {
             "outlinewidth": 0,
             "ticks": ""
            },
            "colorscale": [
             [
              0,
              "#0d0887"
             ],
             [
              0.1111111111111111,
              "#46039f"
             ],
             [
              0.2222222222222222,
              "#7201a8"
             ],
             [
              0.3333333333333333,
              "#9c179e"
             ],
             [
              0.4444444444444444,
              "#bd3786"
             ],
             [
              0.5555555555555556,
              "#d8576b"
             ],
             [
              0.6666666666666666,
              "#ed7953"
             ],
             [
              0.7777777777777778,
              "#fb9f3a"
             ],
             [
              0.8888888888888888,
              "#fdca26"
             ],
             [
              1,
              "#f0f921"
             ]
            ],
            "type": "contour"
           }
          ],
          "contourcarpet": [
           {
            "colorbar": {
             "outlinewidth": 0,
             "ticks": ""
            },
            "type": "contourcarpet"
           }
          ],
          "heatmap": [
           {
            "colorbar": {
             "outlinewidth": 0,
             "ticks": ""
            },
            "colorscale": [
             [
              0,
              "#0d0887"
             ],
             [
              0.1111111111111111,
              "#46039f"
             ],
             [
              0.2222222222222222,
              "#7201a8"
             ],
             [
              0.3333333333333333,
              "#9c179e"
             ],
             [
              0.4444444444444444,
              "#bd3786"
             ],
             [
              0.5555555555555556,
              "#d8576b"
             ],
             [
              0.6666666666666666,
              "#ed7953"
             ],
             [
              0.7777777777777778,
              "#fb9f3a"
             ],
             [
              0.8888888888888888,
              "#fdca26"
             ],
             [
              1,
              "#f0f921"
             ]
            ],
            "type": "heatmap"
           }
          ],
          "heatmapgl": [
           {
            "colorbar": {
             "outlinewidth": 0,
             "ticks": ""
            },
            "colorscale": [
             [
              0,
              "#0d0887"
             ],
             [
              0.1111111111111111,
              "#46039f"
             ],
             [
              0.2222222222222222,
              "#7201a8"
             ],
             [
              0.3333333333333333,
              "#9c179e"
             ],
             [
              0.4444444444444444,
              "#bd3786"
             ],
             [
              0.5555555555555556,
              "#d8576b"
             ],
             [
              0.6666666666666666,
              "#ed7953"
             ],
             [
              0.7777777777777778,
              "#fb9f3a"
             ],
             [
              0.8888888888888888,
              "#fdca26"
             ],
             [
              1,
              "#f0f921"
             ]
            ],
            "type": "heatmapgl"
           }
          ],
          "histogram": [
           {
            "marker": {
             "colorbar": {
              "outlinewidth": 0,
              "ticks": ""
             }
            },
            "type": "histogram"
           }
          ],
          "histogram2d": [
           {
            "colorbar": {
             "outlinewidth": 0,
             "ticks": ""
            },
            "colorscale": [
             [
              0,
              "#0d0887"
             ],
             [
              0.1111111111111111,
              "#46039f"
             ],
             [
              0.2222222222222222,
              "#7201a8"
             ],
             [
              0.3333333333333333,
              "#9c179e"
             ],
             [
              0.4444444444444444,
              "#bd3786"
             ],
             [
              0.5555555555555556,
              "#d8576b"
             ],
             [
              0.6666666666666666,
              "#ed7953"
             ],
             [
              0.7777777777777778,
              "#fb9f3a"
             ],
             [
              0.8888888888888888,
              "#fdca26"
             ],
             [
              1,
              "#f0f921"
             ]
            ],
            "type": "histogram2d"
           }
          ],
          "histogram2dcontour": [
           {
            "colorbar": {
             "outlinewidth": 0,
             "ticks": ""
            },
            "colorscale": [
             [
              0,
              "#0d0887"
             ],
             [
              0.1111111111111111,
              "#46039f"
             ],
             [
              0.2222222222222222,
              "#7201a8"
             ],
             [
              0.3333333333333333,
              "#9c179e"
             ],
             [
              0.4444444444444444,
              "#bd3786"
             ],
             [
              0.5555555555555556,
              "#d8576b"
             ],
             [
              0.6666666666666666,
              "#ed7953"
             ],
             [
              0.7777777777777778,
              "#fb9f3a"
             ],
             [
              0.8888888888888888,
              "#fdca26"
             ],
             [
              1,
              "#f0f921"
             ]
            ],
            "type": "histogram2dcontour"
           }
          ],
          "mesh3d": [
           {
            "colorbar": {
             "outlinewidth": 0,
             "ticks": ""
            },
            "type": "mesh3d"
           }
          ],
          "parcoords": [
           {
            "line": {
             "colorbar": {
              "outlinewidth": 0,
              "ticks": ""
             }
            },
            "type": "parcoords"
           }
          ],
          "pie": [
           {
            "automargin": true,
            "type": "pie"
           }
          ],
          "scatter": [
           {
            "marker": {
             "colorbar": {
              "outlinewidth": 0,
              "ticks": ""
             }
            },
            "type": "scatter"
           }
          ],
          "scatter3d": [
           {
            "line": {
             "colorbar": {
              "outlinewidth": 0,
              "ticks": ""
             }
            },
            "marker": {
             "colorbar": {
              "outlinewidth": 0,
              "ticks": ""
             }
            },
            "type": "scatter3d"
           }
          ],
          "scattercarpet": [
           {
            "marker": {
             "colorbar": {
              "outlinewidth": 0,
              "ticks": ""
             }
            },
            "type": "scattercarpet"
           }
          ],
          "scattergeo": [
           {
            "marker": {
             "colorbar": {
              "outlinewidth": 0,
              "ticks": ""
             }
            },
            "type": "scattergeo"
           }
          ],
          "scattergl": [
           {
            "marker": {
             "colorbar": {
              "outlinewidth": 0,
              "ticks": ""
             }
            },
            "type": "scattergl"
           }
          ],
          "scattermapbox": [
           {
            "marker": {
             "colorbar": {
              "outlinewidth": 0,
              "ticks": ""
             }
            },
            "type": "scattermapbox"
           }
          ],
          "scatterpolar": [
           {
            "marker": {
             "colorbar": {
              "outlinewidth": 0,
              "ticks": ""
             }
            },
            "type": "scatterpolar"
           }
          ],
          "scatterpolargl": [
           {
            "marker": {
             "colorbar": {
              "outlinewidth": 0,
              "ticks": ""
             }
            },
            "type": "scatterpolargl"
           }
          ],
          "scatterternary": [
           {
            "marker": {
             "colorbar": {
              "outlinewidth": 0,
              "ticks": ""
             }
            },
            "type": "scatterternary"
           }
          ],
          "surface": [
           {
            "colorbar": {
             "outlinewidth": 0,
             "ticks": ""
            },
            "colorscale": [
             [
              0,
              "#0d0887"
             ],
             [
              0.1111111111111111,
              "#46039f"
             ],
             [
              0.2222222222222222,
              "#7201a8"
             ],
             [
              0.3333333333333333,
              "#9c179e"
             ],
             [
              0.4444444444444444,
              "#bd3786"
             ],
             [
              0.5555555555555556,
              "#d8576b"
             ],
             [
              0.6666666666666666,
              "#ed7953"
             ],
             [
              0.7777777777777778,
              "#fb9f3a"
             ],
             [
              0.8888888888888888,
              "#fdca26"
             ],
             [
              1,
              "#f0f921"
             ]
            ],
            "type": "surface"
           }
          ],
          "table": [
           {
            "cells": {
             "fill": {
              "color": "#EBF0F8"
             },
             "line": {
              "color": "white"
             }
            },
            "header": {
             "fill": {
              "color": "#C8D4E3"
             },
             "line": {
              "color": "white"
             }
            },
            "type": "table"
           }
          ]
         },
         "layout": {
          "annotationdefaults": {
           "arrowcolor": "#2a3f5f",
           "arrowhead": 0,
           "arrowwidth": 1
          },
          "coloraxis": {
           "colorbar": {
            "outlinewidth": 0,
            "ticks": ""
           }
          },
          "colorscale": {
           "diverging": [
            [
             0,
             "#8e0152"
            ],
            [
             0.1,
             "#c51b7d"
            ],
            [
             0.2,
             "#de77ae"
            ],
            [
             0.3,
             "#f1b6da"
            ],
            [
             0.4,
             "#fde0ef"
            ],
            [
             0.5,
             "#f7f7f7"
            ],
            [
             0.6,
             "#e6f5d0"
            ],
            [
             0.7,
             "#b8e186"
            ],
            [
             0.8,
             "#7fbc41"
            ],
            [
             0.9,
             "#4d9221"
            ],
            [
             1,
             "#276419"
            ]
           ],
           "sequential": [
            [
             0,
             "#0d0887"
            ],
            [
             0.1111111111111111,
             "#46039f"
            ],
            [
             0.2222222222222222,
             "#7201a8"
            ],
            [
             0.3333333333333333,
             "#9c179e"
            ],
            [
             0.4444444444444444,
             "#bd3786"
            ],
            [
             0.5555555555555556,
             "#d8576b"
            ],
            [
             0.6666666666666666,
             "#ed7953"
            ],
            [
             0.7777777777777778,
             "#fb9f3a"
            ],
            [
             0.8888888888888888,
             "#fdca26"
            ],
            [
             1,
             "#f0f921"
            ]
           ],
           "sequentialminus": [
            [
             0,
             "#0d0887"
            ],
            [
             0.1111111111111111,
             "#46039f"
            ],
            [
             0.2222222222222222,
             "#7201a8"
            ],
            [
             0.3333333333333333,
             "#9c179e"
            ],
            [
             0.4444444444444444,
             "#bd3786"
            ],
            [
             0.5555555555555556,
             "#d8576b"
            ],
            [
             0.6666666666666666,
             "#ed7953"
            ],
            [
             0.7777777777777778,
             "#fb9f3a"
            ],
            [
             0.8888888888888888,
             "#fdca26"
            ],
            [
             1,
             "#f0f921"
            ]
           ]
          },
          "colorway": [
           "#636efa",
           "#EF553B",
           "#00cc96",
           "#ab63fa",
           "#FFA15A",
           "#19d3f3",
           "#FF6692",
           "#B6E880",
           "#FF97FF",
           "#FECB52"
          ],
          "font": {
           "color": "#2a3f5f"
          },
          "geo": {
           "bgcolor": "white",
           "lakecolor": "white",
           "landcolor": "white",
           "showlakes": true,
           "showland": true,
           "subunitcolor": "#C8D4E3"
          },
          "hoverlabel": {
           "align": "left"
          },
          "hovermode": "closest",
          "mapbox": {
           "style": "light"
          },
          "paper_bgcolor": "white",
          "plot_bgcolor": "white",
          "polar": {
           "angularaxis": {
            "gridcolor": "#EBF0F8",
            "linecolor": "#EBF0F8",
            "ticks": ""
           },
           "bgcolor": "white",
           "radialaxis": {
            "gridcolor": "#EBF0F8",
            "linecolor": "#EBF0F8",
            "ticks": ""
           }
          },
          "scene": {
           "xaxis": {
            "backgroundcolor": "white",
            "gridcolor": "#DFE8F3",
            "gridwidth": 2,
            "linecolor": "#EBF0F8",
            "showbackground": true,
            "ticks": "",
            "zerolinecolor": "#EBF0F8"
           },
           "yaxis": {
            "backgroundcolor": "white",
            "gridcolor": "#DFE8F3",
            "gridwidth": 2,
            "linecolor": "#EBF0F8",
            "showbackground": true,
            "ticks": "",
            "zerolinecolor": "#EBF0F8"
           },
           "zaxis": {
            "backgroundcolor": "white",
            "gridcolor": "#DFE8F3",
            "gridwidth": 2,
            "linecolor": "#EBF0F8",
            "showbackground": true,
            "ticks": "",
            "zerolinecolor": "#EBF0F8"
           }
          },
          "shapedefaults": {
           "line": {
            "color": "#2a3f5f"
           }
          },
          "ternary": {
           "aaxis": {
            "gridcolor": "#DFE8F3",
            "linecolor": "#A2B1C6",
            "ticks": ""
           },
           "baxis": {
            "gridcolor": "#DFE8F3",
            "linecolor": "#A2B1C6",
            "ticks": ""
           },
           "bgcolor": "white",
           "caxis": {
            "gridcolor": "#DFE8F3",
            "linecolor": "#A2B1C6",
            "ticks": ""
           }
          },
          "title": {
           "x": 0.05
          },
          "xaxis": {
           "automargin": true,
           "gridcolor": "#EBF0F8",
           "linecolor": "#EBF0F8",
           "ticks": "",
           "title": {
            "standoff": 15
           },
           "zerolinecolor": "#EBF0F8",
           "zerolinewidth": 2
          },
          "yaxis": {
           "automargin": true,
           "gridcolor": "#EBF0F8",
           "linecolor": "#EBF0F8",
           "ticks": "",
           "title": {
            "standoff": 15
           },
           "zerolinecolor": "#EBF0F8",
           "zerolinewidth": 2
          }
         }
        },
        "title": {
         "text": "Answers bigram count top 20"
        },
        "xaxis": {
         "anchor": "y",
         "domain": [
          0,
          1
         ],
         "title": {
          "text": "word"
         }
        },
        "yaxis": {
         "anchor": "x",
         "domain": [
          0,
          1
         ],
         "title": {
          "text": "count"
         }
        }
       }
      },
      "text/html": [
       "<div>                            <div id=\"0873157b-88ef-456a-8db9-8e242b12cedc\" class=\"plotly-graph-div\" style=\"height:525px; width:100%;\"></div>            <script type=\"text/javascript\">                require([\"plotly\"], function(Plotly) {                    window.PLOTLYENV=window.PLOTLYENV || {};                                    if (document.getElementById(\"0873157b-88ef-456a-8db9-8e242b12cedc\")) {                    Plotly.newPlot(                        \"0873157b-88ef-456a-8db9-8e242b12cedc\",                        [{\"alignmentgroup\": \"True\", \"hovertemplate\": \"word=%{x}<br>count=%{y}<extra></extra>\", \"legendgroup\": \"\", \"marker\": {\"color\": \"#636efa\"}, \"name\": \"\", \"offsetgroup\": \"\", \"orientation\": \"v\", \"showlegend\": false, \"textposition\": \"auto\", \"type\": \"bar\", \"x\": [\"crf stationary energy\", \"crf transportation road\", \"covers entire city\", \"greenhouse gas emissions\", \"stationary energy residential\", \"energy residential buildings\", \"intending undertake years\", \"community greenhouse gas\", \"grid supplied electricity\", \"global protocol community\", \"indirect emissions use\", \"emissions use grid\", \"use grid supplied\", \"supplied electricity heat\", \"electricity heat steam\", \"heat steam cooling\", \"gas emissions inventories\", \"emissions inventories gpc\", \"protocol community greenhouse\", \"motor gasoline petrol\", \"commercial buildings facilities\", \"liquefied petroleum gas\", \"2018 12 31\", \"2017 12 31\", \"2018 01 01\", \"2017 01 01\", \"ipcc 5th ar\", \"5th ar 2013\", \"stationary energy commercial\", \"energy commercial buildings\"], \"xaxis\": \"x\", \"y\": [538.8638740410798, 496.0548561318512, 356.79128585624966, 278.5146344032874, 260.8449442860333, 260.6399612150048, 229.0, 223.20404312893314, 221.34583714683296, 220.99397302283924, 220.09762152788278, 219.97536575790673, 219.96194593812533, 219.96194593812533, 219.96194593812533, 219.96194593812533, 219.55274903616504, 219.53565019561742, 219.46736140647002, 173.12420533181032, 163.77320949000074, 163.36526035438982, 162.0, 160.0, 158.0, 156.0, 150.61374439273524, 150.61374439273524, 144.96178868400284, 144.96178868400284], \"yaxis\": \"y\"}],                        {\"barmode\": \"relative\", \"legend\": {\"tracegroupgap\": 0}, \"margin\": {\"t\": 60}, \"template\": {\"data\": {\"bar\": [{\"error_x\": {\"color\": \"#2a3f5f\"}, \"error_y\": {\"color\": \"#2a3f5f\"}, \"marker\": {\"line\": {\"color\": \"white\", \"width\": 0.5}}, \"type\": \"bar\"}], \"barpolar\": [{\"marker\": {\"line\": {\"color\": \"white\", \"width\": 0.5}}, \"type\": \"barpolar\"}], \"carpet\": [{\"aaxis\": {\"endlinecolor\": \"#2a3f5f\", \"gridcolor\": \"#C8D4E3\", \"linecolor\": \"#C8D4E3\", \"minorgridcolor\": \"#C8D4E3\", \"startlinecolor\": \"#2a3f5f\"}, \"baxis\": {\"endlinecolor\": \"#2a3f5f\", \"gridcolor\": \"#C8D4E3\", \"linecolor\": \"#C8D4E3\", \"minorgridcolor\": \"#C8D4E3\", \"startlinecolor\": \"#2a3f5f\"}, \"type\": \"carpet\"}], \"choropleth\": [{\"colorbar\": {\"outlinewidth\": 0, \"ticks\": \"\"}, \"type\": \"choropleth\"}], \"contour\": [{\"colorbar\": {\"outlinewidth\": 0, \"ticks\": \"\"}, \"colorscale\": [[0.0, \"#0d0887\"], [0.1111111111111111, \"#46039f\"], [0.2222222222222222, \"#7201a8\"], [0.3333333333333333, \"#9c179e\"], [0.4444444444444444, \"#bd3786\"], [0.5555555555555556, \"#d8576b\"], [0.6666666666666666, \"#ed7953\"], [0.7777777777777778, \"#fb9f3a\"], [0.8888888888888888, \"#fdca26\"], [1.0, \"#f0f921\"]], \"type\": \"contour\"}], \"contourcarpet\": [{\"colorbar\": {\"outlinewidth\": 0, \"ticks\": \"\"}, \"type\": \"contourcarpet\"}], \"heatmap\": [{\"colorbar\": {\"outlinewidth\": 0, \"ticks\": \"\"}, \"colorscale\": [[0.0, \"#0d0887\"], [0.1111111111111111, \"#46039f\"], [0.2222222222222222, \"#7201a8\"], [0.3333333333333333, \"#9c179e\"], [0.4444444444444444, \"#bd3786\"], [0.5555555555555556, \"#d8576b\"], [0.6666666666666666, \"#ed7953\"], [0.7777777777777778, \"#fb9f3a\"], [0.8888888888888888, \"#fdca26\"], [1.0, \"#f0f921\"]], \"type\": \"heatmap\"}], \"heatmapgl\": [{\"colorbar\": {\"outlinewidth\": 0, \"ticks\": \"\"}, \"colorscale\": [[0.0, \"#0d0887\"], [0.1111111111111111, \"#46039f\"], [0.2222222222222222, \"#7201a8\"], [0.3333333333333333, \"#9c179e\"], [0.4444444444444444, \"#bd3786\"], [0.5555555555555556, \"#d8576b\"], [0.6666666666666666, \"#ed7953\"], [0.7777777777777778, \"#fb9f3a\"], [0.8888888888888888, \"#fdca26\"], [1.0, \"#f0f921\"]], \"type\": \"heatmapgl\"}], \"histogram\": [{\"marker\": {\"colorbar\": {\"outlinewidth\": 0, \"ticks\": \"\"}}, \"type\": \"histogram\"}], \"histogram2d\": [{\"colorbar\": {\"outlinewidth\": 0, \"ticks\": \"\"}, \"colorscale\": [[0.0, \"#0d0887\"], [0.1111111111111111, \"#46039f\"], [0.2222222222222222, \"#7201a8\"], [0.3333333333333333, \"#9c179e\"], [0.4444444444444444, \"#bd3786\"], [0.5555555555555556, \"#d8576b\"], [0.6666666666666666, \"#ed7953\"], [0.7777777777777778, \"#fb9f3a\"], [0.8888888888888888, \"#fdca26\"], [1.0, \"#f0f921\"]], \"type\": \"histogram2d\"}], \"histogram2dcontour\": [{\"colorbar\": {\"outlinewidth\": 0, \"ticks\": \"\"}, \"colorscale\": [[0.0, \"#0d0887\"], [0.1111111111111111, \"#46039f\"], [0.2222222222222222, \"#7201a8\"], [0.3333333333333333, \"#9c179e\"], [0.4444444444444444, \"#bd3786\"], [0.5555555555555556, \"#d8576b\"], [0.6666666666666666, \"#ed7953\"], [0.7777777777777778, \"#fb9f3a\"], [0.8888888888888888, \"#fdca26\"], [1.0, \"#f0f921\"]], \"type\": \"histogram2dcontour\"}], \"mesh3d\": [{\"colorbar\": {\"outlinewidth\": 0, \"ticks\": \"\"}, \"type\": \"mesh3d\"}], \"parcoords\": [{\"line\": {\"colorbar\": {\"outlinewidth\": 0, \"ticks\": \"\"}}, \"type\": \"parcoords\"}], \"pie\": [{\"automargin\": true, \"type\": \"pie\"}], \"scatter\": [{\"marker\": {\"colorbar\": {\"outlinewidth\": 0, \"ticks\": \"\"}}, \"type\": \"scatter\"}], \"scatter3d\": [{\"line\": {\"colorbar\": {\"outlinewidth\": 0, \"ticks\": \"\"}}, \"marker\": {\"colorbar\": {\"outlinewidth\": 0, \"ticks\": \"\"}}, \"type\": \"scatter3d\"}], \"scattercarpet\": [{\"marker\": {\"colorbar\": {\"outlinewidth\": 0, \"ticks\": \"\"}}, \"type\": \"scattercarpet\"}], \"scattergeo\": [{\"marker\": {\"colorbar\": {\"outlinewidth\": 0, \"ticks\": \"\"}}, \"type\": \"scattergeo\"}], \"scattergl\": [{\"marker\": {\"colorbar\": {\"outlinewidth\": 0, \"ticks\": \"\"}}, \"type\": \"scattergl\"}], \"scattermapbox\": [{\"marker\": {\"colorbar\": {\"outlinewidth\": 0, \"ticks\": \"\"}}, \"type\": \"scattermapbox\"}], \"scatterpolar\": [{\"marker\": {\"colorbar\": {\"outlinewidth\": 0, \"ticks\": \"\"}}, \"type\": \"scatterpolar\"}], \"scatterpolargl\": [{\"marker\": {\"colorbar\": {\"outlinewidth\": 0, \"ticks\": \"\"}}, \"type\": \"scatterpolargl\"}], \"scatterternary\": [{\"marker\": {\"colorbar\": {\"outlinewidth\": 0, \"ticks\": \"\"}}, \"type\": \"scatterternary\"}], \"surface\": [{\"colorbar\": {\"outlinewidth\": 0, \"ticks\": \"\"}, \"colorscale\": [[0.0, \"#0d0887\"], [0.1111111111111111, \"#46039f\"], [0.2222222222222222, \"#7201a8\"], [0.3333333333333333, \"#9c179e\"], [0.4444444444444444, \"#bd3786\"], [0.5555555555555556, \"#d8576b\"], [0.6666666666666666, \"#ed7953\"], [0.7777777777777778, \"#fb9f3a\"], [0.8888888888888888, \"#fdca26\"], [1.0, \"#f0f921\"]], \"type\": \"surface\"}], \"table\": [{\"cells\": {\"fill\": {\"color\": \"#EBF0F8\"}, \"line\": {\"color\": \"white\"}}, \"header\": {\"fill\": {\"color\": \"#C8D4E3\"}, \"line\": {\"color\": \"white\"}}, \"type\": \"table\"}]}, \"layout\": {\"annotationdefaults\": {\"arrowcolor\": \"#2a3f5f\", \"arrowhead\": 0, \"arrowwidth\": 1}, \"coloraxis\": {\"colorbar\": {\"outlinewidth\": 0, \"ticks\": \"\"}}, \"colorscale\": {\"diverging\": [[0, \"#8e0152\"], [0.1, \"#c51b7d\"], [0.2, \"#de77ae\"], [0.3, \"#f1b6da\"], [0.4, \"#fde0ef\"], [0.5, \"#f7f7f7\"], [0.6, \"#e6f5d0\"], [0.7, \"#b8e186\"], [0.8, \"#7fbc41\"], [0.9, \"#4d9221\"], [1, \"#276419\"]], \"sequential\": [[0.0, \"#0d0887\"], [0.1111111111111111, \"#46039f\"], [0.2222222222222222, \"#7201a8\"], [0.3333333333333333, \"#9c179e\"], [0.4444444444444444, \"#bd3786\"], [0.5555555555555556, \"#d8576b\"], [0.6666666666666666, \"#ed7953\"], [0.7777777777777778, \"#fb9f3a\"], [0.8888888888888888, \"#fdca26\"], [1.0, \"#f0f921\"]], \"sequentialminus\": [[0.0, \"#0d0887\"], [0.1111111111111111, \"#46039f\"], [0.2222222222222222, \"#7201a8\"], [0.3333333333333333, \"#9c179e\"], [0.4444444444444444, \"#bd3786\"], [0.5555555555555556, \"#d8576b\"], [0.6666666666666666, \"#ed7953\"], [0.7777777777777778, \"#fb9f3a\"], [0.8888888888888888, \"#fdca26\"], [1.0, \"#f0f921\"]]}, \"colorway\": [\"#636efa\", \"#EF553B\", \"#00cc96\", \"#ab63fa\", \"#FFA15A\", \"#19d3f3\", \"#FF6692\", \"#B6E880\", \"#FF97FF\", \"#FECB52\"], \"font\": {\"color\": \"#2a3f5f\"}, \"geo\": {\"bgcolor\": \"white\", \"lakecolor\": \"white\", \"landcolor\": \"white\", \"showlakes\": true, \"showland\": true, \"subunitcolor\": \"#C8D4E3\"}, \"hoverlabel\": {\"align\": \"left\"}, \"hovermode\": \"closest\", \"mapbox\": {\"style\": \"light\"}, \"paper_bgcolor\": \"white\", \"plot_bgcolor\": \"white\", \"polar\": {\"angularaxis\": {\"gridcolor\": \"#EBF0F8\", \"linecolor\": \"#EBF0F8\", \"ticks\": \"\"}, \"bgcolor\": \"white\", \"radialaxis\": {\"gridcolor\": \"#EBF0F8\", \"linecolor\": \"#EBF0F8\", \"ticks\": \"\"}}, \"scene\": {\"xaxis\": {\"backgroundcolor\": \"white\", \"gridcolor\": \"#DFE8F3\", \"gridwidth\": 2, \"linecolor\": \"#EBF0F8\", \"showbackground\": true, \"ticks\": \"\", \"zerolinecolor\": \"#EBF0F8\"}, \"yaxis\": {\"backgroundcolor\": \"white\", \"gridcolor\": \"#DFE8F3\", \"gridwidth\": 2, \"linecolor\": \"#EBF0F8\", \"showbackground\": true, \"ticks\": \"\", \"zerolinecolor\": \"#EBF0F8\"}, \"zaxis\": {\"backgroundcolor\": \"white\", \"gridcolor\": \"#DFE8F3\", \"gridwidth\": 2, \"linecolor\": \"#EBF0F8\", \"showbackground\": true, \"ticks\": \"\", \"zerolinecolor\": \"#EBF0F8\"}}, \"shapedefaults\": {\"line\": {\"color\": \"#2a3f5f\"}}, \"ternary\": {\"aaxis\": {\"gridcolor\": \"#DFE8F3\", \"linecolor\": \"#A2B1C6\", \"ticks\": \"\"}, \"baxis\": {\"gridcolor\": \"#DFE8F3\", \"linecolor\": \"#A2B1C6\", \"ticks\": \"\"}, \"bgcolor\": \"white\", \"caxis\": {\"gridcolor\": \"#DFE8F3\", \"linecolor\": \"#A2B1C6\", \"ticks\": \"\"}}, \"title\": {\"x\": 0.05}, \"xaxis\": {\"automargin\": true, \"gridcolor\": \"#EBF0F8\", \"linecolor\": \"#EBF0F8\", \"ticks\": \"\", \"title\": {\"standoff\": 15}, \"zerolinecolor\": \"#EBF0F8\", \"zerolinewidth\": 2}, \"yaxis\": {\"automargin\": true, \"gridcolor\": \"#EBF0F8\", \"linecolor\": \"#EBF0F8\", \"ticks\": \"\", \"title\": {\"standoff\": 15}, \"zerolinecolor\": \"#EBF0F8\", \"zerolinewidth\": 2}}}, \"title\": {\"text\": \"Answers bigram count top 20\"}, \"xaxis\": {\"anchor\": \"y\", \"domain\": [0.0, 1.0], \"title\": {\"text\": \"word\"}}, \"yaxis\": {\"anchor\": \"x\", \"domain\": [0.0, 1.0], \"title\": {\"text\": \"count\"}}},                        {\"responsive\": true}                    ).then(function(){\n",
       "                            \n",
       "var gd = document.getElementById('0873157b-88ef-456a-8db9-8e242b12cedc');\n",
       "var x = new MutationObserver(function (mutations, observer) {{\n",
       "        var display = window.getComputedStyle(gd).display;\n",
       "        if (!display || display === 'none') {{\n",
       "            console.log([gd, 'removed!']);\n",
       "            Plotly.purge(gd);\n",
       "            observer.disconnect();\n",
       "        }}\n",
       "}});\n",
       "\n",
       "// Listen for the removal of the full notebook cells\n",
       "var notebookContainer = gd.closest('#notebook-container');\n",
       "if (notebookContainer) {{\n",
       "    x.observe(notebookContainer, {childList: true});\n",
       "}}\n",
       "\n",
       "// Listen for the clearing of the current output cell\n",
       "var outputEl = gd.closest('.output');\n",
       "if (outputEl) {{\n",
       "    x.observe(outputEl, {childList: true});\n",
       "}}\n",
       "\n",
       "                        })                };                });            </script>        </div>"
      ]
     },
     "metadata": {},
     "output_type": "display_data"
    },
    {
     "name": "stdout",
     "output_type": "stream",
     "text": [
      "stationary energy residential buildings 305.2467996455891\n",
      "crf stationary energy residential 304.4466720223852\n",
      "community greenhouse gas emissions 238.6384778374818\n",
      "greenhouse gas emissions inventories 237.47884734685996\n",
      "gas emissions inventories gpc 237.46538770047425\n",
      "indirect emissions use grid 237.45959118639314\n",
      "emissions use grid supplied 237.45959118639314\n",
      "use grid supplied electricity 237.44378789596888\n",
      "grid supplied electricity heat 237.44378789596888\n",
      "supplied electricity heat steam 237.44378789596888\n",
      "electricity heat steam cooling 237.44378789596888\n",
      "global protocol community greenhouse 237.41810620826473\n",
      "protocol community greenhouse gas 237.41810620826473\n",
      "ipcc 5th ar 2013 213.0\n",
      "industrial process product use 188.35989745054508\n",
      "stationary energy commercial buildings 158.3240256595171\n",
      "stationary energy industrial buildings 156.43671529636208\n",
      "energy industrial buildings facilities 156.34287890697786\n",
      "energy commercial buildings facilities 156.15378918799644\n",
      "crf stationary energy industrial 156.0814146500765\n",
      "crf stationary energy commercial 155.6712789002629\n",
      "agriculture forestry land use 148.0376529451644\n",
      "yes use crf format 146.0\n",
      "forestry land use sectors 137.1630264875317\n",
      "crf stationary energy agriculture 117.0\n",
      "regional country specific methodology 109.1407333933021\n",
      "national greenhouse gas inventories 106.40353887551485\n",
      "guidelines national greenhouse gas 104.03268570143152\n",
      "ipcc guidelines national greenhouse 103.67644228588803\n",
      "2006 ipcc guidelines national 103.26184872965197\n"
     ]
    },
    {
     "data": {
      "application/vnd.plotly.v1+json": {
       "config": {
        "plotlyServerURL": "https://plot.ly"
       },
       "data": [
        {
         "alignmentgroup": "True",
         "hovertemplate": "word=%{x}<br>count=%{y}<extra></extra>",
         "legendgroup": "",
         "marker": {
          "color": "#636efa"
         },
         "name": "",
         "offsetgroup": "",
         "orientation": "v",
         "showlegend": false,
         "textposition": "auto",
         "type": "bar",
         "x": [
          "stationary energy residential buildings",
          "crf stationary energy residential",
          "community greenhouse gas emissions",
          "greenhouse gas emissions inventories",
          "gas emissions inventories gpc",
          "indirect emissions use grid",
          "emissions use grid supplied",
          "use grid supplied electricity",
          "grid supplied electricity heat",
          "supplied electricity heat steam",
          "electricity heat steam cooling",
          "global protocol community greenhouse",
          "protocol community greenhouse gas",
          "ipcc 5th ar 2013",
          "industrial process product use",
          "stationary energy commercial buildings",
          "stationary energy industrial buildings",
          "energy industrial buildings facilities",
          "energy commercial buildings facilities",
          "crf stationary energy industrial",
          "crf stationary energy commercial",
          "agriculture forestry land use",
          "yes use crf format",
          "forestry land use sectors",
          "crf stationary energy agriculture",
          "regional country specific methodology",
          "national greenhouse gas inventories",
          "guidelines national greenhouse gas",
          "ipcc guidelines national greenhouse",
          "2006 ipcc guidelines national"
         ],
         "xaxis": "x",
         "y": [
          305.2467996455891,
          304.4466720223852,
          238.6384778374818,
          237.47884734685996,
          237.46538770047425,
          237.45959118639314,
          237.45959118639314,
          237.44378789596888,
          237.44378789596888,
          237.44378789596888,
          237.44378789596888,
          237.41810620826473,
          237.41810620826473,
          213,
          188.35989745054508,
          158.3240256595171,
          156.43671529636208,
          156.34287890697786,
          156.15378918799644,
          156.0814146500765,
          155.6712789002629,
          148.0376529451644,
          146,
          137.1630264875317,
          117,
          109.1407333933021,
          106.40353887551485,
          104.03268570143152,
          103.67644228588803,
          103.26184872965197
         ],
         "yaxis": "y"
        }
       ],
       "layout": {
        "barmode": "relative",
        "legend": {
         "tracegroupgap": 0
        },
        "margin": {
         "t": 60
        },
        "template": {
         "data": {
          "bar": [
           {
            "error_x": {
             "color": "#2a3f5f"
            },
            "error_y": {
             "color": "#2a3f5f"
            },
            "marker": {
             "line": {
              "color": "white",
              "width": 0.5
             }
            },
            "type": "bar"
           }
          ],
          "barpolar": [
           {
            "marker": {
             "line": {
              "color": "white",
              "width": 0.5
             }
            },
            "type": "barpolar"
           }
          ],
          "carpet": [
           {
            "aaxis": {
             "endlinecolor": "#2a3f5f",
             "gridcolor": "#C8D4E3",
             "linecolor": "#C8D4E3",
             "minorgridcolor": "#C8D4E3",
             "startlinecolor": "#2a3f5f"
            },
            "baxis": {
             "endlinecolor": "#2a3f5f",
             "gridcolor": "#C8D4E3",
             "linecolor": "#C8D4E3",
             "minorgridcolor": "#C8D4E3",
             "startlinecolor": "#2a3f5f"
            },
            "type": "carpet"
           }
          ],
          "choropleth": [
           {
            "colorbar": {
             "outlinewidth": 0,
             "ticks": ""
            },
            "type": "choropleth"
           }
          ],
          "contour": [
           {
            "colorbar": {
             "outlinewidth": 0,
             "ticks": ""
            },
            "colorscale": [
             [
              0,
              "#0d0887"
             ],
             [
              0.1111111111111111,
              "#46039f"
             ],
             [
              0.2222222222222222,
              "#7201a8"
             ],
             [
              0.3333333333333333,
              "#9c179e"
             ],
             [
              0.4444444444444444,
              "#bd3786"
             ],
             [
              0.5555555555555556,
              "#d8576b"
             ],
             [
              0.6666666666666666,
              "#ed7953"
             ],
             [
              0.7777777777777778,
              "#fb9f3a"
             ],
             [
              0.8888888888888888,
              "#fdca26"
             ],
             [
              1,
              "#f0f921"
             ]
            ],
            "type": "contour"
           }
          ],
          "contourcarpet": [
           {
            "colorbar": {
             "outlinewidth": 0,
             "ticks": ""
            },
            "type": "contourcarpet"
           }
          ],
          "heatmap": [
           {
            "colorbar": {
             "outlinewidth": 0,
             "ticks": ""
            },
            "colorscale": [
             [
              0,
              "#0d0887"
             ],
             [
              0.1111111111111111,
              "#46039f"
             ],
             [
              0.2222222222222222,
              "#7201a8"
             ],
             [
              0.3333333333333333,
              "#9c179e"
             ],
             [
              0.4444444444444444,
              "#bd3786"
             ],
             [
              0.5555555555555556,
              "#d8576b"
             ],
             [
              0.6666666666666666,
              "#ed7953"
             ],
             [
              0.7777777777777778,
              "#fb9f3a"
             ],
             [
              0.8888888888888888,
              "#fdca26"
             ],
             [
              1,
              "#f0f921"
             ]
            ],
            "type": "heatmap"
           }
          ],
          "heatmapgl": [
           {
            "colorbar": {
             "outlinewidth": 0,
             "ticks": ""
            },
            "colorscale": [
             [
              0,
              "#0d0887"
             ],
             [
              0.1111111111111111,
              "#46039f"
             ],
             [
              0.2222222222222222,
              "#7201a8"
             ],
             [
              0.3333333333333333,
              "#9c179e"
             ],
             [
              0.4444444444444444,
              "#bd3786"
             ],
             [
              0.5555555555555556,
              "#d8576b"
             ],
             [
              0.6666666666666666,
              "#ed7953"
             ],
             [
              0.7777777777777778,
              "#fb9f3a"
             ],
             [
              0.8888888888888888,
              "#fdca26"
             ],
             [
              1,
              "#f0f921"
             ]
            ],
            "type": "heatmapgl"
           }
          ],
          "histogram": [
           {
            "marker": {
             "colorbar": {
              "outlinewidth": 0,
              "ticks": ""
             }
            },
            "type": "histogram"
           }
          ],
          "histogram2d": [
           {
            "colorbar": {
             "outlinewidth": 0,
             "ticks": ""
            },
            "colorscale": [
             [
              0,
              "#0d0887"
             ],
             [
              0.1111111111111111,
              "#46039f"
             ],
             [
              0.2222222222222222,
              "#7201a8"
             ],
             [
              0.3333333333333333,
              "#9c179e"
             ],
             [
              0.4444444444444444,
              "#bd3786"
             ],
             [
              0.5555555555555556,
              "#d8576b"
             ],
             [
              0.6666666666666666,
              "#ed7953"
             ],
             [
              0.7777777777777778,
              "#fb9f3a"
             ],
             [
              0.8888888888888888,
              "#fdca26"
             ],
             [
              1,
              "#f0f921"
             ]
            ],
            "type": "histogram2d"
           }
          ],
          "histogram2dcontour": [
           {
            "colorbar": {
             "outlinewidth": 0,
             "ticks": ""
            },
            "colorscale": [
             [
              0,
              "#0d0887"
             ],
             [
              0.1111111111111111,
              "#46039f"
             ],
             [
              0.2222222222222222,
              "#7201a8"
             ],
             [
              0.3333333333333333,
              "#9c179e"
             ],
             [
              0.4444444444444444,
              "#bd3786"
             ],
             [
              0.5555555555555556,
              "#d8576b"
             ],
             [
              0.6666666666666666,
              "#ed7953"
             ],
             [
              0.7777777777777778,
              "#fb9f3a"
             ],
             [
              0.8888888888888888,
              "#fdca26"
             ],
             [
              1,
              "#f0f921"
             ]
            ],
            "type": "histogram2dcontour"
           }
          ],
          "mesh3d": [
           {
            "colorbar": {
             "outlinewidth": 0,
             "ticks": ""
            },
            "type": "mesh3d"
           }
          ],
          "parcoords": [
           {
            "line": {
             "colorbar": {
              "outlinewidth": 0,
              "ticks": ""
             }
            },
            "type": "parcoords"
           }
          ],
          "pie": [
           {
            "automargin": true,
            "type": "pie"
           }
          ],
          "scatter": [
           {
            "marker": {
             "colorbar": {
              "outlinewidth": 0,
              "ticks": ""
             }
            },
            "type": "scatter"
           }
          ],
          "scatter3d": [
           {
            "line": {
             "colorbar": {
              "outlinewidth": 0,
              "ticks": ""
             }
            },
            "marker": {
             "colorbar": {
              "outlinewidth": 0,
              "ticks": ""
             }
            },
            "type": "scatter3d"
           }
          ],
          "scattercarpet": [
           {
            "marker": {
             "colorbar": {
              "outlinewidth": 0,
              "ticks": ""
             }
            },
            "type": "scattercarpet"
           }
          ],
          "scattergeo": [
           {
            "marker": {
             "colorbar": {
              "outlinewidth": 0,
              "ticks": ""
             }
            },
            "type": "scattergeo"
           }
          ],
          "scattergl": [
           {
            "marker": {
             "colorbar": {
              "outlinewidth": 0,
              "ticks": ""
             }
            },
            "type": "scattergl"
           }
          ],
          "scattermapbox": [
           {
            "marker": {
             "colorbar": {
              "outlinewidth": 0,
              "ticks": ""
             }
            },
            "type": "scattermapbox"
           }
          ],
          "scatterpolar": [
           {
            "marker": {
             "colorbar": {
              "outlinewidth": 0,
              "ticks": ""
             }
            },
            "type": "scatterpolar"
           }
          ],
          "scatterpolargl": [
           {
            "marker": {
             "colorbar": {
              "outlinewidth": 0,
              "ticks": ""
             }
            },
            "type": "scatterpolargl"
           }
          ],
          "scatterternary": [
           {
            "marker": {
             "colorbar": {
              "outlinewidth": 0,
              "ticks": ""
             }
            },
            "type": "scatterternary"
           }
          ],
          "surface": [
           {
            "colorbar": {
             "outlinewidth": 0,
             "ticks": ""
            },
            "colorscale": [
             [
              0,
              "#0d0887"
             ],
             [
              0.1111111111111111,
              "#46039f"
             ],
             [
              0.2222222222222222,
              "#7201a8"
             ],
             [
              0.3333333333333333,
              "#9c179e"
             ],
             [
              0.4444444444444444,
              "#bd3786"
             ],
             [
              0.5555555555555556,
              "#d8576b"
             ],
             [
              0.6666666666666666,
              "#ed7953"
             ],
             [
              0.7777777777777778,
              "#fb9f3a"
             ],
             [
              0.8888888888888888,
              "#fdca26"
             ],
             [
              1,
              "#f0f921"
             ]
            ],
            "type": "surface"
           }
          ],
          "table": [
           {
            "cells": {
             "fill": {
              "color": "#EBF0F8"
             },
             "line": {
              "color": "white"
             }
            },
            "header": {
             "fill": {
              "color": "#C8D4E3"
             },
             "line": {
              "color": "white"
             }
            },
            "type": "table"
           }
          ]
         },
         "layout": {
          "annotationdefaults": {
           "arrowcolor": "#2a3f5f",
           "arrowhead": 0,
           "arrowwidth": 1
          },
          "coloraxis": {
           "colorbar": {
            "outlinewidth": 0,
            "ticks": ""
           }
          },
          "colorscale": {
           "diverging": [
            [
             0,
             "#8e0152"
            ],
            [
             0.1,
             "#c51b7d"
            ],
            [
             0.2,
             "#de77ae"
            ],
            [
             0.3,
             "#f1b6da"
            ],
            [
             0.4,
             "#fde0ef"
            ],
            [
             0.5,
             "#f7f7f7"
            ],
            [
             0.6,
             "#e6f5d0"
            ],
            [
             0.7,
             "#b8e186"
            ],
            [
             0.8,
             "#7fbc41"
            ],
            [
             0.9,
             "#4d9221"
            ],
            [
             1,
             "#276419"
            ]
           ],
           "sequential": [
            [
             0,
             "#0d0887"
            ],
            [
             0.1111111111111111,
             "#46039f"
            ],
            [
             0.2222222222222222,
             "#7201a8"
            ],
            [
             0.3333333333333333,
             "#9c179e"
            ],
            [
             0.4444444444444444,
             "#bd3786"
            ],
            [
             0.5555555555555556,
             "#d8576b"
            ],
            [
             0.6666666666666666,
             "#ed7953"
            ],
            [
             0.7777777777777778,
             "#fb9f3a"
            ],
            [
             0.8888888888888888,
             "#fdca26"
            ],
            [
             1,
             "#f0f921"
            ]
           ],
           "sequentialminus": [
            [
             0,
             "#0d0887"
            ],
            [
             0.1111111111111111,
             "#46039f"
            ],
            [
             0.2222222222222222,
             "#7201a8"
            ],
            [
             0.3333333333333333,
             "#9c179e"
            ],
            [
             0.4444444444444444,
             "#bd3786"
            ],
            [
             0.5555555555555556,
             "#d8576b"
            ],
            [
             0.6666666666666666,
             "#ed7953"
            ],
            [
             0.7777777777777778,
             "#fb9f3a"
            ],
            [
             0.8888888888888888,
             "#fdca26"
            ],
            [
             1,
             "#f0f921"
            ]
           ]
          },
          "colorway": [
           "#636efa",
           "#EF553B",
           "#00cc96",
           "#ab63fa",
           "#FFA15A",
           "#19d3f3",
           "#FF6692",
           "#B6E880",
           "#FF97FF",
           "#FECB52"
          ],
          "font": {
           "color": "#2a3f5f"
          },
          "geo": {
           "bgcolor": "white",
           "lakecolor": "white",
           "landcolor": "white",
           "showlakes": true,
           "showland": true,
           "subunitcolor": "#C8D4E3"
          },
          "hoverlabel": {
           "align": "left"
          },
          "hovermode": "closest",
          "mapbox": {
           "style": "light"
          },
          "paper_bgcolor": "white",
          "plot_bgcolor": "white",
          "polar": {
           "angularaxis": {
            "gridcolor": "#EBF0F8",
            "linecolor": "#EBF0F8",
            "ticks": ""
           },
           "bgcolor": "white",
           "radialaxis": {
            "gridcolor": "#EBF0F8",
            "linecolor": "#EBF0F8",
            "ticks": ""
           }
          },
          "scene": {
           "xaxis": {
            "backgroundcolor": "white",
            "gridcolor": "#DFE8F3",
            "gridwidth": 2,
            "linecolor": "#EBF0F8",
            "showbackground": true,
            "ticks": "",
            "zerolinecolor": "#EBF0F8"
           },
           "yaxis": {
            "backgroundcolor": "white",
            "gridcolor": "#DFE8F3",
            "gridwidth": 2,
            "linecolor": "#EBF0F8",
            "showbackground": true,
            "ticks": "",
            "zerolinecolor": "#EBF0F8"
           },
           "zaxis": {
            "backgroundcolor": "white",
            "gridcolor": "#DFE8F3",
            "gridwidth": 2,
            "linecolor": "#EBF0F8",
            "showbackground": true,
            "ticks": "",
            "zerolinecolor": "#EBF0F8"
           }
          },
          "shapedefaults": {
           "line": {
            "color": "#2a3f5f"
           }
          },
          "ternary": {
           "aaxis": {
            "gridcolor": "#DFE8F3",
            "linecolor": "#A2B1C6",
            "ticks": ""
           },
           "baxis": {
            "gridcolor": "#DFE8F3",
            "linecolor": "#A2B1C6",
            "ticks": ""
           },
           "bgcolor": "white",
           "caxis": {
            "gridcolor": "#DFE8F3",
            "linecolor": "#A2B1C6",
            "ticks": ""
           }
          },
          "title": {
           "x": 0.05
          },
          "xaxis": {
           "automargin": true,
           "gridcolor": "#EBF0F8",
           "linecolor": "#EBF0F8",
           "ticks": "",
           "title": {
            "standoff": 15
           },
           "zerolinecolor": "#EBF0F8",
           "zerolinewidth": 2
          },
          "yaxis": {
           "automargin": true,
           "gridcolor": "#EBF0F8",
           "linecolor": "#EBF0F8",
           "ticks": "",
           "title": {
            "standoff": 15
           },
           "zerolinecolor": "#EBF0F8",
           "zerolinewidth": 2
          }
         }
        },
        "title": {
         "text": "Answers bigram count top 20"
        },
        "xaxis": {
         "anchor": "y",
         "domain": [
          0,
          1
         ],
         "title": {
          "text": "word"
         }
        },
        "yaxis": {
         "anchor": "x",
         "domain": [
          0,
          1
         ],
         "title": {
          "text": "count"
         }
        }
       }
      },
      "text/html": [
       "<div>                            <div id=\"e89f321a-95e2-4143-bdac-1792a412cc12\" class=\"plotly-graph-div\" style=\"height:525px; width:100%;\"></div>            <script type=\"text/javascript\">                require([\"plotly\"], function(Plotly) {                    window.PLOTLYENV=window.PLOTLYENV || {};                                    if (document.getElementById(\"e89f321a-95e2-4143-bdac-1792a412cc12\")) {                    Plotly.newPlot(                        \"e89f321a-95e2-4143-bdac-1792a412cc12\",                        [{\"alignmentgroup\": \"True\", \"hovertemplate\": \"word=%{x}<br>count=%{y}<extra></extra>\", \"legendgroup\": \"\", \"marker\": {\"color\": \"#636efa\"}, \"name\": \"\", \"offsetgroup\": \"\", \"orientation\": \"v\", \"showlegend\": false, \"textposition\": \"auto\", \"type\": \"bar\", \"x\": [\"stationary energy residential buildings\", \"crf stationary energy residential\", \"community greenhouse gas emissions\", \"greenhouse gas emissions inventories\", \"gas emissions inventories gpc\", \"indirect emissions use grid\", \"emissions use grid supplied\", \"use grid supplied electricity\", \"grid supplied electricity heat\", \"supplied electricity heat steam\", \"electricity heat steam cooling\", \"global protocol community greenhouse\", \"protocol community greenhouse gas\", \"ipcc 5th ar 2013\", \"industrial process product use\", \"stationary energy commercial buildings\", \"stationary energy industrial buildings\", \"energy industrial buildings facilities\", \"energy commercial buildings facilities\", \"crf stationary energy industrial\", \"crf stationary energy commercial\", \"agriculture forestry land use\", \"yes use crf format\", \"forestry land use sectors\", \"crf stationary energy agriculture\", \"regional country specific methodology\", \"national greenhouse gas inventories\", \"guidelines national greenhouse gas\", \"ipcc guidelines national greenhouse\", \"2006 ipcc guidelines national\"], \"xaxis\": \"x\", \"y\": [305.2467996455891, 304.4466720223852, 238.6384778374818, 237.47884734685996, 237.46538770047425, 237.45959118639314, 237.45959118639314, 237.44378789596888, 237.44378789596888, 237.44378789596888, 237.44378789596888, 237.41810620826473, 237.41810620826473, 213.0, 188.35989745054508, 158.3240256595171, 156.43671529636208, 156.34287890697786, 156.15378918799644, 156.0814146500765, 155.6712789002629, 148.0376529451644, 146.0, 137.1630264875317, 117.0, 109.1407333933021, 106.40353887551485, 104.03268570143152, 103.67644228588803, 103.26184872965197], \"yaxis\": \"y\"}],                        {\"barmode\": \"relative\", \"legend\": {\"tracegroupgap\": 0}, \"margin\": {\"t\": 60}, \"template\": {\"data\": {\"bar\": [{\"error_x\": {\"color\": \"#2a3f5f\"}, \"error_y\": {\"color\": \"#2a3f5f\"}, \"marker\": {\"line\": {\"color\": \"white\", \"width\": 0.5}}, \"type\": \"bar\"}], \"barpolar\": [{\"marker\": {\"line\": {\"color\": \"white\", \"width\": 0.5}}, \"type\": \"barpolar\"}], \"carpet\": [{\"aaxis\": {\"endlinecolor\": \"#2a3f5f\", \"gridcolor\": \"#C8D4E3\", \"linecolor\": \"#C8D4E3\", \"minorgridcolor\": \"#C8D4E3\", \"startlinecolor\": \"#2a3f5f\"}, \"baxis\": {\"endlinecolor\": \"#2a3f5f\", \"gridcolor\": \"#C8D4E3\", \"linecolor\": \"#C8D4E3\", \"minorgridcolor\": \"#C8D4E3\", \"startlinecolor\": \"#2a3f5f\"}, \"type\": \"carpet\"}], \"choropleth\": [{\"colorbar\": {\"outlinewidth\": 0, \"ticks\": \"\"}, \"type\": \"choropleth\"}], \"contour\": [{\"colorbar\": {\"outlinewidth\": 0, \"ticks\": \"\"}, \"colorscale\": [[0.0, \"#0d0887\"], [0.1111111111111111, \"#46039f\"], [0.2222222222222222, \"#7201a8\"], [0.3333333333333333, \"#9c179e\"], [0.4444444444444444, \"#bd3786\"], [0.5555555555555556, \"#d8576b\"], [0.6666666666666666, \"#ed7953\"], [0.7777777777777778, \"#fb9f3a\"], [0.8888888888888888, \"#fdca26\"], [1.0, \"#f0f921\"]], \"type\": \"contour\"}], \"contourcarpet\": [{\"colorbar\": {\"outlinewidth\": 0, \"ticks\": \"\"}, \"type\": \"contourcarpet\"}], \"heatmap\": [{\"colorbar\": {\"outlinewidth\": 0, \"ticks\": \"\"}, \"colorscale\": [[0.0, \"#0d0887\"], [0.1111111111111111, \"#46039f\"], [0.2222222222222222, \"#7201a8\"], [0.3333333333333333, \"#9c179e\"], [0.4444444444444444, \"#bd3786\"], [0.5555555555555556, \"#d8576b\"], [0.6666666666666666, \"#ed7953\"], [0.7777777777777778, \"#fb9f3a\"], [0.8888888888888888, \"#fdca26\"], [1.0, \"#f0f921\"]], \"type\": \"heatmap\"}], \"heatmapgl\": [{\"colorbar\": {\"outlinewidth\": 0, \"ticks\": \"\"}, \"colorscale\": [[0.0, \"#0d0887\"], [0.1111111111111111, \"#46039f\"], [0.2222222222222222, \"#7201a8\"], [0.3333333333333333, \"#9c179e\"], [0.4444444444444444, \"#bd3786\"], [0.5555555555555556, \"#d8576b\"], [0.6666666666666666, \"#ed7953\"], [0.7777777777777778, \"#fb9f3a\"], [0.8888888888888888, \"#fdca26\"], [1.0, \"#f0f921\"]], \"type\": \"heatmapgl\"}], \"histogram\": [{\"marker\": {\"colorbar\": {\"outlinewidth\": 0, \"ticks\": \"\"}}, \"type\": \"histogram\"}], \"histogram2d\": [{\"colorbar\": {\"outlinewidth\": 0, \"ticks\": \"\"}, \"colorscale\": [[0.0, \"#0d0887\"], [0.1111111111111111, \"#46039f\"], [0.2222222222222222, \"#7201a8\"], [0.3333333333333333, \"#9c179e\"], [0.4444444444444444, \"#bd3786\"], [0.5555555555555556, \"#d8576b\"], [0.6666666666666666, \"#ed7953\"], [0.7777777777777778, \"#fb9f3a\"], [0.8888888888888888, \"#fdca26\"], [1.0, \"#f0f921\"]], \"type\": \"histogram2d\"}], \"histogram2dcontour\": [{\"colorbar\": {\"outlinewidth\": 0, \"ticks\": \"\"}, \"colorscale\": [[0.0, \"#0d0887\"], [0.1111111111111111, \"#46039f\"], [0.2222222222222222, \"#7201a8\"], [0.3333333333333333, \"#9c179e\"], [0.4444444444444444, \"#bd3786\"], [0.5555555555555556, \"#d8576b\"], [0.6666666666666666, \"#ed7953\"], [0.7777777777777778, \"#fb9f3a\"], [0.8888888888888888, \"#fdca26\"], [1.0, \"#f0f921\"]], \"type\": \"histogram2dcontour\"}], \"mesh3d\": [{\"colorbar\": {\"outlinewidth\": 0, \"ticks\": \"\"}, \"type\": \"mesh3d\"}], \"parcoords\": [{\"line\": {\"colorbar\": {\"outlinewidth\": 0, \"ticks\": \"\"}}, \"type\": \"parcoords\"}], \"pie\": [{\"automargin\": true, \"type\": \"pie\"}], \"scatter\": [{\"marker\": {\"colorbar\": {\"outlinewidth\": 0, \"ticks\": \"\"}}, \"type\": \"scatter\"}], \"scatter3d\": [{\"line\": {\"colorbar\": {\"outlinewidth\": 0, \"ticks\": \"\"}}, \"marker\": {\"colorbar\": {\"outlinewidth\": 0, \"ticks\": \"\"}}, \"type\": \"scatter3d\"}], \"scattercarpet\": [{\"marker\": {\"colorbar\": {\"outlinewidth\": 0, \"ticks\": \"\"}}, \"type\": \"scattercarpet\"}], \"scattergeo\": [{\"marker\": {\"colorbar\": {\"outlinewidth\": 0, \"ticks\": \"\"}}, \"type\": \"scattergeo\"}], \"scattergl\": [{\"marker\": {\"colorbar\": {\"outlinewidth\": 0, \"ticks\": \"\"}}, \"type\": \"scattergl\"}], \"scattermapbox\": [{\"marker\": {\"colorbar\": {\"outlinewidth\": 0, \"ticks\": \"\"}}, \"type\": \"scattermapbox\"}], \"scatterpolar\": [{\"marker\": {\"colorbar\": {\"outlinewidth\": 0, \"ticks\": \"\"}}, \"type\": \"scatterpolar\"}], \"scatterpolargl\": [{\"marker\": {\"colorbar\": {\"outlinewidth\": 0, \"ticks\": \"\"}}, \"type\": \"scatterpolargl\"}], \"scatterternary\": [{\"marker\": {\"colorbar\": {\"outlinewidth\": 0, \"ticks\": \"\"}}, \"type\": \"scatterternary\"}], \"surface\": [{\"colorbar\": {\"outlinewidth\": 0, \"ticks\": \"\"}, \"colorscale\": [[0.0, \"#0d0887\"], [0.1111111111111111, \"#46039f\"], [0.2222222222222222, \"#7201a8\"], [0.3333333333333333, \"#9c179e\"], [0.4444444444444444, \"#bd3786\"], [0.5555555555555556, \"#d8576b\"], [0.6666666666666666, \"#ed7953\"], [0.7777777777777778, \"#fb9f3a\"], [0.8888888888888888, \"#fdca26\"], [1.0, \"#f0f921\"]], \"type\": \"surface\"}], \"table\": [{\"cells\": {\"fill\": {\"color\": \"#EBF0F8\"}, \"line\": {\"color\": \"white\"}}, \"header\": {\"fill\": {\"color\": \"#C8D4E3\"}, \"line\": {\"color\": \"white\"}}, \"type\": \"table\"}]}, \"layout\": {\"annotationdefaults\": {\"arrowcolor\": \"#2a3f5f\", \"arrowhead\": 0, \"arrowwidth\": 1}, \"coloraxis\": {\"colorbar\": {\"outlinewidth\": 0, \"ticks\": \"\"}}, \"colorscale\": {\"diverging\": [[0, \"#8e0152\"], [0.1, \"#c51b7d\"], [0.2, \"#de77ae\"], [0.3, \"#f1b6da\"], [0.4, \"#fde0ef\"], [0.5, \"#f7f7f7\"], [0.6, \"#e6f5d0\"], [0.7, \"#b8e186\"], [0.8, \"#7fbc41\"], [0.9, \"#4d9221\"], [1, \"#276419\"]], \"sequential\": [[0.0, \"#0d0887\"], [0.1111111111111111, \"#46039f\"], [0.2222222222222222, \"#7201a8\"], [0.3333333333333333, \"#9c179e\"], [0.4444444444444444, \"#bd3786\"], [0.5555555555555556, \"#d8576b\"], [0.6666666666666666, \"#ed7953\"], [0.7777777777777778, \"#fb9f3a\"], [0.8888888888888888, \"#fdca26\"], [1.0, \"#f0f921\"]], \"sequentialminus\": [[0.0, \"#0d0887\"], [0.1111111111111111, \"#46039f\"], [0.2222222222222222, \"#7201a8\"], [0.3333333333333333, \"#9c179e\"], [0.4444444444444444, \"#bd3786\"], [0.5555555555555556, \"#d8576b\"], [0.6666666666666666, \"#ed7953\"], [0.7777777777777778, \"#fb9f3a\"], [0.8888888888888888, \"#fdca26\"], [1.0, \"#f0f921\"]]}, \"colorway\": [\"#636efa\", \"#EF553B\", \"#00cc96\", \"#ab63fa\", \"#FFA15A\", \"#19d3f3\", \"#FF6692\", \"#B6E880\", \"#FF97FF\", \"#FECB52\"], \"font\": {\"color\": \"#2a3f5f\"}, \"geo\": {\"bgcolor\": \"white\", \"lakecolor\": \"white\", \"landcolor\": \"white\", \"showlakes\": true, \"showland\": true, \"subunitcolor\": \"#C8D4E3\"}, \"hoverlabel\": {\"align\": \"left\"}, \"hovermode\": \"closest\", \"mapbox\": {\"style\": \"light\"}, \"paper_bgcolor\": \"white\", \"plot_bgcolor\": \"white\", \"polar\": {\"angularaxis\": {\"gridcolor\": \"#EBF0F8\", \"linecolor\": \"#EBF0F8\", \"ticks\": \"\"}, \"bgcolor\": \"white\", \"radialaxis\": {\"gridcolor\": \"#EBF0F8\", \"linecolor\": \"#EBF0F8\", \"ticks\": \"\"}}, \"scene\": {\"xaxis\": {\"backgroundcolor\": \"white\", \"gridcolor\": \"#DFE8F3\", \"gridwidth\": 2, \"linecolor\": \"#EBF0F8\", \"showbackground\": true, \"ticks\": \"\", \"zerolinecolor\": \"#EBF0F8\"}, \"yaxis\": {\"backgroundcolor\": \"white\", \"gridcolor\": \"#DFE8F3\", \"gridwidth\": 2, \"linecolor\": \"#EBF0F8\", \"showbackground\": true, \"ticks\": \"\", \"zerolinecolor\": \"#EBF0F8\"}, \"zaxis\": {\"backgroundcolor\": \"white\", \"gridcolor\": \"#DFE8F3\", \"gridwidth\": 2, \"linecolor\": \"#EBF0F8\", \"showbackground\": true, \"ticks\": \"\", \"zerolinecolor\": \"#EBF0F8\"}}, \"shapedefaults\": {\"line\": {\"color\": \"#2a3f5f\"}}, \"ternary\": {\"aaxis\": {\"gridcolor\": \"#DFE8F3\", \"linecolor\": \"#A2B1C6\", \"ticks\": \"\"}, \"baxis\": {\"gridcolor\": \"#DFE8F3\", \"linecolor\": \"#A2B1C6\", \"ticks\": \"\"}, \"bgcolor\": \"white\", \"caxis\": {\"gridcolor\": \"#DFE8F3\", \"linecolor\": \"#A2B1C6\", \"ticks\": \"\"}}, \"title\": {\"x\": 0.05}, \"xaxis\": {\"automargin\": true, \"gridcolor\": \"#EBF0F8\", \"linecolor\": \"#EBF0F8\", \"ticks\": \"\", \"title\": {\"standoff\": 15}, \"zerolinecolor\": \"#EBF0F8\", \"zerolinewidth\": 2}, \"yaxis\": {\"automargin\": true, \"gridcolor\": \"#EBF0F8\", \"linecolor\": \"#EBF0F8\", \"ticks\": \"\", \"title\": {\"standoff\": 15}, \"zerolinecolor\": \"#EBF0F8\", \"zerolinewidth\": 2}}}, \"title\": {\"text\": \"Answers bigram count top 20\"}, \"xaxis\": {\"anchor\": \"y\", \"domain\": [0.0, 1.0], \"title\": {\"text\": \"word\"}}, \"yaxis\": {\"anchor\": \"x\", \"domain\": [0.0, 1.0], \"title\": {\"text\": \"count\"}}},                        {\"responsive\": true}                    ).then(function(){\n",
       "                            \n",
       "var gd = document.getElementById('e89f321a-95e2-4143-bdac-1792a412cc12');\n",
       "var x = new MutationObserver(function (mutations, observer) {{\n",
       "        var display = window.getComputedStyle(gd).display;\n",
       "        if (!display || display === 'none') {{\n",
       "            console.log([gd, 'removed!']);\n",
       "            Plotly.purge(gd);\n",
       "            observer.disconnect();\n",
       "        }}\n",
       "}});\n",
       "\n",
       "// Listen for the removal of the full notebook cells\n",
       "var notebookContainer = gd.closest('#notebook-container');\n",
       "if (notebookContainer) {{\n",
       "    x.observe(notebookContainer, {childList: true});\n",
       "}}\n",
       "\n",
       "// Listen for the clearing of the current output cell\n",
       "var outputEl = gd.closest('.output');\n",
       "if (outputEl) {{\n",
       "    x.observe(outputEl, {childList: true});\n",
       "}}\n",
       "\n",
       "                        })                };                });            </script>        </div>"
      ]
     },
     "metadata": {},
     "output_type": "display_data"
    },
    {
     "name": "stdout",
     "output_type": "stream",
     "text": [
      "crf stationary energy residential buildings 428.7132901175165\n",
      "greenhouse gas emissions inventories gpc 265.2631228373443\n",
      "global protocol community greenhouse gas 265.24568073569486\n",
      "protocol community greenhouse gas emissions 265.24568073569486\n",
      "community greenhouse gas emissions inventories 265.24568073569486\n",
      "indirect emissions use grid supplied 260.1040878758105\n",
      "emissions use grid supplied electricity 260.1040878758105\n",
      "use grid supplied electricity heat 260.0832449040586\n",
      "grid supplied electricity heat steam 260.0832449040586\n",
      "supplied electricity heat steam cooling 260.0832449040586\n",
      "agriculture forestry land use sectors 192.07133453164678\n",
      "stationary energy industrial buildings facilities 191.27554451504793\n",
      "crf stationary energy industrial buildings 191.0546758500931\n",
      "stationary energy commercial buildings facilities 190.81734998487045\n",
      "crf stationary energy commercial buildings 190.3023969741372\n",
      "guidelines national greenhouse gas inventories 118.44816574518775\n",
      "ipcc guidelines national greenhouse gas 118.15220539458008\n",
      "2006 ipcc guidelines national greenhouse 117.54712712864571\n",
      "environmental protection administration executive yuan 109.37517975715865\n",
      "protection administration executive yuan taiwan 109.37517975715865\n",
      "emissions occurring outside city boundary 89.10160266112067\n",
      "occurring outside city boundary result 88.99254224843835\n",
      "outside city boundary result city 88.99254224843835\n",
      "city boundary result city activities 88.99254224843835\n",
      "crf waste solid waste disposal 76.0\n",
      "community protocol accounting reporting greenhouse 74.9776382609009\n",
      "protocol accounting reporting greenhouse gas 74.9776382609009\n",
      "accounting reporting greenhouse gas emissions 74.9776382609009\n",
      "reporting greenhouse gas emissions iclei 73.79047337390301\n",
      "stationary energy institutional buildings facilities 72.97404211686188\n"
     ]
    },
    {
     "data": {
      "application/vnd.plotly.v1+json": {
       "config": {
        "plotlyServerURL": "https://plot.ly"
       },
       "data": [
        {
         "alignmentgroup": "True",
         "hovertemplate": "word=%{x}<br>count=%{y}<extra></extra>",
         "legendgroup": "",
         "marker": {
          "color": "#636efa"
         },
         "name": "",
         "offsetgroup": "",
         "orientation": "v",
         "showlegend": false,
         "textposition": "auto",
         "type": "bar",
         "x": [
          "crf stationary energy residential buildings",
          "greenhouse gas emissions inventories gpc",
          "global protocol community greenhouse gas",
          "protocol community greenhouse gas emissions",
          "community greenhouse gas emissions inventories",
          "indirect emissions use grid supplied",
          "emissions use grid supplied electricity",
          "use grid supplied electricity heat",
          "grid supplied electricity heat steam",
          "supplied electricity heat steam cooling",
          "agriculture forestry land use sectors",
          "stationary energy industrial buildings facilities",
          "crf stationary energy industrial buildings",
          "stationary energy commercial buildings facilities",
          "crf stationary energy commercial buildings",
          "guidelines national greenhouse gas inventories",
          "ipcc guidelines national greenhouse gas",
          "2006 ipcc guidelines national greenhouse",
          "environmental protection administration executive yuan",
          "protection administration executive yuan taiwan",
          "emissions occurring outside city boundary",
          "occurring outside city boundary result",
          "outside city boundary result city",
          "city boundary result city activities",
          "crf waste solid waste disposal",
          "community protocol accounting reporting greenhouse",
          "protocol accounting reporting greenhouse gas",
          "accounting reporting greenhouse gas emissions",
          "reporting greenhouse gas emissions iclei",
          "stationary energy institutional buildings facilities"
         ],
         "xaxis": "x",
         "y": [
          428.7132901175165,
          265.2631228373443,
          265.24568073569486,
          265.24568073569486,
          265.24568073569486,
          260.1040878758105,
          260.1040878758105,
          260.0832449040586,
          260.0832449040586,
          260.0832449040586,
          192.07133453164678,
          191.27554451504793,
          191.0546758500931,
          190.81734998487045,
          190.3023969741372,
          118.44816574518775,
          118.15220539458008,
          117.54712712864571,
          109.37517975715865,
          109.37517975715865,
          89.10160266112067,
          88.99254224843835,
          88.99254224843835,
          88.99254224843835,
          76,
          74.9776382609009,
          74.9776382609009,
          74.9776382609009,
          73.79047337390301,
          72.97404211686188
         ],
         "yaxis": "y"
        }
       ],
       "layout": {
        "barmode": "relative",
        "legend": {
         "tracegroupgap": 0
        },
        "margin": {
         "t": 60
        },
        "template": {
         "data": {
          "bar": [
           {
            "error_x": {
             "color": "#2a3f5f"
            },
            "error_y": {
             "color": "#2a3f5f"
            },
            "marker": {
             "line": {
              "color": "white",
              "width": 0.5
             }
            },
            "type": "bar"
           }
          ],
          "barpolar": [
           {
            "marker": {
             "line": {
              "color": "white",
              "width": 0.5
             }
            },
            "type": "barpolar"
           }
          ],
          "carpet": [
           {
            "aaxis": {
             "endlinecolor": "#2a3f5f",
             "gridcolor": "#C8D4E3",
             "linecolor": "#C8D4E3",
             "minorgridcolor": "#C8D4E3",
             "startlinecolor": "#2a3f5f"
            },
            "baxis": {
             "endlinecolor": "#2a3f5f",
             "gridcolor": "#C8D4E3",
             "linecolor": "#C8D4E3",
             "minorgridcolor": "#C8D4E3",
             "startlinecolor": "#2a3f5f"
            },
            "type": "carpet"
           }
          ],
          "choropleth": [
           {
            "colorbar": {
             "outlinewidth": 0,
             "ticks": ""
            },
            "type": "choropleth"
           }
          ],
          "contour": [
           {
            "colorbar": {
             "outlinewidth": 0,
             "ticks": ""
            },
            "colorscale": [
             [
              0,
              "#0d0887"
             ],
             [
              0.1111111111111111,
              "#46039f"
             ],
             [
              0.2222222222222222,
              "#7201a8"
             ],
             [
              0.3333333333333333,
              "#9c179e"
             ],
             [
              0.4444444444444444,
              "#bd3786"
             ],
             [
              0.5555555555555556,
              "#d8576b"
             ],
             [
              0.6666666666666666,
              "#ed7953"
             ],
             [
              0.7777777777777778,
              "#fb9f3a"
             ],
             [
              0.8888888888888888,
              "#fdca26"
             ],
             [
              1,
              "#f0f921"
             ]
            ],
            "type": "contour"
           }
          ],
          "contourcarpet": [
           {
            "colorbar": {
             "outlinewidth": 0,
             "ticks": ""
            },
            "type": "contourcarpet"
           }
          ],
          "heatmap": [
           {
            "colorbar": {
             "outlinewidth": 0,
             "ticks": ""
            },
            "colorscale": [
             [
              0,
              "#0d0887"
             ],
             [
              0.1111111111111111,
              "#46039f"
             ],
             [
              0.2222222222222222,
              "#7201a8"
             ],
             [
              0.3333333333333333,
              "#9c179e"
             ],
             [
              0.4444444444444444,
              "#bd3786"
             ],
             [
              0.5555555555555556,
              "#d8576b"
             ],
             [
              0.6666666666666666,
              "#ed7953"
             ],
             [
              0.7777777777777778,
              "#fb9f3a"
             ],
             [
              0.8888888888888888,
              "#fdca26"
             ],
             [
              1,
              "#f0f921"
             ]
            ],
            "type": "heatmap"
           }
          ],
          "heatmapgl": [
           {
            "colorbar": {
             "outlinewidth": 0,
             "ticks": ""
            },
            "colorscale": [
             [
              0,
              "#0d0887"
             ],
             [
              0.1111111111111111,
              "#46039f"
             ],
             [
              0.2222222222222222,
              "#7201a8"
             ],
             [
              0.3333333333333333,
              "#9c179e"
             ],
             [
              0.4444444444444444,
              "#bd3786"
             ],
             [
              0.5555555555555556,
              "#d8576b"
             ],
             [
              0.6666666666666666,
              "#ed7953"
             ],
             [
              0.7777777777777778,
              "#fb9f3a"
             ],
             [
              0.8888888888888888,
              "#fdca26"
             ],
             [
              1,
              "#f0f921"
             ]
            ],
            "type": "heatmapgl"
           }
          ],
          "histogram": [
           {
            "marker": {
             "colorbar": {
              "outlinewidth": 0,
              "ticks": ""
             }
            },
            "type": "histogram"
           }
          ],
          "histogram2d": [
           {
            "colorbar": {
             "outlinewidth": 0,
             "ticks": ""
            },
            "colorscale": [
             [
              0,
              "#0d0887"
             ],
             [
              0.1111111111111111,
              "#46039f"
             ],
             [
              0.2222222222222222,
              "#7201a8"
             ],
             [
              0.3333333333333333,
              "#9c179e"
             ],
             [
              0.4444444444444444,
              "#bd3786"
             ],
             [
              0.5555555555555556,
              "#d8576b"
             ],
             [
              0.6666666666666666,
              "#ed7953"
             ],
             [
              0.7777777777777778,
              "#fb9f3a"
             ],
             [
              0.8888888888888888,
              "#fdca26"
             ],
             [
              1,
              "#f0f921"
             ]
            ],
            "type": "histogram2d"
           }
          ],
          "histogram2dcontour": [
           {
            "colorbar": {
             "outlinewidth": 0,
             "ticks": ""
            },
            "colorscale": [
             [
              0,
              "#0d0887"
             ],
             [
              0.1111111111111111,
              "#46039f"
             ],
             [
              0.2222222222222222,
              "#7201a8"
             ],
             [
              0.3333333333333333,
              "#9c179e"
             ],
             [
              0.4444444444444444,
              "#bd3786"
             ],
             [
              0.5555555555555556,
              "#d8576b"
             ],
             [
              0.6666666666666666,
              "#ed7953"
             ],
             [
              0.7777777777777778,
              "#fb9f3a"
             ],
             [
              0.8888888888888888,
              "#fdca26"
             ],
             [
              1,
              "#f0f921"
             ]
            ],
            "type": "histogram2dcontour"
           }
          ],
          "mesh3d": [
           {
            "colorbar": {
             "outlinewidth": 0,
             "ticks": ""
            },
            "type": "mesh3d"
           }
          ],
          "parcoords": [
           {
            "line": {
             "colorbar": {
              "outlinewidth": 0,
              "ticks": ""
             }
            },
            "type": "parcoords"
           }
          ],
          "pie": [
           {
            "automargin": true,
            "type": "pie"
           }
          ],
          "scatter": [
           {
            "marker": {
             "colorbar": {
              "outlinewidth": 0,
              "ticks": ""
             }
            },
            "type": "scatter"
           }
          ],
          "scatter3d": [
           {
            "line": {
             "colorbar": {
              "outlinewidth": 0,
              "ticks": ""
             }
            },
            "marker": {
             "colorbar": {
              "outlinewidth": 0,
              "ticks": ""
             }
            },
            "type": "scatter3d"
           }
          ],
          "scattercarpet": [
           {
            "marker": {
             "colorbar": {
              "outlinewidth": 0,
              "ticks": ""
             }
            },
            "type": "scattercarpet"
           }
          ],
          "scattergeo": [
           {
            "marker": {
             "colorbar": {
              "outlinewidth": 0,
              "ticks": ""
             }
            },
            "type": "scattergeo"
           }
          ],
          "scattergl": [
           {
            "marker": {
             "colorbar": {
              "outlinewidth": 0,
              "ticks": ""
             }
            },
            "type": "scattergl"
           }
          ],
          "scattermapbox": [
           {
            "marker": {
             "colorbar": {
              "outlinewidth": 0,
              "ticks": ""
             }
            },
            "type": "scattermapbox"
           }
          ],
          "scatterpolar": [
           {
            "marker": {
             "colorbar": {
              "outlinewidth": 0,
              "ticks": ""
             }
            },
            "type": "scatterpolar"
           }
          ],
          "scatterpolargl": [
           {
            "marker": {
             "colorbar": {
              "outlinewidth": 0,
              "ticks": ""
             }
            },
            "type": "scatterpolargl"
           }
          ],
          "scatterternary": [
           {
            "marker": {
             "colorbar": {
              "outlinewidth": 0,
              "ticks": ""
             }
            },
            "type": "scatterternary"
           }
          ],
          "surface": [
           {
            "colorbar": {
             "outlinewidth": 0,
             "ticks": ""
            },
            "colorscale": [
             [
              0,
              "#0d0887"
             ],
             [
              0.1111111111111111,
              "#46039f"
             ],
             [
              0.2222222222222222,
              "#7201a8"
             ],
             [
              0.3333333333333333,
              "#9c179e"
             ],
             [
              0.4444444444444444,
              "#bd3786"
             ],
             [
              0.5555555555555556,
              "#d8576b"
             ],
             [
              0.6666666666666666,
              "#ed7953"
             ],
             [
              0.7777777777777778,
              "#fb9f3a"
             ],
             [
              0.8888888888888888,
              "#fdca26"
             ],
             [
              1,
              "#f0f921"
             ]
            ],
            "type": "surface"
           }
          ],
          "table": [
           {
            "cells": {
             "fill": {
              "color": "#EBF0F8"
             },
             "line": {
              "color": "white"
             }
            },
            "header": {
             "fill": {
              "color": "#C8D4E3"
             },
             "line": {
              "color": "white"
             }
            },
            "type": "table"
           }
          ]
         },
         "layout": {
          "annotationdefaults": {
           "arrowcolor": "#2a3f5f",
           "arrowhead": 0,
           "arrowwidth": 1
          },
          "coloraxis": {
           "colorbar": {
            "outlinewidth": 0,
            "ticks": ""
           }
          },
          "colorscale": {
           "diverging": [
            [
             0,
             "#8e0152"
            ],
            [
             0.1,
             "#c51b7d"
            ],
            [
             0.2,
             "#de77ae"
            ],
            [
             0.3,
             "#f1b6da"
            ],
            [
             0.4,
             "#fde0ef"
            ],
            [
             0.5,
             "#f7f7f7"
            ],
            [
             0.6,
             "#e6f5d0"
            ],
            [
             0.7,
             "#b8e186"
            ],
            [
             0.8,
             "#7fbc41"
            ],
            [
             0.9,
             "#4d9221"
            ],
            [
             1,
             "#276419"
            ]
           ],
           "sequential": [
            [
             0,
             "#0d0887"
            ],
            [
             0.1111111111111111,
             "#46039f"
            ],
            [
             0.2222222222222222,
             "#7201a8"
            ],
            [
             0.3333333333333333,
             "#9c179e"
            ],
            [
             0.4444444444444444,
             "#bd3786"
            ],
            [
             0.5555555555555556,
             "#d8576b"
            ],
            [
             0.6666666666666666,
             "#ed7953"
            ],
            [
             0.7777777777777778,
             "#fb9f3a"
            ],
            [
             0.8888888888888888,
             "#fdca26"
            ],
            [
             1,
             "#f0f921"
            ]
           ],
           "sequentialminus": [
            [
             0,
             "#0d0887"
            ],
            [
             0.1111111111111111,
             "#46039f"
            ],
            [
             0.2222222222222222,
             "#7201a8"
            ],
            [
             0.3333333333333333,
             "#9c179e"
            ],
            [
             0.4444444444444444,
             "#bd3786"
            ],
            [
             0.5555555555555556,
             "#d8576b"
            ],
            [
             0.6666666666666666,
             "#ed7953"
            ],
            [
             0.7777777777777778,
             "#fb9f3a"
            ],
            [
             0.8888888888888888,
             "#fdca26"
            ],
            [
             1,
             "#f0f921"
            ]
           ]
          },
          "colorway": [
           "#636efa",
           "#EF553B",
           "#00cc96",
           "#ab63fa",
           "#FFA15A",
           "#19d3f3",
           "#FF6692",
           "#B6E880",
           "#FF97FF",
           "#FECB52"
          ],
          "font": {
           "color": "#2a3f5f"
          },
          "geo": {
           "bgcolor": "white",
           "lakecolor": "white",
           "landcolor": "white",
           "showlakes": true,
           "showland": true,
           "subunitcolor": "#C8D4E3"
          },
          "hoverlabel": {
           "align": "left"
          },
          "hovermode": "closest",
          "mapbox": {
           "style": "light"
          },
          "paper_bgcolor": "white",
          "plot_bgcolor": "white",
          "polar": {
           "angularaxis": {
            "gridcolor": "#EBF0F8",
            "linecolor": "#EBF0F8",
            "ticks": ""
           },
           "bgcolor": "white",
           "radialaxis": {
            "gridcolor": "#EBF0F8",
            "linecolor": "#EBF0F8",
            "ticks": ""
           }
          },
          "scene": {
           "xaxis": {
            "backgroundcolor": "white",
            "gridcolor": "#DFE8F3",
            "gridwidth": 2,
            "linecolor": "#EBF0F8",
            "showbackground": true,
            "ticks": "",
            "zerolinecolor": "#EBF0F8"
           },
           "yaxis": {
            "backgroundcolor": "white",
            "gridcolor": "#DFE8F3",
            "gridwidth": 2,
            "linecolor": "#EBF0F8",
            "showbackground": true,
            "ticks": "",
            "zerolinecolor": "#EBF0F8"
           },
           "zaxis": {
            "backgroundcolor": "white",
            "gridcolor": "#DFE8F3",
            "gridwidth": 2,
            "linecolor": "#EBF0F8",
            "showbackground": true,
            "ticks": "",
            "zerolinecolor": "#EBF0F8"
           }
          },
          "shapedefaults": {
           "line": {
            "color": "#2a3f5f"
           }
          },
          "ternary": {
           "aaxis": {
            "gridcolor": "#DFE8F3",
            "linecolor": "#A2B1C6",
            "ticks": ""
           },
           "baxis": {
            "gridcolor": "#DFE8F3",
            "linecolor": "#A2B1C6",
            "ticks": ""
           },
           "bgcolor": "white",
           "caxis": {
            "gridcolor": "#DFE8F3",
            "linecolor": "#A2B1C6",
            "ticks": ""
           }
          },
          "title": {
           "x": 0.05
          },
          "xaxis": {
           "automargin": true,
           "gridcolor": "#EBF0F8",
           "linecolor": "#EBF0F8",
           "ticks": "",
           "title": {
            "standoff": 15
           },
           "zerolinecolor": "#EBF0F8",
           "zerolinewidth": 2
          },
          "yaxis": {
           "automargin": true,
           "gridcolor": "#EBF0F8",
           "linecolor": "#EBF0F8",
           "ticks": "",
           "title": {
            "standoff": 15
           },
           "zerolinecolor": "#EBF0F8",
           "zerolinewidth": 2
          }
         }
        },
        "title": {
         "text": "Answers bigram count top 20"
        },
        "xaxis": {
         "anchor": "y",
         "domain": [
          0,
          1
         ],
         "title": {
          "text": "word"
         }
        },
        "yaxis": {
         "anchor": "x",
         "domain": [
          0,
          1
         ],
         "title": {
          "text": "count"
         }
        }
       }
      },
      "text/html": [
       "<div>                            <div id=\"8a62ae0d-e0be-4fb8-9ecd-eafd6cab62c6\" class=\"plotly-graph-div\" style=\"height:525px; width:100%;\"></div>            <script type=\"text/javascript\">                require([\"plotly\"], function(Plotly) {                    window.PLOTLYENV=window.PLOTLYENV || {};                                    if (document.getElementById(\"8a62ae0d-e0be-4fb8-9ecd-eafd6cab62c6\")) {                    Plotly.newPlot(                        \"8a62ae0d-e0be-4fb8-9ecd-eafd6cab62c6\",                        [{\"alignmentgroup\": \"True\", \"hovertemplate\": \"word=%{x}<br>count=%{y}<extra></extra>\", \"legendgroup\": \"\", \"marker\": {\"color\": \"#636efa\"}, \"name\": \"\", \"offsetgroup\": \"\", \"orientation\": \"v\", \"showlegend\": false, \"textposition\": \"auto\", \"type\": \"bar\", \"x\": [\"crf stationary energy residential buildings\", \"greenhouse gas emissions inventories gpc\", \"global protocol community greenhouse gas\", \"protocol community greenhouse gas emissions\", \"community greenhouse gas emissions inventories\", \"indirect emissions use grid supplied\", \"emissions use grid supplied electricity\", \"use grid supplied electricity heat\", \"grid supplied electricity heat steam\", \"supplied electricity heat steam cooling\", \"agriculture forestry land use sectors\", \"stationary energy industrial buildings facilities\", \"crf stationary energy industrial buildings\", \"stationary energy commercial buildings facilities\", \"crf stationary energy commercial buildings\", \"guidelines national greenhouse gas inventories\", \"ipcc guidelines national greenhouse gas\", \"2006 ipcc guidelines national greenhouse\", \"environmental protection administration executive yuan\", \"protection administration executive yuan taiwan\", \"emissions occurring outside city boundary\", \"occurring outside city boundary result\", \"outside city boundary result city\", \"city boundary result city activities\", \"crf waste solid waste disposal\", \"community protocol accounting reporting greenhouse\", \"protocol accounting reporting greenhouse gas\", \"accounting reporting greenhouse gas emissions\", \"reporting greenhouse gas emissions iclei\", \"stationary energy institutional buildings facilities\"], \"xaxis\": \"x\", \"y\": [428.7132901175165, 265.2631228373443, 265.24568073569486, 265.24568073569486, 265.24568073569486, 260.1040878758105, 260.1040878758105, 260.0832449040586, 260.0832449040586, 260.0832449040586, 192.07133453164678, 191.27554451504793, 191.0546758500931, 190.81734998487045, 190.3023969741372, 118.44816574518775, 118.15220539458008, 117.54712712864571, 109.37517975715865, 109.37517975715865, 89.10160266112067, 88.99254224843835, 88.99254224843835, 88.99254224843835, 76.0, 74.9776382609009, 74.9776382609009, 74.9776382609009, 73.79047337390301, 72.97404211686188], \"yaxis\": \"y\"}],                        {\"barmode\": \"relative\", \"legend\": {\"tracegroupgap\": 0}, \"margin\": {\"t\": 60}, \"template\": {\"data\": {\"bar\": [{\"error_x\": {\"color\": \"#2a3f5f\"}, \"error_y\": {\"color\": \"#2a3f5f\"}, \"marker\": {\"line\": {\"color\": \"white\", \"width\": 0.5}}, \"type\": \"bar\"}], \"barpolar\": [{\"marker\": {\"line\": {\"color\": \"white\", \"width\": 0.5}}, \"type\": \"barpolar\"}], \"carpet\": [{\"aaxis\": {\"endlinecolor\": \"#2a3f5f\", \"gridcolor\": \"#C8D4E3\", \"linecolor\": \"#C8D4E3\", \"minorgridcolor\": \"#C8D4E3\", \"startlinecolor\": \"#2a3f5f\"}, \"baxis\": {\"endlinecolor\": \"#2a3f5f\", \"gridcolor\": \"#C8D4E3\", \"linecolor\": \"#C8D4E3\", \"minorgridcolor\": \"#C8D4E3\", \"startlinecolor\": \"#2a3f5f\"}, \"type\": \"carpet\"}], \"choropleth\": [{\"colorbar\": {\"outlinewidth\": 0, \"ticks\": \"\"}, \"type\": \"choropleth\"}], \"contour\": [{\"colorbar\": {\"outlinewidth\": 0, \"ticks\": \"\"}, \"colorscale\": [[0.0, \"#0d0887\"], [0.1111111111111111, \"#46039f\"], [0.2222222222222222, \"#7201a8\"], [0.3333333333333333, \"#9c179e\"], [0.4444444444444444, \"#bd3786\"], [0.5555555555555556, \"#d8576b\"], [0.6666666666666666, \"#ed7953\"], [0.7777777777777778, \"#fb9f3a\"], [0.8888888888888888, \"#fdca26\"], [1.0, \"#f0f921\"]], \"type\": \"contour\"}], \"contourcarpet\": [{\"colorbar\": {\"outlinewidth\": 0, \"ticks\": \"\"}, \"type\": \"contourcarpet\"}], \"heatmap\": [{\"colorbar\": {\"outlinewidth\": 0, \"ticks\": \"\"}, \"colorscale\": [[0.0, \"#0d0887\"], [0.1111111111111111, \"#46039f\"], [0.2222222222222222, \"#7201a8\"], [0.3333333333333333, \"#9c179e\"], [0.4444444444444444, \"#bd3786\"], [0.5555555555555556, \"#d8576b\"], [0.6666666666666666, \"#ed7953\"], [0.7777777777777778, \"#fb9f3a\"], [0.8888888888888888, \"#fdca26\"], [1.0, \"#f0f921\"]], \"type\": \"heatmap\"}], \"heatmapgl\": [{\"colorbar\": {\"outlinewidth\": 0, \"ticks\": \"\"}, \"colorscale\": [[0.0, \"#0d0887\"], [0.1111111111111111, \"#46039f\"], [0.2222222222222222, \"#7201a8\"], [0.3333333333333333, \"#9c179e\"], [0.4444444444444444, \"#bd3786\"], [0.5555555555555556, \"#d8576b\"], [0.6666666666666666, \"#ed7953\"], [0.7777777777777778, \"#fb9f3a\"], [0.8888888888888888, \"#fdca26\"], [1.0, \"#f0f921\"]], \"type\": \"heatmapgl\"}], \"histogram\": [{\"marker\": {\"colorbar\": {\"outlinewidth\": 0, \"ticks\": \"\"}}, \"type\": \"histogram\"}], \"histogram2d\": [{\"colorbar\": {\"outlinewidth\": 0, \"ticks\": \"\"}, \"colorscale\": [[0.0, \"#0d0887\"], [0.1111111111111111, \"#46039f\"], [0.2222222222222222, \"#7201a8\"], [0.3333333333333333, \"#9c179e\"], [0.4444444444444444, \"#bd3786\"], [0.5555555555555556, \"#d8576b\"], [0.6666666666666666, \"#ed7953\"], [0.7777777777777778, \"#fb9f3a\"], [0.8888888888888888, \"#fdca26\"], [1.0, \"#f0f921\"]], \"type\": \"histogram2d\"}], \"histogram2dcontour\": [{\"colorbar\": {\"outlinewidth\": 0, \"ticks\": \"\"}, \"colorscale\": [[0.0, \"#0d0887\"], [0.1111111111111111, \"#46039f\"], [0.2222222222222222, \"#7201a8\"], [0.3333333333333333, \"#9c179e\"], [0.4444444444444444, \"#bd3786\"], [0.5555555555555556, \"#d8576b\"], [0.6666666666666666, \"#ed7953\"], [0.7777777777777778, \"#fb9f3a\"], [0.8888888888888888, \"#fdca26\"], [1.0, \"#f0f921\"]], \"type\": \"histogram2dcontour\"}], \"mesh3d\": [{\"colorbar\": {\"outlinewidth\": 0, \"ticks\": \"\"}, \"type\": \"mesh3d\"}], \"parcoords\": [{\"line\": {\"colorbar\": {\"outlinewidth\": 0, \"ticks\": \"\"}}, \"type\": \"parcoords\"}], \"pie\": [{\"automargin\": true, \"type\": \"pie\"}], \"scatter\": [{\"marker\": {\"colorbar\": {\"outlinewidth\": 0, \"ticks\": \"\"}}, \"type\": \"scatter\"}], \"scatter3d\": [{\"line\": {\"colorbar\": {\"outlinewidth\": 0, \"ticks\": \"\"}}, \"marker\": {\"colorbar\": {\"outlinewidth\": 0, \"ticks\": \"\"}}, \"type\": \"scatter3d\"}], \"scattercarpet\": [{\"marker\": {\"colorbar\": {\"outlinewidth\": 0, \"ticks\": \"\"}}, \"type\": \"scattercarpet\"}], \"scattergeo\": [{\"marker\": {\"colorbar\": {\"outlinewidth\": 0, \"ticks\": \"\"}}, \"type\": \"scattergeo\"}], \"scattergl\": [{\"marker\": {\"colorbar\": {\"outlinewidth\": 0, \"ticks\": \"\"}}, \"type\": \"scattergl\"}], \"scattermapbox\": [{\"marker\": {\"colorbar\": {\"outlinewidth\": 0, \"ticks\": \"\"}}, \"type\": \"scattermapbox\"}], \"scatterpolar\": [{\"marker\": {\"colorbar\": {\"outlinewidth\": 0, \"ticks\": \"\"}}, \"type\": \"scatterpolar\"}], \"scatterpolargl\": [{\"marker\": {\"colorbar\": {\"outlinewidth\": 0, \"ticks\": \"\"}}, \"type\": \"scatterpolargl\"}], \"scatterternary\": [{\"marker\": {\"colorbar\": {\"outlinewidth\": 0, \"ticks\": \"\"}}, \"type\": \"scatterternary\"}], \"surface\": [{\"colorbar\": {\"outlinewidth\": 0, \"ticks\": \"\"}, \"colorscale\": [[0.0, \"#0d0887\"], [0.1111111111111111, \"#46039f\"], [0.2222222222222222, \"#7201a8\"], [0.3333333333333333, \"#9c179e\"], [0.4444444444444444, \"#bd3786\"], [0.5555555555555556, \"#d8576b\"], [0.6666666666666666, \"#ed7953\"], [0.7777777777777778, \"#fb9f3a\"], [0.8888888888888888, \"#fdca26\"], [1.0, \"#f0f921\"]], \"type\": \"surface\"}], \"table\": [{\"cells\": {\"fill\": {\"color\": \"#EBF0F8\"}, \"line\": {\"color\": \"white\"}}, \"header\": {\"fill\": {\"color\": \"#C8D4E3\"}, \"line\": {\"color\": \"white\"}}, \"type\": \"table\"}]}, \"layout\": {\"annotationdefaults\": {\"arrowcolor\": \"#2a3f5f\", \"arrowhead\": 0, \"arrowwidth\": 1}, \"coloraxis\": {\"colorbar\": {\"outlinewidth\": 0, \"ticks\": \"\"}}, \"colorscale\": {\"diverging\": [[0, \"#8e0152\"], [0.1, \"#c51b7d\"], [0.2, \"#de77ae\"], [0.3, \"#f1b6da\"], [0.4, \"#fde0ef\"], [0.5, \"#f7f7f7\"], [0.6, \"#e6f5d0\"], [0.7, \"#b8e186\"], [0.8, \"#7fbc41\"], [0.9, \"#4d9221\"], [1, \"#276419\"]], \"sequential\": [[0.0, \"#0d0887\"], [0.1111111111111111, \"#46039f\"], [0.2222222222222222, \"#7201a8\"], [0.3333333333333333, \"#9c179e\"], [0.4444444444444444, \"#bd3786\"], [0.5555555555555556, \"#d8576b\"], [0.6666666666666666, \"#ed7953\"], [0.7777777777777778, \"#fb9f3a\"], [0.8888888888888888, \"#fdca26\"], [1.0, \"#f0f921\"]], \"sequentialminus\": [[0.0, \"#0d0887\"], [0.1111111111111111, \"#46039f\"], [0.2222222222222222, \"#7201a8\"], [0.3333333333333333, \"#9c179e\"], [0.4444444444444444, \"#bd3786\"], [0.5555555555555556, \"#d8576b\"], [0.6666666666666666, \"#ed7953\"], [0.7777777777777778, \"#fb9f3a\"], [0.8888888888888888, \"#fdca26\"], [1.0, \"#f0f921\"]]}, \"colorway\": [\"#636efa\", \"#EF553B\", \"#00cc96\", \"#ab63fa\", \"#FFA15A\", \"#19d3f3\", \"#FF6692\", \"#B6E880\", \"#FF97FF\", \"#FECB52\"], \"font\": {\"color\": \"#2a3f5f\"}, \"geo\": {\"bgcolor\": \"white\", \"lakecolor\": \"white\", \"landcolor\": \"white\", \"showlakes\": true, \"showland\": true, \"subunitcolor\": \"#C8D4E3\"}, \"hoverlabel\": {\"align\": \"left\"}, \"hovermode\": \"closest\", \"mapbox\": {\"style\": \"light\"}, \"paper_bgcolor\": \"white\", \"plot_bgcolor\": \"white\", \"polar\": {\"angularaxis\": {\"gridcolor\": \"#EBF0F8\", \"linecolor\": \"#EBF0F8\", \"ticks\": \"\"}, \"bgcolor\": \"white\", \"radialaxis\": {\"gridcolor\": \"#EBF0F8\", \"linecolor\": \"#EBF0F8\", \"ticks\": \"\"}}, \"scene\": {\"xaxis\": {\"backgroundcolor\": \"white\", \"gridcolor\": \"#DFE8F3\", \"gridwidth\": 2, \"linecolor\": \"#EBF0F8\", \"showbackground\": true, \"ticks\": \"\", \"zerolinecolor\": \"#EBF0F8\"}, \"yaxis\": {\"backgroundcolor\": \"white\", \"gridcolor\": \"#DFE8F3\", \"gridwidth\": 2, \"linecolor\": \"#EBF0F8\", \"showbackground\": true, \"ticks\": \"\", \"zerolinecolor\": \"#EBF0F8\"}, \"zaxis\": {\"backgroundcolor\": \"white\", \"gridcolor\": \"#DFE8F3\", \"gridwidth\": 2, \"linecolor\": \"#EBF0F8\", \"showbackground\": true, \"ticks\": \"\", \"zerolinecolor\": \"#EBF0F8\"}}, \"shapedefaults\": {\"line\": {\"color\": \"#2a3f5f\"}}, \"ternary\": {\"aaxis\": {\"gridcolor\": \"#DFE8F3\", \"linecolor\": \"#A2B1C6\", \"ticks\": \"\"}, \"baxis\": {\"gridcolor\": \"#DFE8F3\", \"linecolor\": \"#A2B1C6\", \"ticks\": \"\"}, \"bgcolor\": \"white\", \"caxis\": {\"gridcolor\": \"#DFE8F3\", \"linecolor\": \"#A2B1C6\", \"ticks\": \"\"}}, \"title\": {\"x\": 0.05}, \"xaxis\": {\"automargin\": true, \"gridcolor\": \"#EBF0F8\", \"linecolor\": \"#EBF0F8\", \"ticks\": \"\", \"title\": {\"standoff\": 15}, \"zerolinecolor\": \"#EBF0F8\", \"zerolinewidth\": 2}, \"yaxis\": {\"automargin\": true, \"gridcolor\": \"#EBF0F8\", \"linecolor\": \"#EBF0F8\", \"ticks\": \"\", \"title\": {\"standoff\": 15}, \"zerolinecolor\": \"#EBF0F8\", \"zerolinewidth\": 2}}}, \"title\": {\"text\": \"Answers bigram count top 20\"}, \"xaxis\": {\"anchor\": \"y\", \"domain\": [0.0, 1.0], \"title\": {\"text\": \"word\"}}, \"yaxis\": {\"anchor\": \"x\", \"domain\": [0.0, 1.0], \"title\": {\"text\": \"count\"}}},                        {\"responsive\": true}                    ).then(function(){\n",
       "                            \n",
       "var gd = document.getElementById('8a62ae0d-e0be-4fb8-9ecd-eafd6cab62c6');\n",
       "var x = new MutationObserver(function (mutations, observer) {{\n",
       "        var display = window.getComputedStyle(gd).display;\n",
       "        if (!display || display === 'none') {{\n",
       "            console.log([gd, 'removed!']);\n",
       "            Plotly.purge(gd);\n",
       "            observer.disconnect();\n",
       "        }}\n",
       "}});\n",
       "\n",
       "// Listen for the removal of the full notebook cells\n",
       "var notebookContainer = gd.closest('#notebook-container');\n",
       "if (notebookContainer) {{\n",
       "    x.observe(notebookContainer, {childList: true});\n",
       "}}\n",
       "\n",
       "// Listen for the clearing of the current output cell\n",
       "var outputEl = gd.closest('.output');\n",
       "if (outputEl) {{\n",
       "    x.observe(outputEl, {childList: true});\n",
       "}}\n",
       "\n",
       "                        })                };                });            </script>        </div>"
      ]
     },
     "metadata": {},
     "output_type": "display_data"
    },
    {
     "name": "stdout",
     "output_type": "stream",
     "text": [
      "global protocol community greenhouse gas emissions 306.1224148331774\n",
      "protocol community greenhouse gas emissions inventories 306.1224148331774\n",
      "community greenhouse gas emissions inventories gpc 306.1224148331774\n",
      "indirect emissions use grid supplied electricity 290.77710797359\n",
      "emissions use grid supplied electricity heat 290.77710797359\n",
      "use grid supplied electricity heat steam 290.74900736881784\n",
      "grid supplied electricity heat steam cooling 290.74900736881784\n",
      "crf stationary energy industrial buildings facilities 270.0\n",
      "crf stationary energy commercial buildings facilities 269.0\n",
      "environmental protection administration executive yuan taiwan 154.54824298035706\n",
      "ipcc guidelines national greenhouse gas inventories 142.2515922062938\n",
      "2006 ipcc guidelines national greenhouse gas 141.6672652627757\n",
      "cfr stationary energy institutional buildings facilities 103.0\n",
      "emissions occurring outside city boundary result 102.68269768789874\n",
      "occurring outside city boundary result city 102.68269768789874\n",
      "outside city boundary result city activities 102.68269768789874\n",
      "gpc format city inventory reporting information 88.38834764831856\n",
      "format city inventory reporting information ciris 88.38834764831856\n",
      "community protocol accounting reporting greenhouse gas 86.20616980500422\n",
      "protocol accounting reporting greenhouse gas emissions 86.20616980500422\n",
      "accounting reporting greenhouse gas emissions iclei 85.107499892016\n",
      "scope current analysis plan include future 39.67821402515867\n",
      "unable report crf format use gpc 33.94112549695425\n",
      "report crf format use gpc format 33.94112549695425\n",
      "generation grid supplied energy electricity generation 32.07677594266436\n",
      "crf generation grid supplied energy electricity 31.148579373856453\n",
      "fator emissão advindo da planilha cálculo 24.041630560342607\n",
      "emissão advindo da planilha cálculo climas 24.041630560342607\n",
      "national greenhouse accounts factors july 2018 23.619774679554983\n",
      "australian national greenhouse accounts factors july 23.2145776275138\n"
     ]
    },
    {
     "data": {
      "application/vnd.plotly.v1+json": {
       "config": {
        "plotlyServerURL": "https://plot.ly"
       },
       "data": [
        {
         "alignmentgroup": "True",
         "hovertemplate": "word=%{x}<br>count=%{y}<extra></extra>",
         "legendgroup": "",
         "marker": {
          "color": "#636efa"
         },
         "name": "",
         "offsetgroup": "",
         "orientation": "v",
         "showlegend": false,
         "textposition": "auto",
         "type": "bar",
         "x": [
          "global protocol community greenhouse gas emissions",
          "protocol community greenhouse gas emissions inventories",
          "community greenhouse gas emissions inventories gpc",
          "indirect emissions use grid supplied electricity",
          "emissions use grid supplied electricity heat",
          "use grid supplied electricity heat steam",
          "grid supplied electricity heat steam cooling",
          "crf stationary energy industrial buildings facilities",
          "crf stationary energy commercial buildings facilities",
          "environmental protection administration executive yuan taiwan",
          "ipcc guidelines national greenhouse gas inventories",
          "2006 ipcc guidelines national greenhouse gas",
          "cfr stationary energy institutional buildings facilities",
          "emissions occurring outside city boundary result",
          "occurring outside city boundary result city",
          "outside city boundary result city activities",
          "gpc format city inventory reporting information",
          "format city inventory reporting information ciris",
          "community protocol accounting reporting greenhouse gas",
          "protocol accounting reporting greenhouse gas emissions",
          "accounting reporting greenhouse gas emissions iclei",
          "scope current analysis plan include future",
          "unable report crf format use gpc",
          "report crf format use gpc format",
          "generation grid supplied energy electricity generation",
          "crf generation grid supplied energy electricity",
          "fator emissão advindo da planilha cálculo",
          "emissão advindo da planilha cálculo climas",
          "national greenhouse accounts factors july 2018",
          "australian national greenhouse accounts factors july"
         ],
         "xaxis": "x",
         "y": [
          306.1224148331774,
          306.1224148331774,
          306.1224148331774,
          290.77710797359,
          290.77710797359,
          290.74900736881784,
          290.74900736881784,
          270,
          269,
          154.54824298035706,
          142.2515922062938,
          141.6672652627757,
          103,
          102.68269768789874,
          102.68269768789874,
          102.68269768789874,
          88.38834764831856,
          88.38834764831856,
          86.20616980500422,
          86.20616980500422,
          85.107499892016,
          39.67821402515867,
          33.94112549695425,
          33.94112549695425,
          32.07677594266436,
          31.148579373856453,
          24.041630560342607,
          24.041630560342607,
          23.619774679554983,
          23.2145776275138
         ],
         "yaxis": "y"
        }
       ],
       "layout": {
        "barmode": "relative",
        "legend": {
         "tracegroupgap": 0
        },
        "margin": {
         "t": 60
        },
        "template": {
         "data": {
          "bar": [
           {
            "error_x": {
             "color": "#2a3f5f"
            },
            "error_y": {
             "color": "#2a3f5f"
            },
            "marker": {
             "line": {
              "color": "white",
              "width": 0.5
             }
            },
            "type": "bar"
           }
          ],
          "barpolar": [
           {
            "marker": {
             "line": {
              "color": "white",
              "width": 0.5
             }
            },
            "type": "barpolar"
           }
          ],
          "carpet": [
           {
            "aaxis": {
             "endlinecolor": "#2a3f5f",
             "gridcolor": "#C8D4E3",
             "linecolor": "#C8D4E3",
             "minorgridcolor": "#C8D4E3",
             "startlinecolor": "#2a3f5f"
            },
            "baxis": {
             "endlinecolor": "#2a3f5f",
             "gridcolor": "#C8D4E3",
             "linecolor": "#C8D4E3",
             "minorgridcolor": "#C8D4E3",
             "startlinecolor": "#2a3f5f"
            },
            "type": "carpet"
           }
          ],
          "choropleth": [
           {
            "colorbar": {
             "outlinewidth": 0,
             "ticks": ""
            },
            "type": "choropleth"
           }
          ],
          "contour": [
           {
            "colorbar": {
             "outlinewidth": 0,
             "ticks": ""
            },
            "colorscale": [
             [
              0,
              "#0d0887"
             ],
             [
              0.1111111111111111,
              "#46039f"
             ],
             [
              0.2222222222222222,
              "#7201a8"
             ],
             [
              0.3333333333333333,
              "#9c179e"
             ],
             [
              0.4444444444444444,
              "#bd3786"
             ],
             [
              0.5555555555555556,
              "#d8576b"
             ],
             [
              0.6666666666666666,
              "#ed7953"
             ],
             [
              0.7777777777777778,
              "#fb9f3a"
             ],
             [
              0.8888888888888888,
              "#fdca26"
             ],
             [
              1,
              "#f0f921"
             ]
            ],
            "type": "contour"
           }
          ],
          "contourcarpet": [
           {
            "colorbar": {
             "outlinewidth": 0,
             "ticks": ""
            },
            "type": "contourcarpet"
           }
          ],
          "heatmap": [
           {
            "colorbar": {
             "outlinewidth": 0,
             "ticks": ""
            },
            "colorscale": [
             [
              0,
              "#0d0887"
             ],
             [
              0.1111111111111111,
              "#46039f"
             ],
             [
              0.2222222222222222,
              "#7201a8"
             ],
             [
              0.3333333333333333,
              "#9c179e"
             ],
             [
              0.4444444444444444,
              "#bd3786"
             ],
             [
              0.5555555555555556,
              "#d8576b"
             ],
             [
              0.6666666666666666,
              "#ed7953"
             ],
             [
              0.7777777777777778,
              "#fb9f3a"
             ],
             [
              0.8888888888888888,
              "#fdca26"
             ],
             [
              1,
              "#f0f921"
             ]
            ],
            "type": "heatmap"
           }
          ],
          "heatmapgl": [
           {
            "colorbar": {
             "outlinewidth": 0,
             "ticks": ""
            },
            "colorscale": [
             [
              0,
              "#0d0887"
             ],
             [
              0.1111111111111111,
              "#46039f"
             ],
             [
              0.2222222222222222,
              "#7201a8"
             ],
             [
              0.3333333333333333,
              "#9c179e"
             ],
             [
              0.4444444444444444,
              "#bd3786"
             ],
             [
              0.5555555555555556,
              "#d8576b"
             ],
             [
              0.6666666666666666,
              "#ed7953"
             ],
             [
              0.7777777777777778,
              "#fb9f3a"
             ],
             [
              0.8888888888888888,
              "#fdca26"
             ],
             [
              1,
              "#f0f921"
             ]
            ],
            "type": "heatmapgl"
           }
          ],
          "histogram": [
           {
            "marker": {
             "colorbar": {
              "outlinewidth": 0,
              "ticks": ""
             }
            },
            "type": "histogram"
           }
          ],
          "histogram2d": [
           {
            "colorbar": {
             "outlinewidth": 0,
             "ticks": ""
            },
            "colorscale": [
             [
              0,
              "#0d0887"
             ],
             [
              0.1111111111111111,
              "#46039f"
             ],
             [
              0.2222222222222222,
              "#7201a8"
             ],
             [
              0.3333333333333333,
              "#9c179e"
             ],
             [
              0.4444444444444444,
              "#bd3786"
             ],
             [
              0.5555555555555556,
              "#d8576b"
             ],
             [
              0.6666666666666666,
              "#ed7953"
             ],
             [
              0.7777777777777778,
              "#fb9f3a"
             ],
             [
              0.8888888888888888,
              "#fdca26"
             ],
             [
              1,
              "#f0f921"
             ]
            ],
            "type": "histogram2d"
           }
          ],
          "histogram2dcontour": [
           {
            "colorbar": {
             "outlinewidth": 0,
             "ticks": ""
            },
            "colorscale": [
             [
              0,
              "#0d0887"
             ],
             [
              0.1111111111111111,
              "#46039f"
             ],
             [
              0.2222222222222222,
              "#7201a8"
             ],
             [
              0.3333333333333333,
              "#9c179e"
             ],
             [
              0.4444444444444444,
              "#bd3786"
             ],
             [
              0.5555555555555556,
              "#d8576b"
             ],
             [
              0.6666666666666666,
              "#ed7953"
             ],
             [
              0.7777777777777778,
              "#fb9f3a"
             ],
             [
              0.8888888888888888,
              "#fdca26"
             ],
             [
              1,
              "#f0f921"
             ]
            ],
            "type": "histogram2dcontour"
           }
          ],
          "mesh3d": [
           {
            "colorbar": {
             "outlinewidth": 0,
             "ticks": ""
            },
            "type": "mesh3d"
           }
          ],
          "parcoords": [
           {
            "line": {
             "colorbar": {
              "outlinewidth": 0,
              "ticks": ""
             }
            },
            "type": "parcoords"
           }
          ],
          "pie": [
           {
            "automargin": true,
            "type": "pie"
           }
          ],
          "scatter": [
           {
            "marker": {
             "colorbar": {
              "outlinewidth": 0,
              "ticks": ""
             }
            },
            "type": "scatter"
           }
          ],
          "scatter3d": [
           {
            "line": {
             "colorbar": {
              "outlinewidth": 0,
              "ticks": ""
             }
            },
            "marker": {
             "colorbar": {
              "outlinewidth": 0,
              "ticks": ""
             }
            },
            "type": "scatter3d"
           }
          ],
          "scattercarpet": [
           {
            "marker": {
             "colorbar": {
              "outlinewidth": 0,
              "ticks": ""
             }
            },
            "type": "scattercarpet"
           }
          ],
          "scattergeo": [
           {
            "marker": {
             "colorbar": {
              "outlinewidth": 0,
              "ticks": ""
             }
            },
            "type": "scattergeo"
           }
          ],
          "scattergl": [
           {
            "marker": {
             "colorbar": {
              "outlinewidth": 0,
              "ticks": ""
             }
            },
            "type": "scattergl"
           }
          ],
          "scattermapbox": [
           {
            "marker": {
             "colorbar": {
              "outlinewidth": 0,
              "ticks": ""
             }
            },
            "type": "scattermapbox"
           }
          ],
          "scatterpolar": [
           {
            "marker": {
             "colorbar": {
              "outlinewidth": 0,
              "ticks": ""
             }
            },
            "type": "scatterpolar"
           }
          ],
          "scatterpolargl": [
           {
            "marker": {
             "colorbar": {
              "outlinewidth": 0,
              "ticks": ""
             }
            },
            "type": "scatterpolargl"
           }
          ],
          "scatterternary": [
           {
            "marker": {
             "colorbar": {
              "outlinewidth": 0,
              "ticks": ""
             }
            },
            "type": "scatterternary"
           }
          ],
          "surface": [
           {
            "colorbar": {
             "outlinewidth": 0,
             "ticks": ""
            },
            "colorscale": [
             [
              0,
              "#0d0887"
             ],
             [
              0.1111111111111111,
              "#46039f"
             ],
             [
              0.2222222222222222,
              "#7201a8"
             ],
             [
              0.3333333333333333,
              "#9c179e"
             ],
             [
              0.4444444444444444,
              "#bd3786"
             ],
             [
              0.5555555555555556,
              "#d8576b"
             ],
             [
              0.6666666666666666,
              "#ed7953"
             ],
             [
              0.7777777777777778,
              "#fb9f3a"
             ],
             [
              0.8888888888888888,
              "#fdca26"
             ],
             [
              1,
              "#f0f921"
             ]
            ],
            "type": "surface"
           }
          ],
          "table": [
           {
            "cells": {
             "fill": {
              "color": "#EBF0F8"
             },
             "line": {
              "color": "white"
             }
            },
            "header": {
             "fill": {
              "color": "#C8D4E3"
             },
             "line": {
              "color": "white"
             }
            },
            "type": "table"
           }
          ]
         },
         "layout": {
          "annotationdefaults": {
           "arrowcolor": "#2a3f5f",
           "arrowhead": 0,
           "arrowwidth": 1
          },
          "coloraxis": {
           "colorbar": {
            "outlinewidth": 0,
            "ticks": ""
           }
          },
          "colorscale": {
           "diverging": [
            [
             0,
             "#8e0152"
            ],
            [
             0.1,
             "#c51b7d"
            ],
            [
             0.2,
             "#de77ae"
            ],
            [
             0.3,
             "#f1b6da"
            ],
            [
             0.4,
             "#fde0ef"
            ],
            [
             0.5,
             "#f7f7f7"
            ],
            [
             0.6,
             "#e6f5d0"
            ],
            [
             0.7,
             "#b8e186"
            ],
            [
             0.8,
             "#7fbc41"
            ],
            [
             0.9,
             "#4d9221"
            ],
            [
             1,
             "#276419"
            ]
           ],
           "sequential": [
            [
             0,
             "#0d0887"
            ],
            [
             0.1111111111111111,
             "#46039f"
            ],
            [
             0.2222222222222222,
             "#7201a8"
            ],
            [
             0.3333333333333333,
             "#9c179e"
            ],
            [
             0.4444444444444444,
             "#bd3786"
            ],
            [
             0.5555555555555556,
             "#d8576b"
            ],
            [
             0.6666666666666666,
             "#ed7953"
            ],
            [
             0.7777777777777778,
             "#fb9f3a"
            ],
            [
             0.8888888888888888,
             "#fdca26"
            ],
            [
             1,
             "#f0f921"
            ]
           ],
           "sequentialminus": [
            [
             0,
             "#0d0887"
            ],
            [
             0.1111111111111111,
             "#46039f"
            ],
            [
             0.2222222222222222,
             "#7201a8"
            ],
            [
             0.3333333333333333,
             "#9c179e"
            ],
            [
             0.4444444444444444,
             "#bd3786"
            ],
            [
             0.5555555555555556,
             "#d8576b"
            ],
            [
             0.6666666666666666,
             "#ed7953"
            ],
            [
             0.7777777777777778,
             "#fb9f3a"
            ],
            [
             0.8888888888888888,
             "#fdca26"
            ],
            [
             1,
             "#f0f921"
            ]
           ]
          },
          "colorway": [
           "#636efa",
           "#EF553B",
           "#00cc96",
           "#ab63fa",
           "#FFA15A",
           "#19d3f3",
           "#FF6692",
           "#B6E880",
           "#FF97FF",
           "#FECB52"
          ],
          "font": {
           "color": "#2a3f5f"
          },
          "geo": {
           "bgcolor": "white",
           "lakecolor": "white",
           "landcolor": "white",
           "showlakes": true,
           "showland": true,
           "subunitcolor": "#C8D4E3"
          },
          "hoverlabel": {
           "align": "left"
          },
          "hovermode": "closest",
          "mapbox": {
           "style": "light"
          },
          "paper_bgcolor": "white",
          "plot_bgcolor": "white",
          "polar": {
           "angularaxis": {
            "gridcolor": "#EBF0F8",
            "linecolor": "#EBF0F8",
            "ticks": ""
           },
           "bgcolor": "white",
           "radialaxis": {
            "gridcolor": "#EBF0F8",
            "linecolor": "#EBF0F8",
            "ticks": ""
           }
          },
          "scene": {
           "xaxis": {
            "backgroundcolor": "white",
            "gridcolor": "#DFE8F3",
            "gridwidth": 2,
            "linecolor": "#EBF0F8",
            "showbackground": true,
            "ticks": "",
            "zerolinecolor": "#EBF0F8"
           },
           "yaxis": {
            "backgroundcolor": "white",
            "gridcolor": "#DFE8F3",
            "gridwidth": 2,
            "linecolor": "#EBF0F8",
            "showbackground": true,
            "ticks": "",
            "zerolinecolor": "#EBF0F8"
           },
           "zaxis": {
            "backgroundcolor": "white",
            "gridcolor": "#DFE8F3",
            "gridwidth": 2,
            "linecolor": "#EBF0F8",
            "showbackground": true,
            "ticks": "",
            "zerolinecolor": "#EBF0F8"
           }
          },
          "shapedefaults": {
           "line": {
            "color": "#2a3f5f"
           }
          },
          "ternary": {
           "aaxis": {
            "gridcolor": "#DFE8F3",
            "linecolor": "#A2B1C6",
            "ticks": ""
           },
           "baxis": {
            "gridcolor": "#DFE8F3",
            "linecolor": "#A2B1C6",
            "ticks": ""
           },
           "bgcolor": "white",
           "caxis": {
            "gridcolor": "#DFE8F3",
            "linecolor": "#A2B1C6",
            "ticks": ""
           }
          },
          "title": {
           "x": 0.05
          },
          "xaxis": {
           "automargin": true,
           "gridcolor": "#EBF0F8",
           "linecolor": "#EBF0F8",
           "ticks": "",
           "title": {
            "standoff": 15
           },
           "zerolinecolor": "#EBF0F8",
           "zerolinewidth": 2
          },
          "yaxis": {
           "automargin": true,
           "gridcolor": "#EBF0F8",
           "linecolor": "#EBF0F8",
           "ticks": "",
           "title": {
            "standoff": 15
           },
           "zerolinecolor": "#EBF0F8",
           "zerolinewidth": 2
          }
         }
        },
        "title": {
         "text": "Answers bigram count top 20"
        },
        "xaxis": {
         "anchor": "y",
         "domain": [
          0,
          1
         ],
         "title": {
          "text": "word"
         }
        },
        "yaxis": {
         "anchor": "x",
         "domain": [
          0,
          1
         ],
         "title": {
          "text": "count"
         }
        }
       }
      },
      "text/html": [
       "<div>                            <div id=\"3e9a311b-62ae-478e-b5b5-1814ee572bed\" class=\"plotly-graph-div\" style=\"height:525px; width:100%;\"></div>            <script type=\"text/javascript\">                require([\"plotly\"], function(Plotly) {                    window.PLOTLYENV=window.PLOTLYENV || {};                                    if (document.getElementById(\"3e9a311b-62ae-478e-b5b5-1814ee572bed\")) {                    Plotly.newPlot(                        \"3e9a311b-62ae-478e-b5b5-1814ee572bed\",                        [{\"alignmentgroup\": \"True\", \"hovertemplate\": \"word=%{x}<br>count=%{y}<extra></extra>\", \"legendgroup\": \"\", \"marker\": {\"color\": \"#636efa\"}, \"name\": \"\", \"offsetgroup\": \"\", \"orientation\": \"v\", \"showlegend\": false, \"textposition\": \"auto\", \"type\": \"bar\", \"x\": [\"global protocol community greenhouse gas emissions\", \"protocol community greenhouse gas emissions inventories\", \"community greenhouse gas emissions inventories gpc\", \"indirect emissions use grid supplied electricity\", \"emissions use grid supplied electricity heat\", \"use grid supplied electricity heat steam\", \"grid supplied electricity heat steam cooling\", \"crf stationary energy industrial buildings facilities\", \"crf stationary energy commercial buildings facilities\", \"environmental protection administration executive yuan taiwan\", \"ipcc guidelines national greenhouse gas inventories\", \"2006 ipcc guidelines national greenhouse gas\", \"cfr stationary energy institutional buildings facilities\", \"emissions occurring outside city boundary result\", \"occurring outside city boundary result city\", \"outside city boundary result city activities\", \"gpc format city inventory reporting information\", \"format city inventory reporting information ciris\", \"community protocol accounting reporting greenhouse gas\", \"protocol accounting reporting greenhouse gas emissions\", \"accounting reporting greenhouse gas emissions iclei\", \"scope current analysis plan include future\", \"unable report crf format use gpc\", \"report crf format use gpc format\", \"generation grid supplied energy electricity generation\", \"crf generation grid supplied energy electricity\", \"fator emiss\\u00e3o advindo da planilha c\\u00e1lculo\", \"emiss\\u00e3o advindo da planilha c\\u00e1lculo climas\", \"national greenhouse accounts factors july 2018\", \"australian national greenhouse accounts factors july\"], \"xaxis\": \"x\", \"y\": [306.1224148331774, 306.1224148331774, 306.1224148331774, 290.77710797359, 290.77710797359, 290.74900736881784, 290.74900736881784, 270.0, 269.0, 154.54824298035706, 142.2515922062938, 141.6672652627757, 103.0, 102.68269768789874, 102.68269768789874, 102.68269768789874, 88.38834764831856, 88.38834764831856, 86.20616980500422, 86.20616980500422, 85.107499892016, 39.67821402515867, 33.94112549695425, 33.94112549695425, 32.07677594266436, 31.148579373856453, 24.041630560342607, 24.041630560342607, 23.619774679554983, 23.2145776275138], \"yaxis\": \"y\"}],                        {\"barmode\": \"relative\", \"legend\": {\"tracegroupgap\": 0}, \"margin\": {\"t\": 60}, \"template\": {\"data\": {\"bar\": [{\"error_x\": {\"color\": \"#2a3f5f\"}, \"error_y\": {\"color\": \"#2a3f5f\"}, \"marker\": {\"line\": {\"color\": \"white\", \"width\": 0.5}}, \"type\": \"bar\"}], \"barpolar\": [{\"marker\": {\"line\": {\"color\": \"white\", \"width\": 0.5}}, \"type\": \"barpolar\"}], \"carpet\": [{\"aaxis\": {\"endlinecolor\": \"#2a3f5f\", \"gridcolor\": \"#C8D4E3\", \"linecolor\": \"#C8D4E3\", \"minorgridcolor\": \"#C8D4E3\", \"startlinecolor\": \"#2a3f5f\"}, \"baxis\": {\"endlinecolor\": \"#2a3f5f\", \"gridcolor\": \"#C8D4E3\", \"linecolor\": \"#C8D4E3\", \"minorgridcolor\": \"#C8D4E3\", \"startlinecolor\": \"#2a3f5f\"}, \"type\": \"carpet\"}], \"choropleth\": [{\"colorbar\": {\"outlinewidth\": 0, \"ticks\": \"\"}, \"type\": \"choropleth\"}], \"contour\": [{\"colorbar\": {\"outlinewidth\": 0, \"ticks\": \"\"}, \"colorscale\": [[0.0, \"#0d0887\"], [0.1111111111111111, \"#46039f\"], [0.2222222222222222, \"#7201a8\"], [0.3333333333333333, \"#9c179e\"], [0.4444444444444444, \"#bd3786\"], [0.5555555555555556, \"#d8576b\"], [0.6666666666666666, \"#ed7953\"], [0.7777777777777778, \"#fb9f3a\"], [0.8888888888888888, \"#fdca26\"], [1.0, \"#f0f921\"]], \"type\": \"contour\"}], \"contourcarpet\": [{\"colorbar\": {\"outlinewidth\": 0, \"ticks\": \"\"}, \"type\": \"contourcarpet\"}], \"heatmap\": [{\"colorbar\": {\"outlinewidth\": 0, \"ticks\": \"\"}, \"colorscale\": [[0.0, \"#0d0887\"], [0.1111111111111111, \"#46039f\"], [0.2222222222222222, \"#7201a8\"], [0.3333333333333333, \"#9c179e\"], [0.4444444444444444, \"#bd3786\"], [0.5555555555555556, \"#d8576b\"], [0.6666666666666666, \"#ed7953\"], [0.7777777777777778, \"#fb9f3a\"], [0.8888888888888888, \"#fdca26\"], [1.0, \"#f0f921\"]], \"type\": \"heatmap\"}], \"heatmapgl\": [{\"colorbar\": {\"outlinewidth\": 0, \"ticks\": \"\"}, \"colorscale\": [[0.0, \"#0d0887\"], [0.1111111111111111, \"#46039f\"], [0.2222222222222222, \"#7201a8\"], [0.3333333333333333, \"#9c179e\"], [0.4444444444444444, \"#bd3786\"], [0.5555555555555556, \"#d8576b\"], [0.6666666666666666, \"#ed7953\"], [0.7777777777777778, \"#fb9f3a\"], [0.8888888888888888, \"#fdca26\"], [1.0, \"#f0f921\"]], \"type\": \"heatmapgl\"}], \"histogram\": [{\"marker\": {\"colorbar\": {\"outlinewidth\": 0, \"ticks\": \"\"}}, \"type\": \"histogram\"}], \"histogram2d\": [{\"colorbar\": {\"outlinewidth\": 0, \"ticks\": \"\"}, \"colorscale\": [[0.0, \"#0d0887\"], [0.1111111111111111, \"#46039f\"], [0.2222222222222222, \"#7201a8\"], [0.3333333333333333, \"#9c179e\"], [0.4444444444444444, \"#bd3786\"], [0.5555555555555556, \"#d8576b\"], [0.6666666666666666, \"#ed7953\"], [0.7777777777777778, \"#fb9f3a\"], [0.8888888888888888, \"#fdca26\"], [1.0, \"#f0f921\"]], \"type\": \"histogram2d\"}], \"histogram2dcontour\": [{\"colorbar\": {\"outlinewidth\": 0, \"ticks\": \"\"}, \"colorscale\": [[0.0, \"#0d0887\"], [0.1111111111111111, \"#46039f\"], [0.2222222222222222, \"#7201a8\"], [0.3333333333333333, \"#9c179e\"], [0.4444444444444444, \"#bd3786\"], [0.5555555555555556, \"#d8576b\"], [0.6666666666666666, \"#ed7953\"], [0.7777777777777778, \"#fb9f3a\"], [0.8888888888888888, \"#fdca26\"], [1.0, \"#f0f921\"]], \"type\": \"histogram2dcontour\"}], \"mesh3d\": [{\"colorbar\": {\"outlinewidth\": 0, \"ticks\": \"\"}, \"type\": \"mesh3d\"}], \"parcoords\": [{\"line\": {\"colorbar\": {\"outlinewidth\": 0, \"ticks\": \"\"}}, \"type\": \"parcoords\"}], \"pie\": [{\"automargin\": true, \"type\": \"pie\"}], \"scatter\": [{\"marker\": {\"colorbar\": {\"outlinewidth\": 0, \"ticks\": \"\"}}, \"type\": \"scatter\"}], \"scatter3d\": [{\"line\": {\"colorbar\": {\"outlinewidth\": 0, \"ticks\": \"\"}}, \"marker\": {\"colorbar\": {\"outlinewidth\": 0, \"ticks\": \"\"}}, \"type\": \"scatter3d\"}], \"scattercarpet\": [{\"marker\": {\"colorbar\": {\"outlinewidth\": 0, \"ticks\": \"\"}}, \"type\": \"scattercarpet\"}], \"scattergeo\": [{\"marker\": {\"colorbar\": {\"outlinewidth\": 0, \"ticks\": \"\"}}, \"type\": \"scattergeo\"}], \"scattergl\": [{\"marker\": {\"colorbar\": {\"outlinewidth\": 0, \"ticks\": \"\"}}, \"type\": \"scattergl\"}], \"scattermapbox\": [{\"marker\": {\"colorbar\": {\"outlinewidth\": 0, \"ticks\": \"\"}}, \"type\": \"scattermapbox\"}], \"scatterpolar\": [{\"marker\": {\"colorbar\": {\"outlinewidth\": 0, \"ticks\": \"\"}}, \"type\": \"scatterpolar\"}], \"scatterpolargl\": [{\"marker\": {\"colorbar\": {\"outlinewidth\": 0, \"ticks\": \"\"}}, \"type\": \"scatterpolargl\"}], \"scatterternary\": [{\"marker\": {\"colorbar\": {\"outlinewidth\": 0, \"ticks\": \"\"}}, \"type\": \"scatterternary\"}], \"surface\": [{\"colorbar\": {\"outlinewidth\": 0, \"ticks\": \"\"}, \"colorscale\": [[0.0, \"#0d0887\"], [0.1111111111111111, \"#46039f\"], [0.2222222222222222, \"#7201a8\"], [0.3333333333333333, \"#9c179e\"], [0.4444444444444444, \"#bd3786\"], [0.5555555555555556, \"#d8576b\"], [0.6666666666666666, \"#ed7953\"], [0.7777777777777778, \"#fb9f3a\"], [0.8888888888888888, \"#fdca26\"], [1.0, \"#f0f921\"]], \"type\": \"surface\"}], \"table\": [{\"cells\": {\"fill\": {\"color\": \"#EBF0F8\"}, \"line\": {\"color\": \"white\"}}, \"header\": {\"fill\": {\"color\": \"#C8D4E3\"}, \"line\": {\"color\": \"white\"}}, \"type\": \"table\"}]}, \"layout\": {\"annotationdefaults\": {\"arrowcolor\": \"#2a3f5f\", \"arrowhead\": 0, \"arrowwidth\": 1}, \"coloraxis\": {\"colorbar\": {\"outlinewidth\": 0, \"ticks\": \"\"}}, \"colorscale\": {\"diverging\": [[0, \"#8e0152\"], [0.1, \"#c51b7d\"], [0.2, \"#de77ae\"], [0.3, \"#f1b6da\"], [0.4, \"#fde0ef\"], [0.5, \"#f7f7f7\"], [0.6, \"#e6f5d0\"], [0.7, \"#b8e186\"], [0.8, \"#7fbc41\"], [0.9, \"#4d9221\"], [1, \"#276419\"]], \"sequential\": [[0.0, \"#0d0887\"], [0.1111111111111111, \"#46039f\"], [0.2222222222222222, \"#7201a8\"], [0.3333333333333333, \"#9c179e\"], [0.4444444444444444, \"#bd3786\"], [0.5555555555555556, \"#d8576b\"], [0.6666666666666666, \"#ed7953\"], [0.7777777777777778, \"#fb9f3a\"], [0.8888888888888888, \"#fdca26\"], [1.0, \"#f0f921\"]], \"sequentialminus\": [[0.0, \"#0d0887\"], [0.1111111111111111, \"#46039f\"], [0.2222222222222222, \"#7201a8\"], [0.3333333333333333, \"#9c179e\"], [0.4444444444444444, \"#bd3786\"], [0.5555555555555556, \"#d8576b\"], [0.6666666666666666, \"#ed7953\"], [0.7777777777777778, \"#fb9f3a\"], [0.8888888888888888, \"#fdca26\"], [1.0, \"#f0f921\"]]}, \"colorway\": [\"#636efa\", \"#EF553B\", \"#00cc96\", \"#ab63fa\", \"#FFA15A\", \"#19d3f3\", \"#FF6692\", \"#B6E880\", \"#FF97FF\", \"#FECB52\"], \"font\": {\"color\": \"#2a3f5f\"}, \"geo\": {\"bgcolor\": \"white\", \"lakecolor\": \"white\", \"landcolor\": \"white\", \"showlakes\": true, \"showland\": true, \"subunitcolor\": \"#C8D4E3\"}, \"hoverlabel\": {\"align\": \"left\"}, \"hovermode\": \"closest\", \"mapbox\": {\"style\": \"light\"}, \"paper_bgcolor\": \"white\", \"plot_bgcolor\": \"white\", \"polar\": {\"angularaxis\": {\"gridcolor\": \"#EBF0F8\", \"linecolor\": \"#EBF0F8\", \"ticks\": \"\"}, \"bgcolor\": \"white\", \"radialaxis\": {\"gridcolor\": \"#EBF0F8\", \"linecolor\": \"#EBF0F8\", \"ticks\": \"\"}}, \"scene\": {\"xaxis\": {\"backgroundcolor\": \"white\", \"gridcolor\": \"#DFE8F3\", \"gridwidth\": 2, \"linecolor\": \"#EBF0F8\", \"showbackground\": true, \"ticks\": \"\", \"zerolinecolor\": \"#EBF0F8\"}, \"yaxis\": {\"backgroundcolor\": \"white\", \"gridcolor\": \"#DFE8F3\", \"gridwidth\": 2, \"linecolor\": \"#EBF0F8\", \"showbackground\": true, \"ticks\": \"\", \"zerolinecolor\": \"#EBF0F8\"}, \"zaxis\": {\"backgroundcolor\": \"white\", \"gridcolor\": \"#DFE8F3\", \"gridwidth\": 2, \"linecolor\": \"#EBF0F8\", \"showbackground\": true, \"ticks\": \"\", \"zerolinecolor\": \"#EBF0F8\"}}, \"shapedefaults\": {\"line\": {\"color\": \"#2a3f5f\"}}, \"ternary\": {\"aaxis\": {\"gridcolor\": \"#DFE8F3\", \"linecolor\": \"#A2B1C6\", \"ticks\": \"\"}, \"baxis\": {\"gridcolor\": \"#DFE8F3\", \"linecolor\": \"#A2B1C6\", \"ticks\": \"\"}, \"bgcolor\": \"white\", \"caxis\": {\"gridcolor\": \"#DFE8F3\", \"linecolor\": \"#A2B1C6\", \"ticks\": \"\"}}, \"title\": {\"x\": 0.05}, \"xaxis\": {\"automargin\": true, \"gridcolor\": \"#EBF0F8\", \"linecolor\": \"#EBF0F8\", \"ticks\": \"\", \"title\": {\"standoff\": 15}, \"zerolinecolor\": \"#EBF0F8\", \"zerolinewidth\": 2}, \"yaxis\": {\"automargin\": true, \"gridcolor\": \"#EBF0F8\", \"linecolor\": \"#EBF0F8\", \"ticks\": \"\", \"title\": {\"standoff\": 15}, \"zerolinecolor\": \"#EBF0F8\", \"zerolinewidth\": 2}}}, \"title\": {\"text\": \"Answers bigram count top 20\"}, \"xaxis\": {\"anchor\": \"y\", \"domain\": [0.0, 1.0], \"title\": {\"text\": \"word\"}}, \"yaxis\": {\"anchor\": \"x\", \"domain\": [0.0, 1.0], \"title\": {\"text\": \"count\"}}},                        {\"responsive\": true}                    ).then(function(){\n",
       "                            \n",
       "var gd = document.getElementById('3e9a311b-62ae-478e-b5b5-1814ee572bed');\n",
       "var x = new MutationObserver(function (mutations, observer) {{\n",
       "        var display = window.getComputedStyle(gd).display;\n",
       "        if (!display || display === 'none') {{\n",
       "            console.log([gd, 'removed!']);\n",
       "            Plotly.purge(gd);\n",
       "            observer.disconnect();\n",
       "        }}\n",
       "}});\n",
       "\n",
       "// Listen for the removal of the full notebook cells\n",
       "var notebookContainer = gd.closest('#notebook-container');\n",
       "if (notebookContainer) {{\n",
       "    x.observe(notebookContainer, {childList: true});\n",
       "}}\n",
       "\n",
       "// Listen for the clearing of the current output cell\n",
       "var outputEl = gd.closest('.output');\n",
       "if (outputEl) {{\n",
       "    x.observe(outputEl, {childList: true});\n",
       "}}\n",
       "\n",
       "                        })                };                });            </script>        </div>"
      ]
     },
     "metadata": {},
     "output_type": "display_data"
    }
   ],
   "source": [
    "cwe['Response Answer'] = cwe['Response Answer'].fillna('No Response')\n",
    "\n",
    "for i in range(1,7):\n",
    "    common_words = get_top_n_bigram(cwe['Response Answer'], 30, i)\n",
    "    for word, freq in common_words:\n",
    "        print(word, freq)\n",
    "    df2 = pd.DataFrame(common_words, columns = ['word' , 'count'])\n",
    "    fig = px.bar(df2, x='word', y='count')\n",
    "    fig.update_layout(title_text='Answers bigram count top 20', template=\"plotly_white\")\n",
    "    fig.show()"
   ]
  },
  {
   "cell_type": "code",
   "execution_count": 60,
   "metadata": {},
   "outputs": [
    {
     "data": {
      "text/plain": [
       "11.091816847586813"
      ]
     },
     "execution_count": 60,
     "metadata": {},
     "output_type": "execute_result"
    }
   ],
   "source": [
    "# Investigate crf stationary energy industrial/residential buildings\n",
    "305.2467996455891/len(select)*100"
   ]
  },
  {
   "cell_type": "markdown",
   "metadata": {},
   "source": [
    "### 'Please indicate the category that best describes the boundary of your city-wide GHG emissions inventory.'"
   ]
  },
  {
   "cell_type": "code",
   "execution_count": 57,
   "metadata": {},
   "outputs": [
    {
     "data": {
      "text/plain": [
       "array(['Question not applicable', 'No Response', 'Not applicable',\n",
       "       'Larger – covers the whole city and adjoining areas',\n",
       "       'Corporate emissions for the municipality',\n",
       "       'Same – covers entire city and nothing else',\n",
       "       '-Los sumideros como parques y jardines.-Áreas verdes de malecones.',\n",
       "       'La Huella de Carbono del cantón de Loja fue de 423.878 ton CO2e para el año 2015, equivalente al CO2 que absorben 1.412.926 árboles en un periodo de 10 años . Los sectores con mayor aporte a la HC de Loja son el de transporte (67%), seguido del sector de residencial (16%) y residuos (9%). Finalmente los sectores comercial/industrial (5%), e industrial (3%) sumados aportan cerca al 8% del total de la Huella.',\n",
       "       'The administrative boundary of the Greater London Authority, which encompasses the 33 local authorities in London',\n",
       "       'não se aplica',\n",
       "       'The GHGEI excludes scope 3 emissions (particularly AFOLU and Industrial Processes and Product Use )',\n",
       "       'El inventario fue desarrollado para cubrir las áreas urbanas de Ciudad Victoria; sin embargo, presenta datos de los asentamientos que rodean la ciudad.',\n",
       "       'Se excluyó el sector IPPU.  El alcance 3 del sector energía estacionaria y transporte no fue estimado.  Para el subsector Aviación el alcance 2 no ocurre en el límite del inventario.  Los subsectores de residuos: tratamiento biológico e incineración no se estimaron, tampoco el alcance 3 de aguas residuales.  En AFOLU, solo el alcance 1 de ganadería y fuentes agregadas fue estimado.',\n",
       "       'La evaluación abarca todo el Cantón y de acuerdo a los lineamientos del GPC, los sectores definidos dentro de los límites son:  transporte dentro del Cantón, eléctrico y manejo de residuos.',\n",
       "       'The geographical boundary that we use is the administrative boundary of the municipality of Rotterdam. This area includes the port of Rotterdam which contains a large amount of industrial activities and power plants.',\n",
       "       'Partial – covers part of the city and adjoining areas',\n",
       "       'Scope of activities for Climate Change Adaptation and Mitigation(Greenhouse Gas Inventory) Bogor Regency in 2019 asfollowing:1. Inventory of GHG emission sources in Bogor Regency for the sectorlivestock and agriculture, industry, energy and transportation as wellwaste;2. Estimates of GHG emissions and removals using data for 2014–2018',\n",
       "       'Boundary of inventory is the same as the city boundary.',\n",
       "       'The population of the city for the year 2019 (accounting year of the inventory) was 15,519,267 people.',\n",
       "       'El inventario se realizo para la zona metropolitana, Silao, San francisco, Purisima y León.',\n",
       "       'Aspen tracks and reports community-wide emissions within its Emissions Inventory Boundary (EIB), which includes areas that lie outside of City limits. The geographic boundary of the City of Aspen is situated within its Urban Growth Boundary (UGB). In addition to what lies within the geographic boundary, the UGB also includes the Mountain Valley, Red Mountain, North 40, West Buttermilk, and Tiehack residential areas as well as the Aspen School District campus, Aspen-Pitkin County Airport, and the Aspen Airport Business Center. The EIB covers nearly the same area of the UGB, but also includes the Starwood and White Horse Springs areas of the McLain Flats residential area. The EIB also extends beyond the UGB to include the electricity used to run the ski lifts and facilities on Aspen Mountain, Aspen Highlands, and Buttermilk ski areas because the base facilities and many lift stations are within the EIB.',\n",
       "       'Covers the Entire Region of Durham',\n",
       "       'The City only has access to Xcel Energy data.',\n",
       "       'Smaller – covers only part of the city',\n",
       "       'Waterborne, incineration, and biological waste', 'no hay',\n",
       "       'CO2 from energy is from local sources, but we also include electricity that is consumed within the municipality but not produced here (meaning: we are not self-depending on electricity). CO2 from transports is based upon all fuels delivered to users in the municipality, and/or fuelled within the borders, no matter where the fuel is actually used. this means, vehicles that are fuelled here, but used in other municipalities are still calculated as part of our emissions. The same goes for all jetfuel fuelled at the local Airport. The emissions are geography-based, not calculated from a consumption perspective.',\n",
       "       'Does not include fugitive emissions (major sources of fugitive emissions such as natural gas lines and air conditioning systems are rare in York). No direct measure of agriculture emissions/sequestration taken.',\n",
       "       'GHG boundary of New Taipei City is the same inventory boundary of city.',\n",
       "       'Due to the geographical location of the City and County of Honolulu, aviation is the only source of emissions that needed to be scaled to differentiate emissions accounted for by residents and the tourism sector. Therefore, aviation fuels were scaled down to account for resident aviation emissions.',\n",
       "       'We used GPC Basic reporting level and add IPCC emissions from industrial sources',\n",
       "       'El inventario no incluye al sector industrial',\n",
       "       'O limite dos estudos foram aqueles iguais aos limites geográficos dos Municípios integrantes da Região Metropolitana da Grande Vitória, na qual o Município está inserido, tando o tecido urbano como as zonas naturais de preservação permanente.',\n",
       "       'El límite del inventario abarca al Municipio de Vitoria-Gasteiz, compuesto por la zona urbana (ciudad) y y el resto del territorio adyacente, constituido por 61 entidades locales menores (ELM), según se ha descrito en el apartado 01',\n",
       "       'Rapport des émissions ; Documents de planification.',\n",
       "       \"The boundary for Clay Township was used to obtain community inventory data. This was done  to be able to compare data between years since Carmel has annexed a multitude of regions in past years. However, now Carmel and Clay Township share the exact same boundaries. The region annexed between 2015 and 2018 does not meet the five percent significance threshold. The GDP of Carmel/Clay Township population in 2018 was 93,510.  The closest estimate for Carmel's GDP is $8.1 billion.\",\n",
       "       'There are excluded sources that are just not applicable to the GHG emissions inventory given the type of services and industry in the city, such as waterborne, incineration, and biological waste. The inventory is based on county level data because that is what is primarily available. A city boundary inventory will be generated by applying census data.',\n",
       "       'O limite do inventário é o limite geográfico do município de Sorocaba. No inventário de GEE de Sorocaba, foi adotado o nível de reporte BASIC, que engloba as emissões comuns a praticamente todas as cidades: Energia Estacionária (escopo 1 e 2), Transporte dentro dos limites da cidade (escopo 1 e 2), Resíduos gerados dentro dos limites da cidade (escopo 1), Tratamento de resíduos enviados para outras cidades (escopo 3)',\n",
       "       'Los inventarios cubren los 14 municipios que integran nuestra intermunicipalidad.',\n",
       "       'O limite do inventário é igual ao território municipal',\n",
       "       'Unknown', \"it's the same\",\n",
       "       'The boundary includes SFO and other San Francisco municipal holdings.',\n",
       "       'none',\n",
       "       'Se establece solo el limite urbano determinado por las adecuadas condiciones geomorfologicas  para el crecimiento poblaciónal.',\n",
       "       'Coincide con el límite administrativo de la ciudad.',\n",
       "       'The inventory boundaries are intended to match city boundaries.',\n",
       "       'Uso de productos. Se desestiman por su baja aplicabilidad en la localidad otros sectores. A saber: combustibles sólidos fuera del sector residencial, las emisiones generadas por el compostaje domiciliario que pueda ser llevado adelante como iniciativa particular y la incineración de residuos peligrosos. Se utiliza para el cálculo de emisiones de transporte el método de la venta de combustible.',\n",
       "       'Região Metropolitana da Grande Vitória.',\n",
       "       'It covers the whole city and adjoining areas, forming the agglomeration of Montréal.',\n",
       "       'Areas not included:- port- highway- airport- heavy industry',\n",
       "       'The inventory boundary is city limits as required by GPC. Scope 3 emissions from landfills (PBREP) and the wastewater treatment plant  (SCRWWTP) are counted. Both are located outside of city limits.',\n",
       "       'Población total: 371,457 (2015)',\n",
       "       'Fuentes Excluidas: Sector Procesos Industriales y Uso de Productos',\n",
       "       'transport',\n",
       "       'No se excluyó ninguna superficie del territorio  municipal y considera las categorías más relevantes a nivel local, que son energía, agropecuario y desechos.',\n",
       "       'For the consumption portion of the GHG emissions inventory, the City estimates emissions that occur outside of city limits due to demand for goods and services within Oakland.  The consumption emissions approach provides a more thorough portrayal of the emissions for which the community is responsible and holds the potential to inspire deeper emissions reductions.',\n",
       "       'El limite del inventarios es el Municipio de Murcia, que incluye a la ciudad de Murcia y a sus  52 barrios (pedanías) que es donde el gobierno municipal tiene competencias.La población del Municipio de Murcia en 2019 fue de 453.258 habitantes. Desde 2007, año en el que se realizó el primer inventario de emisiones, la población del Municipio de Murcia se ha incrementado un 7,2% (422.861 habitantes en 2007).En cuanto al PIB per cápita en 2019 fue de 21.853€ euros.',\n",
       "       'For most purposes the Ashland climate plan covers existing City Limits. Certain actions identified in our plan extend to the Urban Growth Boundary and adjacent watershed forest lands.',\n",
       "       'Kuala Lumpur city boundary',\n",
       "       'Não foram coletados dados de processo industrial e uso de produtos (IPPU). Também não foram coletados dados referentes ao setor de agricultura, floresta e uso do solo (AFOLU). Para os dados referentes ao setor de transporte foram considerados apenas os volumes de combustíveis comercializados no município. Emissões biogênicas não foram quantificadas.',\n",
       "       'Inventory has also attempted to touch other areas with the aim of showing other activities being done that can harm  the City of Dar es Salaam due to the harmfully products emitted in the air',\n",
       "       'No aplica',\n",
       "       'Emisiones generadas por la fuga de gases refrigerantes y agentes supresores de fuego,Emisiones directas por fugas de SF6,Emisiones directas por fugas de NF3, Emisiones por incineración de residuos, Emisiones directas en procesos industriales,Emisiones por cambio y uso de suelo,Emisiones por la producción de cemento y Clinker,Emisiones por industria ladrillera, Emisiones por transporte ferroviario y acuático,Emisiones fugitivas por distribución y manejo de derivados de petróleo y gas.',\n",
       "       'Does not include Scope 3 emissions.',\n",
       "       '- Fuel use of industrial facilities that are part of the ETS- Electricity consumption of industry- Emissions from treatment of industrial waste- Drive-through traffic of lorries, vans and busses.- Emissions from industrial processes- LULUCF',\n",
       "       'AFOLU emissions considered negligible within VancouverIPPU emissions included within Scope 1/2 buildings/transportation estimates and cannot be disaggregated due to lack of source-data availabilityInsufficient data currently available for Scope 3 compilation',\n",
       "       'Las áreas que comprende la Huella de carbono son referentes a energía, combustibles, calefacción',\n",
       "       'Excluded AFOLU, IPPU, Other Scope 3.',\n",
       "       'Community - Transportation',\n",
       "       'University of California, Berkeley; The Berkeley Lab',\n",
       "       'The inventory was developed to cover the urban areas of Hermosillo; however, it features data for the settlements which surround the city and municipal land.',\n",
       "       'Excludes Scope 3 emissions', 'Nothing.',\n",
       "       'O limite do inventário se limita a área urbana.',\n",
       "       'Se contempla para la ciudad de Pereira y las otras dos que hacen parte del Área Metropolitana Centro Occidente (AMCO), es decir Dosquebradas y La Virginia',\n",
       "       'The City of Peterborough official city-limits.',\n",
       "       'Falköping is such a small municipality so we have only data for the whole municipality, not only for the \"city\".',\n",
       "       'Parte del cerro San Cristobal que se encuentra dentro de la comuna, ya que está gestionado por el Parque Metropolitano. También se excluyen  cualquier tipo de actividad, edificio o construcciones que no sean administrados por la Municipalidad',\n",
       "       'Para la elaboración del Programa de Gestión para Mejorar la Calidad del Aire del Estado de Baja California Sur, se tomó la determinación de aplicarlo a escala estatal debido a que no se contaba con un instrumento de gestión que abarcara dicha área',\n",
       "       'Includes all of Durham county', 'No hay',\n",
       "       'We have selected the City proper for our GHG calculation.',\n",
       "       'Same as the city boundary.',\n",
       "       'Sources and areas included were selected based on data availability and limitations',\n",
       "       'Emissions associated with bunkering activities are excluded.',\n",
       "       'Coincide con el límite administrativo del municipio',\n",
       "       'New Taipei City doesn’t excluded sources / areas.',\n",
       "       'Virginia Tech is a State University and while their campus lies within the boundaries of the Town of Blacksburg it is managed completely separately by the State of Virginia and we have no control over their budgets or policy making.',\n",
       "       'Buildings, municipality services', 'Son iguales.',\n",
       "       'O inventário de referência de Torres Vedras avaliou um total de 7 setores de atividade:Agricultura e pescas; Indústria;Produção de eletricidade;Construção e obras públicas;Transportes;Doméstico;Comércio e Serviços.Para todos os setores de atividade foi efetuado um levantamento do consumo de energia (e evolução), incluindo gás natural e  combustíveis, bem como ainda o levantamento de emissões de GEE por setor de atividade.',\n",
       "       \"The Durham ghg inventory includes all of Durham County, which includes the City of Durham.  The City's population was 271,616 and the County (including the city) was 315,228.\",\n",
       "       'The city boundary and inventory boundary are the same.', 'None',\n",
       "       'The City of Berkeley inventory excludes University of California, Berkeley and the Berkeley Lab campuses, as the City does not have jurisdiction over these campuses and these organizations manage their own greenhouse gas inventories.',\n",
       "       'edificios residenciales y privados.', 'Not Applicable',\n",
       "       '- Emissões geradas pela fuga de gases pelo consumo de refrigerantes e agentes supressores de fogo. Motivo: Falta de informação suficiente para estimar a quantidade desses gases;- Emissões por mudança e uso do solo. Motivo: Este tipo de atividade na área de estudo não é significativo; - Emissões por uso de combustíveis para a geração de energia elétrica. Motivo: São excluídas para evitar a realização de dupla contabilidade das emissões provindas de outras fontes.',\n",
       "       'The latest inventory include all sources of emissions depends on the availability of data. The inventory included stationary energy, transportation, waste, IPPU and AFOLU according to the GPC protocol',\n",
       "       'Not applicable question.',\n",
       "       'No aplica, ya que en este caso se selecciono el límite total  del  distrito (ciudad).',\n",
       "       'Industria de EnergíaAgricultura, Forestaría y Actividades de PescaFuentes No-EspecificadasEmisiones fugitivas provenientes de la minería, procesamiento, almacenamiento y transporte de carbón mineral.Emisiones fugitivas de sistemas de petróleo y gas naturalTransporteFerroviarioPluvialAviaciónCarreteras no pavimentadas',\n",
       "       'CO2, CH4 and N2O emissions from industrial processes are not occurring. Emissions from LULUCF are periodically calculated.',\n",
       "       'For the Inventory of the municipality of Salvador, the following scopes were considered:• Scope 1: GHG emissions from sources located within the limits of the municipality of Salvador;• Scope 2: GHG emissions that occur as a result of the use of electricity supplied by the national grid within the limits of the municipality of Salvador; and• Scope 3: GHG emissions that occur outside the city limits as a result of activities that occur within the city limits of Salvador.',\n",
       "       'Se requiere un apoyo o programa de gobierno que financie, capacite y genere insumos para el inventario y estandarice ciertos parámetros a nivel nacional.',\n",
       "       'Industrial Forested area under Perhutani is being excluded, Forested area in the community villages is also excluded since Banyuwangi City authority does not have control over this community forested areas and this is inline with ISO14064 GHG Inventory Calculation',\n",
       "       'Energi- og CO2-regnskabet from sparenergi.dk',\n",
       "       'Uso de Suelo y Cambio de Uso de Suelo',\n",
       "       'Covers the whole municipality = the city and the conuntryside',\n",
       "       'The geographic boundary is the same in both cases.', 'Industria',\n",
       "       \"The inventory boundary uses the local authority's boundary.\",\n",
       "       'Geographic boundaries of the county, including all municipalities within the county boundary.',\n",
       "       'Processos industriais e uso de produtos e Agricultura, silvicultura e uso do solo não possuem um impacto significativo para ser considerado no inventário. As emissões por uso de combustíveis para geração de energia elétrica também não serão contabilizados para evitar dupla contabilidade, uma vez que já estão incluídas na venda de combustíveis.',\n",
       "       'City-wide GHG emissions inventory covers administrative area of Riga City.  Sources of information:Riga Energy Agency',\n",
       "       'Depuis janvier 2016, le Projet « Cocody, cité Verte, puits de carbones » est lancé par la Mairie de Cocody avec l’appui de la Banque Mondiale et du Ministère de l’Environnement et du Développement Durable. Afin d’alimenter l’Étude d’Orientation de la Planification Énergie et Climat de la commune, prévue dans le cadre de ce projet, un rapport de diagnostic, remis en juillet 2017 par COPADEN, a permis d’évaluer les émissions de Gaz à Effet de Serre (GES) émis sur le territoire communal de Cocody et les villes environnantes du District d’ABIDJAN sur l’année de référence 2016. Ce diagnostic présente une photographie de la situation des émissions de GES sur le territoire de la commune de Cocody et les villes environnantes du District d’ABIDJAN en 2017 et 2018. L’étude porte sur le territoire de la Commune de Cocody voir  CARTE.Toutefois, du fait de l’interaction de ce territoire avec les autres communes du District d’Abidjan ainsi qu’avec le reste de la Côte d’Ivoire (flux vers Yamoussoukro, Bouaké et vers Korhogo…), l’étude devra porter, quand de nécessaire, sur l’ensemble de la Côte d’Ivoire.En posant les bases nécessaires à des simulations de projections à horizon2030, son but est d’ouvrir la voie à un travail complémentaire sur l’établissement de scénarii bas-carbone à horizon 2030. Cette analyse, présentée dans le présent rapport, doit ajouter une dimension temporelle à la « photographie » de 2017 puis ensuite de 2018 enfin d’évaluer l’évolution des émissions de GES sur les deux (2) ans pour ensuite mettre en perspective les résultats à l’horizon 2030 et, ainsi, aider à la formulation de recommandations stratégiques pour appuyer la définition d’un scénario bas-carbone ambitieux pour la réduction des émissions de la commune sur le moyen-long terme.',\n",
       "       \"The boundary goal is Bloomington's city limits. For some sectors, data was only available at the county level or acquired by zip code.  Some of these zip code areas extend beyond the city limits and into Monroe County, and, therefore, extend the inventory boundary beyond what is intended. Scaling calculations have been used to help correct for this, and so the final estimates should reflect the city boundary.\",\n",
       "       'It covers the whole municipality, not only the city area (as reported in 0.1).',\n",
       "       'large emitters, other fuels, andairline travel emissions were removed from the inventorydue to the limited opportunity to be easily impacted ordirectly influenced through traditional community climateaction strategies. (Large emitters are facilities that emitmore than 25,000 MTCO2e per year; these facilities reportto the EPA’s Greenhouse Gas Reporting Program3.)',\n",
       "       \"The inventory includes city-owned buildings and operations that occur outside of the city's geographical boundary, but are directly related to City operations. For example, the municipal airport and maintained closed landfill are outside of Ann Arbor, but are treated as such due to the level of influence the City has on these facilities.\",\n",
       "       'Todo o limite  geográfico do município que é em sua maior parte urbano. O PIB per capita de Serra Talhada é de  14.899,75 R$/hab (IBGE, 2016) e a população é de 86350 (IBGE, 2019).',\n",
       "       'IPUU',\n",
       "       'Data shows only emissions occurring in Falköping municipality, not emissions citizens or companies are responsible for outside the municipality boundary.',\n",
       "       'Os limite do inventário e do município são os mesmos',\n",
       "       'Administrative boundary of a local government', 'No difference',\n",
       "       'Covers the area of the municipality', 'nil',\n",
       "       'abrange a Ilha de Santa Catarina e a porção continental do Município',\n",
       "       'District wide reporting follows the Global Protocol for Community-Scale Greenhouse Gas Emission Inventories.. The inventory reports BASIC+ emission sources. The  results have been provided to the Global Covenant through the carbonn reporting tool using the CIRIS tool.',\n",
       "       'Industrial processes and product use, AFOLU',\n",
       "       \"All of Birmingham included. Birmingham airport not included as it is within Solihull's administrative boundary.\",\n",
       "       'Coincide con el límite administrativo del municipio.',\n",
       "       'Não foi excluída nenhuma área pois foram considerados todos os municípios da RMC.',\n",
       "       'Disposição de resíduos industriais, disposição de resíduos de saúde, tratamento de efluentes industriais, plantio de mudas, supressão de vegetação nativa, uso de gases refrigerantes, parafinas e lubrificantes em indústrias.',\n",
       "       'Para el inventario se usan los límites del departamento de Montevideo,  que  incluye a la ciudad de Montevideo y también áreas rurales del departamento.',\n",
       "       'It includes all major GHG emissions from Dane County (exact boundaries) but it also includes all of the major upstream emissions resulting from energy use, including all imported electricity.',\n",
       "       'rural',\n",
       "       'Se realizo el inventario de emisiones de GEI del area delimitada como Destino Turistico Sostenible',\n",
       "       'O Inventário foi realizado para a totalidade do limite geográfico do município de Torres Vedras.',\n",
       "       'O inventário de Niterói de 2015 tem classificação Basic (setores de transporte, resíduos e energia estacionária), conforme a metodologia GPC. Em termos de escopo do inventário, foram contemplados o escopo 1, 2 e 3 da metodologia.',\n",
       "       'The inventory boundary is not different from the city',\n",
       "       'Energie, transport, industrie, déchets ,  LULUCF, agriculture',\n",
       "       'Los límites del inventario incluyen para todo el límite territorial del cantón, es decir, las 44,6 km2 territorio y una población de 339581 habitantes.',\n",
       "       '2 unitaries of Thurrock and Southend-on-sea.',\n",
       "       'abrange todo o Município',\n",
       "       'The GHG emission inventory includes all emission sources in the boundary of the Bærum commune.',\n",
       "       'No se excluye ninguna.', 'Não tem.', 'Nenhuma observação',\n",
       "       'The boundary included  Kampala Capital City',\n",
       "       'The agriculture sector and forestry cover in NYC are small and the GHG emissions impacts from these sources are considered to be de minimis.',\n",
       "       'It covers production of district heating in the neighbouring municipalities that is used within the city. The energy utility behind the CHP-facility is owned to 80 % by the City of Lund. We are connected to a large district heating network covering 5 municipalities. Other parts of the inventory covers the entire city and nothing else.The GDP and the population covers the entire city and nothing else.',\n",
       "       'The GHG accounting protocol employed by the City of Copenhagen allows for local renewable energy production owned and operated by the municipality (through ownership of the local utility) to be included in the total (net) GHG account. The GHG account for Copenhagen therefore covers the entire city, while also including the mitigation effect of these installations.',\n",
       "       'The EIB has been used since 2004 under the rationale that this geographic area represents Aspen’s core functionality and is a part of Aspen’s foundational economy. Aspen population within the EIB is 9,003, but within City limits the population is only 6,879. Hence, a significant portion of the population that influences and contributes to Aspen economy lives outside of City limits, but within the EIB. In 2004, Aspen’s first greenhouse gas emissions inventory year, stakeholders determined that the Aspen community should take responsibility for emissions occurring within the EIB. The extended boundary approach ensures that Aspen measures, reports, and attempts to reduce emissions in all areas that see emission-producing activity directly due to the City’s influence.',\n",
       "       'O limite determinado deve-se ao grau do acesso ao dados e do controlo dos dados. O limite para o inventário de GEE de 2019 é a jurisdição da cidade do Município de Braga. A cidade ocupa uma área de 184,5 km2 quadrados e tem cerca de  190mil habitantes.A região de Braga tem uma das maiores e mais diversificadas economias de Portugal da Europa sendo um centro administrativo e lar de muitas sedes corporativas importantes, serviços e industrias, contribuindo significativamente para a economia da País.Em termos de transportes, existe uma estação e comboio com relevo nacional  perfazendo 15,5km de extensão de rede dentro dos limites do Município. O Aeroporto mais próximo da cidade está afastado 50km dos limites da cidade o que não se considerou como emissão direta ou indireta por esta atividade. O inventário apresentado cobre todos os setores e subsetores de emissão exigidos do nível Básico de GPC. O inventário inclui as emissões dos setores de Processo Industrial e Uso do Produto (IPPU) e Agricultura, Silvicultura e Outros Usos do Solo (AFOLU) mas, devido às limitações de dados, as emissões de escopo 3 ainda necessitam de melhor nível de confiança conforme descrito nas diretrizes para inventários de nível GPC Basic +. A dificuldade em obter dados de atividade torna este âmbito especialmente difícil. Em futuros inventários de emissões, a cidade considerará expandir o inventário de emissões para incluir escopo 3 se as informações beneficiarem significativamente os esforços de planeamento e implementação de ações climáticas',\n",
       "       'Emissions from residential, commercial / corporate buildings, manufacturing industryand construction, energy industry and agricultural activities have been calculated in thestationary sources. Emissions from roads, railways, waterways and airways have beencalculated in the transportation sector. Emissions from solid waste disposal (landfill),biological treatment of waste (composting) and wastewater treatment / discharge havebeen calculated within the scope of the waste sector. Emissions from cement, lime andglass sectors have been calculated within the scope of industrial processes and productuse. Lastly, emissions from fertilizer use, fertilizer management and enteric fermentationhave been mainly calculated in the scope of agriculture and livestock sector. Details of inventory is presented in the CCAP.Denizli is a city which is continuing to expand. The fact that province’s population willreach to 1.1 million, which was 1 million in 2016, is present in the reports of TurkStat. In thatreport, it is anticipated that the population of the province would reach to 1.2 million in2030. Significant increase is being expected in between 2016 – 2030 in the parametersrelevant to greenhouse gas emission as industrial production, vehicle ownership andstock of buildings being in the first place. As per the modeling performed in the study, the emissions of Denizli for the year 2030 has been anticipated as 11.9 million tons ofCO2e. In the same year, the emissions per person are being expected to be 10.1 tonsof CO2e. A reduction target of 21% has been set for 2030. According to that, it is beinganticipated to decrease the emissions per person in 2030 in Denizli to 8.0 tons of CO2e,and to have the total emissions remain as 9.5 million tons of CO2e.Total emissions of Denizli and the emissions per person of Denizli are estimated toincrease. In case of attaining the goal, it is being expected for Denizli’s emissions perperson to increase by 7%, while its total emissions would increase by 26% compared to2016. Attaining this goal will be one of the significant means of making the growth of Denizli sustainable.',\n",
       "       'non', '0',\n",
       "       'The community inventory  follows the GPC and covers Stationary Energy, Transportation, and Waste. The City selected the \"BASIC\" reporting level and did not include  Industrial Processes and Product Use (IPPU) nor Agriculture, Forestry, and Fishing  Activities (AFOLU).',\n",
       "       'GPC Basic+ (scope 1 direct, scope 2 indirect, and scope 3 other indirect)',\n",
       "       'For the inventory of Greenhouse Gas Emissions of Guatemala City, all activities carried out within the limits of the municipality were considered only, agglomerated and characterized within the following sectors: Stationary energy, transportation and waste.',\n",
       "       'Nenhuma', 'Área urbana y rural',\n",
       "       'Only buildings/lights/fleet that are under the jurisdiction of the municipality are included.',\n",
       "       'Industry Zones',\n",
       "       'The Denizli Greenhouse Gas Inventory has been prepared in accordance with Global Protocol for Local GHG Emissions (GPC) which was prepared in 2014 by C40 Cities Climate Leadership Group (C40), the International Council of Local Environmental Initiatives (ICLEI) and the World Resources Institute (WRI) and which is widely used by local governments.The GPC was prepared on the basis of the IPCC National Greenhouse Gas Inventory Guidelines developed by the Intergovernmental Panel on Climate Change (IPCC) in 2006 and updated periodically. In this way, the results described in the following chapters are intended to be comparable and acceptable on a glob al scale.The inventory prepared at the urban scale includes all the emission sources within the realm of authority of Denizli Metropolitan Municipality. The authority of Denizli Metropolitan Municipality covers the provincial boundaries of the province .The inventory content is based on the classification of emission sources set by GPC. When preparing inventory in the framework of GPC, the scope of the inventory was determined depending on the detail, accuracy and reliability of the available data. GPC evaluates greenhouse gas emissions in 3 scopes; Scope 1 - Direct Emissions, Scope 2 - Indirect Emissions and Scope 3 - Indirect (Consumption Based) Emissions. During the preparation of the inventory, all emission sources within the realm of authority of the municipality were scanned and the maximum amount of data was tried to be reached. The emissions under Scope 3 were not included in the inventory due to the fact that it is ver y difficult to reach related data . According to the results of the GPC approach, the total greenhouse gas emissions of Denizli province for the year 2016 were estimated to be 7.5 million tons of CO2e. This amount refers to 7.5 tons of CO2e per capita, which is proportional to the population of Denizli in the same year (1.005.687) and this number is higher than Turkey’s 2016 average calculated as 7.5 tons of CO2e per capita. Total emissions of Denizli in Turkey’s total emissions in 2016 constitute 1.5%.',\n",
       "       'We have worked as part of the Zero Cities Project in the creation of a community-wide inventory. The inventory that has been created includes only building energy use in the single-family, multifamily, and commercial building sectors. The inventory does not include industrial or transportation. The project goal is to develop and implement policies to achieve a zero net carbon building stock. We are currently in the process of filling in the gaps of our inventory such as transportation and Industrial.In addition to the Zero Cities Project inventory, the City partnered with Non-Profit Organizations such as the US Green Building Council West Michigan Chapter (USGBC-WM) to estimate the energy consumption and GHG inventories for all the buildings across the city of Grand Rapids. For calendar year 2019 USGBC-WM has established our community-wide GHG inventory at 2.1 million metric tons (MT) CO2e per year. 1.73 million MT CO2e came from building energy use, 4.2 thousand MT CO2e came from water use, and 460 thousand MT CO2e came from transportation. This inventory was developed through the use of Urban Footprint.',\n",
       "       \"This inventory excludes the upstream emissions of the goods consumed in Hayward. Food and water are also excluded from Hayward's inventory.\",\n",
       "       \"The accounts include the direct, physical emissions that occur within the municipality's geographical boundary. This means that the greenhouse gas emissions from the exhaust pipe to a diesel car will be included under the road traffic sector, but only the emissions that occur while the car is driving within the municipality's geographical boundary. Emissions in connection with the production of the car at various factories will be located in the sector 'industry, oil and gas' in the municipalities where the factories are geographically located. Emissions that physically occur abroad will not be included in the municipally distributed accounts.\",\n",
       "       'Inventory does not include emissions from aircraft taking off and landing at Northeast Philadelphia Airport or Philadelphia International Airport (partially within city boundaries). Airport ground operations are fully accounted for.',\n",
       "       'Foram excluídas todas as fontes de emissão de gases com efeito estufa ou o consumo de bens e serviços que originam gases com efeito estufa fora dos limites do território que corresponde ao Município de Braga. Para a quantificação das emissões de gases com efeito estufa do Município de Braga foram considerados os limites administrativos do conselho de Braga, as emissões gerados dentro deste limite e os bens e serviços que permite a emissão dentro destes limites.',\n",
       "       'Includes landfills outside the city limits where trash generated within the boundaries of the city are landfilled.',\n",
       "       \"The 2005, 2015, 2016 , 2017, and 2018 City and County of Honolulu Greenhouse Gas Inventory's encompass all sources of GHG emissions within the County's jurisdiction. These emissions primarily stem from the transportation and buildings sectors within the City and County of Honolulu which encompasses the entire island of O'ahu. For the Transportation sector, we only include domestic and international aviation and shipping with destinations and origination on the island of O'ahu.\",\n",
       "       'O limite do inventário é o limite territorial do município',\n",
       "       'Departments, entities or companies over which operational control is exercised',\n",
       "       'The boundaries are defined by the SECAP model approved.',\n",
       "       'The area covered by the inventory is the Dunedin City Territorial Authority area',\n",
       "       'None.',\n",
       "       'The boundary is based on the Geo-Political Boundaries of the city including all of its population.',\n",
       "       'unknwon',\n",
       "       'It should be noted that the City underwent a boundary adjustment in July 2016 which meant the City area expanded from 8.1km2 to 20.01km2. Population increased at that time.',\n",
       "       'Adjoining areas are all included in the neighbouring municipalities inventory.',\n",
       "       'Engloba otras categorías que se presenten fuera de la ciudad, como agricultura y silvicultura.',\n",
       "       'Uso de productos. Por su baja aplicabilidad en la localidad otros sectores se desestiman: combustibles sólidos fuera del sector residencial, las emisiones generadas por el compostaje domiciliario que pueda ser llevado adelante como iniciativa particular y la incineración de residuos peligrosos. Para el cálculo de emisiones de transporte se utiliza el método de la venta de combustible.',\n",
       "       'Two boundaries are in place for GhG inventory; 1- Kisumu County as an Institution ( looking at emissions from the county government assets  and operations) 2- Kisumu County as a territory ( covering all sources of emissions from activity taking place within Kisumu County )',\n",
       "       'Nil',\n",
       "       'EN EL INVENTARIO DE GEI A NIVEL DISTRITAL DEL AÑO 2017  SE EXCLUYÓ LAS EMISIONES DE GEI GENERADO POR TRANSPORTE, DEBIDO A QUE DICHO INVENTARIO NO ASEGURARÍA QUE SE CONTABILIZARA MÁS DE UNA VEZ A LAS FUENTES DE EMISIÓN, YA QUE LAS EMISIONES PUEDEN GENERARSE Y SER CONSECUENCIA DE LAS ACTIVIDADES DENTRO DE LOS LÍMITES DEL DISTRITO. POR ELLO SE RECOMIENDA REALIZAR ESTAS MEDICIONES POR PARTE DEL GOBIERNO PROVINCIAL;  EL PBI DEL DISTRITO DE MAGDALENA DEL MAR EN EL AÑO DE LA MEDICIÓN FUE 1,603’405,726.00 SOLES Y UNA POBLACIÓN DE 54746 HABITANTES.',\n",
       "       'The Inventory Boundary and the City Boundary are the same.', 'no',\n",
       "       'Energy use data applies to Xcel Energy service territory within the City boundaries.',\n",
       "       'Se incluyo estudio para la zona metropolitana, con la intención de ejecutar acciones en conjunto.',\n",
       "       'Inventory boundary is the same as city boundary',\n",
       "       \"On January 1, 2019, Edmonton officially annexed some outlying areas, resulting in its total area increasing to 772.61 km2. The newly annexed areas consist primarily of agricultural land.The transition of utilities and other services into these new areas has not yet been completed and as a result, this submission of Edmonton's 2019 community inventory does not include any emissions for these annexed lands except stationary, scope 1 emissions (I.1, I.2, I.3 and I.8), which are included. As per the GPC protocol, as soon the necessary data from these lands is available, all years of the inventory will be adjusted to reflect the new area of the city. These updates will then be provided to CDP.\",\n",
       "       'Covers the entire municipalities geographical area.', '243km2',\n",
       "       'El inventario de emisiones esta hecho considerando el edificio administrativo de la municipalidad. considerando las actividades realizadas únicamente por este edificio y los trabajadores en el.',\n",
       "       'There is no excluded area.',\n",
       "       'Inventory boundary is the same as the city boundary.',\n",
       "       'Klaipėda city environmental monitoring program 2017-2021 is complex, consisting of air, open water pool,groundwater, soil, noise, and wildlife monitoring. This is one of the first environmental monitoring programs, which for the first time to include the wildlife monitoring. Each part of the monitoring program provided a short overviewof monitoring the performance goal, the main tasks of monitoring, and the need for justification, the monitoring site selection methodology and other aspects. The purpose of monitoring is to manage the environmental quality within the territory of municipality to obtain more detailed information about the state of natural environment within the local municipal territoriesafter the observations than those obtained during the state environmental monitoring, which will make it possible to assess and predict environmental changes and possible consequences, to develop appropriate recommendations, to plan programs for mitigation of negative impact and plans as well as to implement the measures intended, to provide information to professionals and the public.Current existing laws in the Republic of Lithuania shall determine the tasks for the following monitoring:1. Regular and systematic monitoring of the state of natural environment and its elements:a) To determine anthropogenic impact of cities, villages, settlements and agricultural production on thewater bodies of the area;b) To determine the impact of regional industry, energycompanies and transport on the state of environmental air, noise level, quality of surface-water,groundwater and underwater (infiltration) in the municipality of Klaipėda district;c) To determine the extent of anthropogenic impact onthe regional ecosystem (pollution of air and surfacewater caused by industrial enterprises).2. To organize, assess and predict spontaneous changesresulting from anthropogenic effects, alternation trends of natural environment and possible consequences ongoing in natural environment within the municipality of Klaipeda district.3. To collect, analyze and submit information to publicauthorities and the public about the state of natural environment necessary to ensure sustainable development, territory planning, decision making concerningsocial development, education and other needs.4. To analyze and assess the effectiveness of ongoingenvironmental measures.',\n",
       "       'O inventário foi realizado para a Região Metropolitana de Campinas, englobando assim o município de Sumaré e mais outros dezenove municípios.',\n",
       "       \"The boundary is essentially the City of Windsor boundary, however there are a few areas where the emissions would represented a larger boundary.  However, these would not be significant contributions to the over emissions total.1.  The City's two wastewater treatment plant services the neighbouring towns of Lasalle and Tecumseh (~20% increase in flows above the City contribution).  2. On-road transportation.  Due to the proximity of the local towns, fuel sales may also include inputs from the neighbouring towns.\",\n",
       "       'Emission sources whose activities do not exist are scattered into fugitive emission categories,carbon storage, mineral industry, chemical industry, and metal industry, and electronics industry. TwoThe category for which the suspicion was not carried out was the category of BPO Substitute and Processing MaterialsIndustrial Liquid Waste. With these details, the level of completeness of the City GHG emission inventorySemarang in 2014-2018 reached 90%.',\n",
       "       'Información insuficiente para realizar estimaciones.',\n",
       "       'Abrange a totalidade do município, interessa uma abordagem consistente relativamente às adaptações inerentes à problemática das alterações climáticas.',\n",
       "       'Excludes non energy related emissions sources such as agricultural emissions, land use and forestry,  and emissions from industrial processes',\n",
       "       'The 2017 Greenhouse Gas Emissions Inventory covers the entire City as well as public transportation in adjoining areas. Public transportation is the only sector of the emissions inventory that is outside of the City boundary.',\n",
       "       'No se excluyó ningún área o fuente de emisión.',\n",
       "       'We have a region-wide community emissions inventory, which covers the entirety of Waterloo Region (Cambridge, Kitchener, North Dumfries, Waterloo, Wellesley, Wilmot, and Woolwich)',\n",
       "       'Se raelizo de la Carrera 14 y centro de Armenia',\n",
       "       'So far we have had to limit our measurable inventory to electricity and natural gas use reported by our utility. No information is available on local transportation emissions. No sound estimates exist for local vehicle miles traveled nor vehicle m.p.g.   Waste is picked up by three private companies that do not report their emissions. It is processed at a waste to energy facility and at a recycling facility outside the township borders. There are no known industrial, agricultural, or forestry emission within township borders.',\n",
       "       \"O inventário foi realizado para a  Região Metropolitana de Campinas (RMC) é uma unidade regional do Estado de São Paulo criada pela Lei Complementar Estadual nº 870, de 19 de junho de 2000, sendo constituída pelo agrupamento de 20 municípios, sendo eles:  Americana, Artur Nogueira, Campinas, Cosmópolis, Engenheiro Coelho, Holambra, Hortolândia, Indaiatuba, Itatiba, Jaguariúna, Monte Mor, Morungaba, Nova Odessa, Paulínia, Pedreira, Santa Bárbara d' Oeste, Santo Antônio de Posse, Sumaré, Valinhos e Vinhedo.A RMC possui população de 3.130.579 habitantes, área de 3.793,61 Km² e PIB de R$ 173.002.358.000,67.\",\n",
       "       'The  ICLEI GHG Inventory includes the Town of Vail limits as well as operations of Vail Resorts on Vail Mountain, which is permited to operate on White River National Forest land outside of the Town of Vail jurisdiction.',\n",
       "       '1- Transboundary emissions ( from activities that are being carried out away from the city boundary but have an effect in the city ) 2- Electricity generation',\n",
       "       'DKI Jakarta Province',\n",
       "       'only big (national) infrastructures like rails and highways',\n",
       "       'El inventario de emisiones de GEI comprende el cantón de Cañas en su totalidad, incluyendo los cincodistritos que lo conforman: Bebedero, Cañas, Palmira, Porozal y San Miguel.Comprende una superficie de 682,20 km² y su cabecera es la homónima ciudad de Cañas. Posee una población de 26 201 habitantes.Cañas tiene una forma alargada, con dirección noreste a suroeste, desde la divisoria de aguas de la Cordillera Volcánica de Guanacaste (Parque nacional Volcán Tenorio), hasta las tierras bajas cerca de la desembocadura del Río Tempisque. Bordea los ríos Bebedero y Tenorio en su límite occidental. Las coordenadas geográficas medias de Cañas están dadas por 10º27\\'04\" latitud norte y 85°06\\'47\" longitud oeste. Su anchura máxima es de sesenta y un kilómetros, en dirección noreste a suroeste, desde la naciente de quebrada Las Vueltas, a unos 4.400 metros al oeste de la cima del cerro Montezuma, hasta unos 2.500 metros al sur del muelle 9 Socios ejecutantes del Ferry Tempisque, en el litoral del Golfo de Nicoya.',\n",
       "       'La limite géographique est la Principauté de Monaco.',\n",
       "       'Inventory covers entire City of Dar es Salaam in Tanzania belong to Africa region with the Land area (km2) of 1,393with the GDP of 6,896,741,546\\twith the population of 6,008,135 accounted\\tin 2016',\n",
       "       'Population, 2016: 720,0002Population, 2050: 1,368,0003New dwellings, 2018–2050: 240,000 unitsNew non-residential floor space, 2018–2050: 6,720,000 m2 (72,315,000 ft2)GHG emissions, 2016: 7.7 tCO2e/personGHG emissions under the BAU scenario, 2050: 4.7 tCO2e/personGHG emissions under the low carbon scenario, 2050: 1.4 tCO2e/personTotal energy consumption, 2016: 96,448,000 GJTotal energy consumption under the BAU scenario, 2050: 122,894,000 GJTotal energy consumption under the low carbon scenario, 2050: 60,798,000 GJTotal expenditures on energy, 2016: $2.5 billionSavings on fuel and electricity costs under the low carbon scenario, 2018–2050: $20 billion*Average fuel and electricity costs per household, including transportation, in 2016: $5,800Average fuel and electricity costs per household, including transportation, per year in 2050 as a result of the low carbon scenario: $2,650*Total investment required for the low carbon pathway scenario, 2018–2050: $31 billion*Total savings and revenue generation by the low carbon pathway, 2018-2050: $40.2 billion*Direct person years of employment generated as a result of the low carbon investments, 2018–2050: 210,000Total GHG emissions, 2016: 5,540,000 tCO2eTotal GHG emissions under the BAU scenario, 2050: 6,412,000 tCO2eTotal GHG emissions under the low carbon scenario, 2050: 1,907,000 tCO2eTotal GHG emissions under Region’s 2050 GHG reduction target: 905,000 tCO2e',\n",
       "       'AFOLU IPPU',\n",
       "       'Las estaciones de monitoreo del CeMCAQ están localizadas en puntos estratégicos de la Ciudad de Querétaro (delegaciones: Félix Osores FEO, Carrillo Puerto CAP, Bomberos BOM y Auditorio Josefa Ortiz AJO y de los municipios de El Marqués, Corregidora y San Juan del Río.La Red de estaciones de monitoreo atmosférico miden la concentración de contaminantes criterio, incluyendo ozono (O3), dióxido de azufre (SO2), dióxido de nitrógeno (NO2), monóxido de carbono (CO), partículas menores a 2.5 micrómetros (PM 2.5) y partículas menores a 10 micrómetros (PM 10).',\n",
       "       'El reporte únicamente incluye las emisiones de la Ciudad de México.',\n",
       "       'Los límites de la Huella de Carbono son aquellas en las cuales la Ilustre Municipalidad de Santiago es responsable como lo son las dependencias municipales, liceos, alumbrado público, combustible de los automóviles municipales  como por ejemplo. Todo aquello que la municipalidad deba pagar la cuenta, es aquello que entra dentro del inventario.',\n",
       "       'Excludes very minor sources of emissions, like wood-burning fireplaces and barge traffic.',\n",
       "       'Não houve áreas excluídas.', '-Son iguales, no difiere.',\n",
       "       \"The City uses both a core and a consumption approach to its GHG emissions inventory. The core inventory covers the entire geographic boundary of the city, and the consumption inventory goes beyond to include emissions generated elsewhere due to Oakland's demand for goods and services.\",\n",
       "       'Inventory covers the entire Iskandar Malaysia region.',\n",
       "       '389 companies, 30 government institution, military office, police station, and 3 forest conservation (Meru Betiri, Alas Purwo, and Blue Fire Kawah Ijen) in Banyuwangi City or about 62.000 ha from total forested area 360.000 ha.Data that being collected is electricity data, fuel usage data, and chemical fertilizer usage for agriculture purposes.GDP and population already mention above, and Banyuwangi will use this population data to calculate emission intensity.',\n",
       "       '82.67 km2 of new lands that were annexed by Edmonton as of Jan 1, 2019.',\n",
       "       'Foram excluídas as emissões oriundas dos  queima de combustíveis de aviação e dos setores: processos industriais e/ou uso de produtos e agricultura, florestas ou outros usos do solo.',\n",
       "       'Covers Lahti geographical area. Calculation is basically production-based.',\n",
       "       'This carbon inventory was produced by the University of Exeter and covers the County of Cornwall.',\n",
       "       'The following GHGs were evaluated, but were not found in the inventory:• Hydrofluorocarbons (HFCs)• Perfluorocarbons (PFCs)• Sulfur Hexafluoride (SF6)• Nitrogen Trifluoride (NF3)Non-GPC Information-Only Items: The GPC protocol does not recognize emissions avoidedthrough the purchase of RECs, installation of renewable energy systems, or recycling. However,cities frequently want to understand the potential impact of these activities. For Park City, theseitems are calculated as “information-only” and include:- recycling;- green power;- renewable energy; and- beer production. Note: beer production is included here because it produces biogenicemissions and does not contribute to metric tons of carbon dioxide equivalents (MTCO2e).There were no significant land changes.Emissions generated from land use changes were assumed to be minimal.',\n",
       "       'This does not include the adjoining areas of the city.',\n",
       "       'All the district.', 'No deviation',\n",
       "       'City boundary; estimated 2018 population: 200,591', 'No difiere',\n",
       "       'El Centro de Monitoreo de la Calidad del Aire del Estado de Querétaro (CeMCAQ) es la entidad encargada de monitorear la presencia de contaminantes ambientales en el aire de la Ciudad de Querétaro, su área conurbada y sitios específicos del Estado. El CeMCAQ es la referencia estatal de calidad del aire.  El funcionamiento y operación del CeMCAQ están orientados a proveer información que sirva para proteger la salud de la población y para generar insumos de calidad del aire útiles en la formulación de políticas ambientales y para la planeación estratégica del desarrollo del Estado de Querétaro. Se cuenta con 7 estaciones de monitoreo localizadas en puntos estratégicos de la Ciudad de Querétaro y de los municipios de El Marqués, Corregidora y San Juan del Río. En el municipio de Querétaro se tienen cuatro ubicadas en las delegaciones: Félix Osores FEO, Carrillo Puerto CAP, Bomberos BOM y Auditorio Josefa Ortiz AJO. En 2015, el Producto Interno Bruto (PIB) del Estado de Querétaro fue de 402,829 millones de pesos corrientes, con lo que se aportó 2.35% al PIB nacional. En ese mismo año el sector terciario contribuyó con el 52.71% del PIB estatal, por debajo del promedio nacional (63.81%), así como el sector primario (agropecuario, por ejemplo) contribuye con el 2.39% ubicándose también por debajo del nacional (3.36%).',\n",
       "       'Scope 3 emissions are not currently counted under the Territory Inventory.',\n",
       "       'EN EL AÑO 2017 SE REALIZÓ EL INVENTARIO GASES DE EFECTO INVERNADERO EN TODO EL DISTRITO DE MAGDALENA DEL MAR, EN ESTE INVENTARIO SOLO SE REALIZARON MEDICIONES DE EMISIONES CORRESPONDIENTES AL ALCANCE 1 (ENERGÍA ESTACIONARIA) Y ALCANCE 2 (GENERACIÓN DE RESIDUOS), NO SE REALIZARON MEDICIONES PARA EL SECTOR TRANSPORTE CORRESPONDIENTE AL ALCANCE 3; SEGÚN EL PROTOCOLO GLOBAL PARA INVENTARIOS DE EMISIONES DE GASES DE EFECTO INVERNADERO A ESCALA COMUNITARIA',\n",
       "       \"We are compiling both a community inventory which covers the entire city and a municipal inventory that covers the City's operations and related emissions.\",\n",
       "       'A avaliação englobou toda a área da cidade, que é urbana em sua totalidade, tendo os seguintes setores definidos:  residencial, comercial/institucional, industrial, transportes dentro da cidade e gerenciamento de resíduos. Ou seja, o limite do inventário abrange todas Regiões Político Administrativas (RPAs) do Recife, em sua totalidade de população: 1.617.183 e PIB per capta de R$ 19.540,20.',\n",
       "       'Es un inventario realizado a través de la metodología programa país carbono neutralidad 2.0 para la categoría cantonal (todo el cantón de Belén)',\n",
       "       'De acordo com as premissas estabelecidas pela Agência de Energia do Porto',\n",
       "       'Il couvrira une superficie de 20 000 Km2 et bénéficiera à 10 millions d’habitants dont en premier lieu, aux 800 000 de Cocody. Pour s’assurer de ses chances de succès à plus de 95%,  il a été élaboré d’abord en avenir certain puis  incertain et à hypothèse basse avec risques',\n",
       "       'It covers administrative boundary of a local government.',\n",
       "       'This inventory, as does the entirety of this questionnaire, relates only to our 7 core constituent members authority areas.',\n",
       "       '1. out-of-boundary waste and wastewater2. transmission and distribution3. out of boundary transportation4. other indirect emissions5. agriculture, forestry, & other land use',\n",
       "       'Through traffic on the A1, national rail traffic, aviation, and shipping are all excluded.',\n",
       "       'Energía, Agropecuaria, USCUSS y Desechos', 'No areas excluded.',\n",
       "       'No areas of Vail are excluded.',\n",
       "       'Follows GPC BASIC Plus scope, so includes emissions from power generated outside city boundaries, city-generated waste landfilled outside city boundary, and trans boundary transportation emissions.',\n",
       "       'geographical city boundary is for the Hobart municipality',\n",
       "       'Uso de productos. Se desestiman por su baja aplicabilidad en la localidad otros sectores. A saber: combustibles sólidos fuera del sector residencial, las emisiones generadas por el compostaje domiciliario que pueda ser llevado adelante como iniciativa particular y la incineración de residuos peligrosos.',\n",
       "       'Transportation inventory is excluded due to difficulty in getting data in community level',\n",
       "       'Urbanized area within Broward County, includes Port and Airport. Does not include Conservation areas to the west.',\n",
       "       'It is intended to carry out the research of air pollution in municipality of Klaipėda. The places located closest to the high-traffic streets, within the environment of public buildings (school, dispensary, culturalcenter, ward, etc.) and residential buildings nearby thepollution sources of potential risk (enterprises engaged in environmental emissions; boilers; trunk-roads; railways; agricultural companies, etc.) have been selected for measurement in the municipality of Klaipėda.',\n",
       "       'Existe un análisis a través de metodología creada por tesista (academia) que estudió las emisiones a nivel residencial, abarcando toda la comuna. Además se trabaja para tener un análisis del impacto de las emisiones a nivel institucional.',\n",
       "       'All non-constituent authorities are not included in this report.',\n",
       "       'Data not available.',\n",
       "       'O modal rodoviário no Escopo 3 ficou sem informação, pois não foi possível diferenciar emissões de Escopo 1 ou 3 por meio do critério de origem das vendas dos combustíveis tanto nos casos em que o combustível foi adquirido em Sorocaba e a atividade foi desempenhada fora da cidade quanto nos casos em que o combustível foi adquirido fora da cidade e a atividade foi desempenhada em Sorocaba, pois as bases de dados não captam tal informação. Geração e tratamento de resíduos sólidos industriais e de efluentes líquidos industriais não foram incluídos pela dificuldade no acesso aos dados, assim como as emissões associadas a Processos Industriais e Uso de Produtos. Algumas das indústrias presentes no município utilizam como insumos ou matérias primas algumas substâncias que implicam em emissões de GEE durante a etapa de uso ou consumo delas, mas em virtude da impossibilidade de acessar as informações de consumo de tais substâncias na esfera privada, decidiu-se pela exclusão desse grupo de emissões. Outra exclusão feita neste inventário foi quanto ao grupo de emissões de Agricultura, Florestas e Outros Usos do Solo. Considerando análise do 1° inventário de emissões do município, identificou-se que este setor não possui contribuição significativa para as emissões do município, e ainda de acordo com o GPC 2012, esse grupo de emissões também pode ser excluído, uma vez que sua aplicação em nível de governo local urbano é complexa e muitas vezes irrelevante. Emissões de hidrofluorcarbonos (HFCs), perfluorcarbonos (PFCs) e hexafluoreto de enxofre (SF6), não foram identificadas no Município para as fontes inventariadas.',\n",
       "       'Within the Eugene Urban Growth Boundary', 'Área Rural',\n",
       "       'El inventario es parte del Plan de Acción Climática Municipal, elaborado particularmente para el municipio de Xalapa con asesoría de ICLEI,  por lo que no se excluyó ninguna parte del territorio. No obstante, no se tiene el detalle de cálculo de cada categoría, ya que únicamente se cuenta con el resumen en el documento terminado y publicado, por lo que no podría  indicarse si se excluyó alguna fuente en particular.',\n",
       "       'Per the GPC protocol, cities shall establish a geographic boundary that identifies the spatial dimensions or physical perimeter of the inventories boundary. Park City has set its boundary to reflect the political municipal limits.',\n",
       "       '1. Emisiones generadas por el cambio de uso de suelo no fue estimado (no se contaba con metodología y factores de emisión nacionales para este subsector).2. No ocurren en el distrito: -Dentro del sector de Energía Estacionaria, los siguientes subsectores : 1. Industrias energéticas, 2. emisiones fugitivas provenientes de la minería, el procesamiento, el almacenamiento y el transporte de carbón y  3.fuentes  fugitivas provenientes de los sistemas de petróleo y gas natural.- En el sector transporte, no se emplea el transporte por medio de navegación marítima, aviación ni ferroviario.-En el sector de residuos no ocurre incineración y quema a cielo abierto de residuos generados en la ciudad. - En el sector de Procesos industriales y uso de productos: no ocurren dentro del distrito emisiones de procesos industriales.3. Fuentes que quedaron en la categoría de no estimadas  (Al encontrarse en categoría opcional según la metodología nacional, no fue considerado en el inventario por cuestiones de tiempo). Las fuentes no estimadas son: -Fuentes no especificadas del sector de energía estacionaria.- Alcance 3 del sector energía estacionaria (es decir emisiones que se producen fuera de los límites del distrito como resultado de las actividades que tienen lugar dentro de los límites del distrito).',\n",
       "       'The City of Denton is a full service city, owning and operating their own landfill, electric utility, as well as drinking water and wastewater treatment plants. The boundary was selected as the city limits because this is the service area of all municipal operations. The electric utility does not service all areas within the city limits. Both Oncor and Coserve (two supplemental electric companies) are contacted each year to obtain electric usage data from these area. This ensures that the boundary of the inventory remains the same as the city boundary, which is (231.2 square km) . In keeping these two areas the same, data such as population and GDP are able to be used more accurately. The estimated population for the CIty of Denton in 2018 was 138,541.  The GDP for the DFW metroplex that includes the City of Denton is 64,824.',\n",
       "       'City boundary limitsPopulation 701,547 GDP  $140,279,900,000 (USD)',\n",
       "       'The GHG emissions inventory was prepared for the territory of the Municipality of Cascais.',\n",
       "       'Industry', 'Abarca solo el limite del municipio.',\n",
       "       'N/ALand area (km2) within city boundary: 251 km2',\n",
       "       'We report about the BASIC Category of GPC.',\n",
       "       'Los limites para la elaboración del inventario, se definió a través de los limites de la Junta Intermunicipal de Medio Ambiente de Sierra Occidental y Costa, que comprende 8 municipios del estado de Jalisco.',\n",
       "       'We include only the emissions that the municipality can control from its buildings, lights, fleet.',\n",
       "       'Mas, sendo somente Belo Horizonte, está incluído no Escopo 3 emissões de resíduos e aviação, localizados nas cidades de Sabará e Confins respectivamente, na Região Metropolitana de Belo Horizonte.',\n",
       "       'The review ostensibly only covered the city limits at the time it was conducted.',\n",
       "       'Excludes anything outside city limits and the GPC BASIC requirements',\n",
       "       'Virginia Tech Campus', 'IPPU, AFOLU',\n",
       "       'city and the surrounding region https://www.tallinn.ee/est/energiaagentuur/Heitkoguste-inventuur',\n",
       "       'Abarca todo el Estado de Baja California Sur'], dtype=object)"
      ]
     },
     "execution_count": 57,
     "metadata": {},
     "output_type": "execute_result"
    }
   ],
   "source": [
    "quest = 'Please indicate the category that best describes the boundary of your city-wide GHG emissions inventory.'\n",
    "select_question(cwe, quest)['Response Answer'].unique()"
   ]
  },
  {
   "cell_type": "markdown",
   "metadata": {},
   "source": [
    "## Quantification\n",
    "\n",
    "- How many cities in 2018, 2019 and 2020\n",
    "- The final report and notebook should be like:\n",
    "    1. Introduction / 2. Data validation\n",
    "    2. City-wide emissions\n",
    "    3. ....\n",
    "    7. Emission reduction\n",
    "    8. Correlation / K-means clustering between different parents sections\n",
    "\n",
    "Which file have the data location of the city ? (lon, lat)\n",
    "\n",
    "Colocate lon, lat of cities with external dataset from WHO to add additional support\n",
    "\n",
    "Data Visualisation"
   ]
  },
  {
   "cell_type": "code",
   "execution_count": null,
   "metadata": {},
   "outputs": [],
   "source": []
  }
 ],
 "metadata": {
  "kernelspec": {
   "display_name": "Python 3",
   "language": "python",
   "name": "python3"
  },
  "language_info": {
   "codemirror_mode": {
    "name": "ipython",
    "version": 3
   },
   "file_extension": ".py",
   "mimetype": "text/x-python",
   "name": "python",
   "nbconvert_exporter": "python",
   "pygments_lexer": "ipython3",
   "version": "3.9.0"
  },
  "papermill": {
   "duration": 59.359349,
   "end_time": "2020-10-14T18:49:37.020906",
   "environment_variables": {},
   "exception": null,
   "input_path": "__notebook__.ipynb",
   "output_path": "__notebook__.ipynb",
   "parameters": {},
   "start_time": "2020-10-14T18:48:37.661557",
   "version": "2.1.0"
  }
 },
 "nbformat": 4,
 "nbformat_minor": 4
}
